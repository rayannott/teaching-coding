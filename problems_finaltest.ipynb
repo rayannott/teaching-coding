{
 "cells": [
  {
   "cell_type": "markdown",
   "metadata": {},
   "source": [
    "# Easy"
   ]
  },
  {
   "cell_type": "markdown",
   "metadata": {},
   "source": [
    "## Окружности на плоскости"
   ]
  },
  {
   "cell_type": "code",
   "execution_count": null,
   "metadata": {},
   "outputs": [],
   "source": [
    "import math\n",
    "def circles(x1, y1, r1, x2, y2, r2):\n",
    "    d = (x2-x1)**2 + (y2-y1)**2\n",
    "    return abs(r1-r2)**2 <= d <= (r1+r2)**2"
   ]
  },
  {
   "cell_type": "code",
   "execution_count": null,
   "metadata": {},
   "outputs": [],
   "source": [
    "tests = [\n",
    "    (1, 1, 3, 0, 1, 4),\n",
    "\t(3, 2, 2, 2, 1, 4),\n",
    "\t(-1,-3,3,2,4,4),\n",
    "\t(0,0,1,0,1,3),\n",
    "\t(-1,-1,1.4,1,1,1.4),\n",
    "\t(4,5,2,3,4,1),\n",
    "\t(2,1,1,1,2,1),\n",
    "\t(1,1,1,2,2,2),\n",
    "\t(-2.4,4.1,1,2.8,2.9,3.9),\n",
    "\t(142,32,45,100,-52,130),\n",
    "]\n",
    "for t in tests:\n",
    "    print(t, circles(*t))"
   ]
  },
  {
   "cell_type": "markdown",
   "metadata": {},
   "source": [
    "## Бассейн"
   ]
  },
  {
   "cell_type": "code",
   "execution_count": null,
   "metadata": {},
   "outputs": [],
   "source": [
    "def pool(N, M, x, y):\n",
    "    return min(x, min(N,M) - x, y, max(N,M) - y)"
   ]
  },
  {
   "cell_type": "code",
   "execution_count": null,
   "metadata": {},
   "outputs": [],
   "source": [
    "tests = [\n",
    "    (23, 52, 8, 43), \n",
    "    (18, 90, 3, 63), \n",
    "    (96, 1, 0, 83), \n",
    "    (49, 31, 14, 32), \n",
    "    (79, 78, 49, 79),\n",
    "    (59, 60, 59, 60),\n",
    "    (4, 4, 0, 0),\n",
    "    (50927, 293875, 28453, 293865),\n",
    "    (100, 200, 20, 10),\n",
    "    (2, 100, 0, 100)\n",
    "]\n",
    "for t in tests:\n",
    "    print(t, pool(*t))"
   ]
  },
  {
   "cell_type": "markdown",
   "metadata": {},
   "source": [
    "# Medium"
   ]
  },
  {
   "cell_type": "markdown",
   "metadata": {},
   "source": [
    "## Стойкие числа"
   ]
  },
  {
   "cell_type": "code",
   "execution_count": null,
   "metadata": {},
   "outputs": [],
   "source": [
    "def prod(a):\n",
    "    res = 1\n",
    "    for d in map(int, list(str(a))):\n",
    "        if d:\n",
    "            res *= d\n",
    "        else:\n",
    "            return 0\n",
    "    return res\n",
    "\n",
    "def depth(a):\n",
    "    if len(str(a)) == 1:\n",
    "        return 0\n",
    "    n = 0\n",
    "    while len(str(a)) != 1:\n",
    "        a = prod(a)\n",
    "        n += 1\n",
    "    return n"
   ]
  },
  {
   "cell_type": "code",
   "execution_count": null,
   "metadata": {},
   "outputs": [],
   "source": [
    "tests = [7,\t29,\t77,\t301, 679, 737, 830,\t882, 976, 989]\n",
    "for t in tests:\n",
    "    print(t, depth(t))"
   ]
  },
  {
   "cell_type": "markdown",
   "metadata": {},
   "source": [
    "## Весы"
   ]
  },
  {
   "cell_type": "code",
   "execution_count": null,
   "metadata": {},
   "outputs": [],
   "source": [
    "def weights(s):\n",
    "    n = 0\n",
    "    vals = [1, 5, 10, 50, 100, 500, 1000]\n",
    "    for v in reversed(vals):\n",
    "        if not s:\n",
    "            break\n",
    "        if s // v:\n",
    "            # print(v, s // v)\n",
    "            n += s // v\n",
    "            s -= s // v * v\n",
    "    return n\n"
   ]
  },
  {
   "cell_type": "code",
   "execution_count": null,
   "metadata": {},
   "outputs": [],
   "source": [
    "tests = [10, 1, 45, 1001, 999, 764, 333, 2097, 138764, 391873453]\n",
    "for t in tests:\n",
    "    print(t, weights(t))"
   ]
  },
  {
   "cell_type": "markdown",
   "metadata": {},
   "source": [
    "## Одинаковые символы"
   ]
  },
  {
   "cell_type": "code",
   "execution_count": null,
   "metadata": {},
   "outputs": [],
   "source": [
    "tests = ['qfi', 'gjieieowwk', '1q44id999o', 'wwewwee', 'r', '', 'www', 'sjrrjqeeefjtttt', 'KKKKK', 'iiiioioioiwufhrruejjjq']"
   ]
  },
  {
   "cell_type": "code",
   "execution_count": null,
   "metadata": {},
   "outputs": [],
   "source": [
    "def longest_subsequence(s):\n",
    "    if not s:\n",
    "        return 0\n",
    "    l = 1\n",
    "    max_l = -1\n",
    "    for i in range(len(s)):\n",
    "        if i < len(s)-1:\n",
    "            if s[i+1]==s[i]:\n",
    "                l += 1\n",
    "            else:\n",
    "                l = 1\n",
    "        max_l = max(max_l, l)\n",
    "    return max_l"
   ]
  },
  {
   "cell_type": "code",
   "execution_count": null,
   "metadata": {},
   "outputs": [],
   "source": [
    "for t in tests:\n",
    "    print(f'[{t}]: {longest_subsequence(t)}')"
   ]
  },
  {
   "cell_type": "markdown",
   "metadata": {},
   "source": [
    "## Что вижу, то и пишу"
   ]
  },
  {
   "cell_type": "code",
   "execution_count": null,
   "metadata": {},
   "outputs": [],
   "source": [
    "def next_in_seq(s):\n",
    "    i = 0\n",
    "    res = ''\n",
    "    while i < len(s):\n",
    "        k = 1\n",
    "        while i+k < len(s) and s[i+k] == s[i]:\n",
    "            k += 1\n",
    "        res += f'{k}{s[i]}'\n",
    "        i += k\n",
    "    return res"
   ]
  },
  {
   "cell_type": "markdown",
   "metadata": {},
   "source": [
    "# Hard"
   ]
  },
  {
   "cell_type": "markdown",
   "metadata": {},
   "source": [
    "## Квест"
   ]
  },
  {
   "cell_type": "code",
   "execution_count": null,
   "metadata": {},
   "outputs": [],
   "source": [
    "def key_to_pick(table):\n",
    "    way_rev = [table.index(-1)]\n",
    "    while len(way_rev) != len(table):\n",
    "        try:\n",
    "            way_rev.append(table.index(way_rev[-1]))\n",
    "        except ValueError as e:\n",
    "            return -1\n",
    "    return way_rev[-1]"
   ]
  },
  {
   "cell_type": "code",
   "execution_count": null,
   "metadata": {},
   "outputs": [],
   "source": [
    "tests = [\n",
    "    [2, 3, -1, 4, 5, 0],\n",
    "    [9, 2, -1, 5, 0, 6, 4, 8, 3, 1],\n",
    "    [3, 6, 4, -1, 5, 2, 0],\n",
    "    [2, 4, 3, 5, 1, -1],\n",
    "    [1, -1],\n",
    "    [-1, 0, 1, 2, 3, 4, 5],\n",
    "    [1, 3, 4, 6, -1, 5, 2],\n",
    "    [1, -1, 3, 4, 0],\n",
    "    [1, 7, 3, -1, 5, 2, 4, 0],\n",
    "    [4, 3, 11, 2, 8, 7, -1, 0, 10, 12, 9, 6, 13, 1]\n",
    "\n",
    "]\n",
    "for t in tests:\n",
    "    print(t, key_to_pick(t))"
   ]
  },
  {
   "cell_type": "markdown",
   "metadata": {},
   "source": [
    "## Valid parentheses"
   ]
  },
  {
   "cell_type": "code",
   "execution_count": null,
   "metadata": {},
   "outputs": [],
   "source": [
    "def is_valid_par(s):\n",
    "    cnt = {'(': 0, ')': 0}\n",
    "    for ch in s:\n",
    "        cnt[ch] += 1\n",
    "        if cnt[')'] > cnt['(']:\n",
    "            return False\n",
    "    return cnt['('] == cnt[')']"
   ]
  },
  {
   "cell_type": "code",
   "execution_count": null,
   "metadata": {},
   "outputs": [],
   "source": [
    "tests = ['(())', ')()(', '(()())', '())()()', '((()())((())))', '(']\n",
    "tests2 = ['()()', '(()())', '()[]', '([)]', '([()]()[()][]()', '[]', '[()]', '][', '(]', '[']"
   ]
  },
  {
   "cell_type": "markdown",
   "metadata": {},
   "source": [
    "# [Answer only]"
   ]
  },
  {
   "cell_type": "markdown",
   "metadata": {},
   "source": [
    "## Сумма факториалов цифр"
   ]
  },
  {
   "cell_type": "code",
   "execution_count": 1,
   "metadata": {},
   "outputs": [
    {
     "name": "stdout",
     "output_type": "stream",
     "text": [
      "ans: 40585\n"
     ]
    }
   ],
   "source": [
    "import math\n",
    "def sum_fact(a):\n",
    "    s = 0\n",
    "    for d in map(int, list(str(a))):\n",
    "        s += math.factorial(d)\n",
    "    return a == s\n",
    "i = 146\n",
    "while True:\n",
    "    if sum_fact(i):\n",
    "        print('ans:', i)\n",
    "        break\n",
    "    i += 1\n"
   ]
  },
  {
   "cell_type": "markdown",
   "metadata": {},
   "source": [
    "## Радикал натурального числа"
   ]
  },
  {
   "cell_type": "code",
   "execution_count": 2,
   "metadata": {},
   "outputs": [],
   "source": [
    "from sympy.ntheory import prime, isprime\n",
    "from math import prod"
   ]
  },
  {
   "cell_type": "code",
   "execution_count": 11,
   "metadata": {},
   "outputs": [],
   "source": [
    "# using nth prime\n",
    "def rad1(n):\n",
    "    factors = set()\n",
    "    i = 1\n",
    "    while n > 1:\n",
    "        p = prime(i)\n",
    "        while n % p == 0:\n",
    "            n //= p\n",
    "            factors.add(p)\n",
    "        i += 1\n",
    "    return prod(factors)\n",
    "        "
   ]
  },
  {
   "cell_type": "code",
   "execution_count": 3,
   "metadata": {},
   "outputs": [],
   "source": [
    "# using primes generator\n",
    "def primes():\n",
    "    i = 1\n",
    "    while True:\n",
    "        if isprime(i):\n",
    "            yield i\n",
    "        i += 1\n",
    "\n",
    "def rad2(n):\n",
    "    p = primes() # prime numbers generator\n",
    "    factors = set()\n",
    "    while n > 1:\n",
    "        this_prime = next(p)\n",
    "        while not n % this_prime:\n",
    "            n //= this_prime\n",
    "            factors.add(this_prime)\n",
    "    return prod(factors)"
   ]
  },
  {
   "cell_type": "code",
   "execution_count": 12,
   "metadata": {},
   "outputs": [
    {
     "name": "stdout",
     "output_type": "stream",
     "text": [
      "430 ms ± 87.2 ms per loop (mean ± std. dev. of 7 runs, 1 loop each)\n"
     ]
    }
   ],
   "source": [
    "%timeit rad1(1249875)"
   ]
  },
  {
   "cell_type": "code",
   "execution_count": 10,
   "metadata": {},
   "outputs": [
    {
     "name": "stdout",
     "output_type": "stream",
     "text": [
      "117 µs ± 15.7 µs per loop (mean ± std. dev. of 7 runs, 10,000 loops each)\n"
     ]
    }
   ],
   "source": [
    "%timeit rad2(1249875)"
   ]
  },
  {
   "cell_type": "markdown",
   "metadata": {},
   "source": [
    "# Harder"
   ]
  },
  {
   "cell_type": "markdown",
   "metadata": {},
   "source": [
    "## Hard parentheses"
   ]
  },
  {
   "cell_type": "code",
   "execution_count": null,
   "metadata": {},
   "outputs": [],
   "source": [
    "def is_valid_par2(s):\n",
    "    # supports multiple parentheses symbols\n",
    "    stack = []\n",
    "    parentheses = ['()', '[]', '{}']\n",
    "    open_close = {el[0]: el[1] for el in parentheses}\n",
    "    for ch in s:\n",
    "        if ch in open_close:\n",
    "            stack.append(open_close[ch])\n",
    "        else:\n",
    "            if not stack or ch != stack.pop():\n",
    "                return False\n",
    "    return not stack"
   ]
  },
  {
   "cell_type": "markdown",
   "metadata": {},
   "source": [
    "## Дроби"
   ]
  },
  {
   "cell_type": "code",
   "execution_count": null,
   "metadata": {},
   "outputs": [],
   "source": [
    "def gcd(a, b):\n",
    "    if max(a, b) % min(a, b) == 0:\n",
    "        return min(a, b)\n",
    "    while a != b:\n",
    "        if a > b:\n",
    "            a = a - b\n",
    "        else:\n",
    "            b = b - a\n",
    "    return a\n",
    "\n",
    "def lcm(a, b):\n",
    "    return a * b // gcd(a, b)\n",
    "\n",
    "def number_of_chips(var):\n",
    "    if len(var) == 1:\n",
    "        return var[0]\n",
    "    if len(var) == 2:\n",
    "        return lcm(*var)\n",
    "    res = lcm(*var[:2])\n",
    "    for num in var[2:]:\n",
    "        res = lcm(num, res)\n",
    "    return res\n",
    "    "
   ]
  },
  {
   "cell_type": "code",
   "execution_count": null,
   "metadata": {},
   "outputs": [],
   "source": [
    "tests = [\n",
    "    [12, 18, 20],\n",
    "    [30, 48, 14, 56],\n",
    "    [2],\n",
    "    [1,2,3,4,5,6,7,8,9],\n",
    "    [55, 121],\n",
    "    [3, 33, 333, 3333]\n",
    "]\n",
    "for t in tests:\n",
    "    print(t, number_of_chips(t))"
   ]
  },
  {
   "cell_type": "markdown",
   "metadata": {},
   "source": [
    "## Сверхсоставные числа"
   ]
  },
  {
   "cell_type": "code",
   "execution_count": null,
   "metadata": {},
   "outputs": [],
   "source": [
    "def first_n_hcn(n):\n",
    "    def d(n):\n",
    "        if n == 1:\n",
    "            return 1\n",
    "        res = 2\n",
    "        for i in range(2, n//2+1):\n",
    "            if n % i == 0:\n",
    "                res += 1\n",
    "        return res\n",
    "    \n",
    "    if n == 1:\n",
    "        return [1]\n",
    "    if n == 2:\n",
    "        return [1, 2]\n",
    "\n",
    "    res = [1, 2]\n",
    "    running_max = 2\n",
    "    i = 3\n",
    "    while len(res) < n:\n",
    "        if (new:=d(i)) > running_max:\n",
    "            running_max = new\n",
    "            res.append(i)\n",
    "        i += 1\n",
    "    return res"
   ]
  },
  {
   "cell_type": "code",
   "execution_count": null,
   "metadata": {},
   "outputs": [],
   "source": [
    "first_n_hcn(10)"
   ]
  },
  {
   "cell_type": "markdown",
   "metadata": {},
   "source": [
    "## Кузнечик"
   ]
  },
  {
   "cell_type": "code",
   "execution_count": null,
   "metadata": {},
   "outputs": [],
   "source": [
    "from functools import cache\n",
    "\n",
    "@cache\n",
    "def num_of_ways1(n):\n",
    "    if n == 1 or n == 2:\n",
    "        return 1\n",
    "    return num_of_ways1(n-1) + num_of_ways1(n-2)"
   ]
  },
  {
   "cell_type": "code",
   "execution_count": null,
   "metadata": {},
   "outputs": [],
   "source": [
    "def num_of_ways2(n):\n",
    "    phi = (1+5**.5)/2\n",
    "    return round((phi**n - (1-phi)**n)/5**.5)"
   ]
  },
  {
   "cell_type": "code",
   "execution_count": null,
   "metadata": {},
   "outputs": [],
   "source": [
    "tests = [\n",
    "    2,\n",
    "\t3,\n",
    "\t5,\n",
    "\t6,\n",
    "\t7,\n",
    "\t8,\n",
    "\t13,\n",
    "\t17,\n",
    "\t35,\n",
    "\t40\n",
    "]\n",
    "for t in tests:\n",
    "    print(t, num_of_ways2(t))"
   ]
  },
  {
   "cell_type": "markdown",
   "metadata": {},
   "source": [
    "## Нули на конце факториала"
   ]
  },
  {
   "cell_type": "code",
   "execution_count": null,
   "metadata": {},
   "outputs": [],
   "source": [
    "def zeros_at_the_end(n):\n",
    "    import math\n",
    "    max_pow_of_5 = int(math.log(n, 5))\n",
    "    res = 0\n",
    "    for pow_of_5 in range(1, max_pow_of_5+1):\n",
    "        res += n//5**pow_of_5\n",
    "    return res"
   ]
  },
  {
   "cell_type": "code",
   "execution_count": null,
   "metadata": {},
   "outputs": [],
   "source": []
  }
 ],
 "metadata": {
  "kernelspec": {
   "display_name": "Python 3.10.7 ('thevenv')",
   "language": "python",
   "name": "python3"
  },
  "language_info": {
   "codemirror_mode": {
    "name": "ipython",
    "version": 3
   },
   "file_extension": ".py",
   "mimetype": "text/x-python",
   "name": "python",
   "nbconvert_exporter": "python",
   "pygments_lexer": "ipython3",
   "version": "3.11.2"
  },
  "vscode": {
   "interpreter": {
    "hash": "ed53bbc5bb63d82bef993d908d40627d686f6f2593964cd5fe30071c0fd3037d"
   }
  }
 },
 "nbformat": 4,
 "nbformat_minor": 4
}
