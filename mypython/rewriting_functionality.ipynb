{
 "cells": [
  {
   "cell_type": "markdown",
   "metadata": {},
   "source": [
    "# My Python\n",
    "In this notebook, you will find have to write some built-in functions and classes in python from scratch. This is a good exercise to understand how they work under the hood.\n",
    "\n",
    "The functions that you will have to write are:\n",
    "- `sum`\n",
    "- `max`, `min`\n",
    "- `all`, `any`\n",
    "- `reversed`\n",
    "- `enumerate`\n",
    "- `zip`\n",
    "- `sorted`\n",
    "- `map`\n",
    "- `string.join`\n",
    "- `string.split`\n",
    "- `string.isupper`,\n",
    "- `string.title`\n",
    "\n",
    "The classes that you will have to write are:\n",
    "- `complex`\n",
    "- `collections.defaultdict`\n",
    "- `collections.Counter`\n",
    "- `dict`\n",
    "\n",
    "You can use the built-in functions and classes to test your implementation."
   ]
  },
  {
   "cell_type": "markdown",
   "metadata": {},
   "source": [
    "## functions"
   ]
  },
  {
   "cell_type": "markdown",
   "metadata": {},
   "source": [
    "### iterators"
   ]
  },
  {
   "cell_type": "code",
   "execution_count": 12,
   "metadata": {},
   "outputs": [],
   "source": [
    "from typing import Iterable, Any, SupportsIndex, Callable"
   ]
  },
  {
   "cell_type": "markdown",
   "metadata": {},
   "source": [
    "#### `sum`"
   ]
  },
  {
   "cell_type": "code",
   "execution_count": null,
   "metadata": {},
   "outputs": [],
   "source": [
    "def mysum(elements: Iterable[Any], start: Any = 0) -> Any:\n",
    "    \"\"\"\n",
    "    This function takes an iterable and returns the sum of all the elements in the iterable.\n",
    "\n",
    "    Args:\n",
    "        elements: An iterable of elements.\n",
    "        start: The starting value for the sum. The default is integer 0.\n",
    "    \n",
    "    Returns:\n",
    "        The sum of all the elements in the iterable.\n",
    "    \"\"\"\n",
    "    ..."
   ]
  },
  {
   "cell_type": "code",
   "execution_count": 10,
   "metadata": {},
   "outputs": [],
   "source": [
    "# test\n"
   ]
  },
  {
   "cell_type": "markdown",
   "metadata": {},
   "source": [
    "#### `max`, `min`"
   ]
  },
  {
   "cell_type": "code",
   "execution_count": null,
   "metadata": {},
   "outputs": [],
   "source": [
    "def mymax(elements: Iterable[Any]) -> Any:\n",
    "    \"\"\"\n",
    "    This function takes an iterable and returns the maximum value in the iterable.\n",
    "\n",
    "    Args:\n",
    "        elements: An iterable of elements.\n",
    "    \n",
    "    Returns:\n",
    "        The maximum value in the iterable.\n",
    "    \"\"\"\n",
    "    ...\n",
    "\n",
    "\n",
    "def mymin(elements: Iterable[Any]) -> Any:\n",
    "    \"\"\"\n",
    "    This function takes an iterable and returns the minimum value in the iterable.\n",
    "\n",
    "    Args:\n",
    "        elements: An iterable of elements.\n",
    "    \n",
    "    Returns:\n",
    "        The minimum value in the iterable.\n",
    "    \"\"\"\n",
    "    ..."
   ]
  },
  {
   "cell_type": "code",
   "execution_count": 11,
   "metadata": {},
   "outputs": [],
   "source": [
    "# test\n"
   ]
  },
  {
   "cell_type": "code",
   "execution_count": null,
   "metadata": {},
   "outputs": [],
   "source": [
    "# test\n"
   ]
  },
  {
   "cell_type": "markdown",
   "metadata": {},
   "source": [
    "#### `all`, `any`\n"
   ]
  },
  {
   "cell_type": "code",
   "execution_count": null,
   "metadata": {},
   "outputs": [],
   "source": [
    "def myall(elements: Iterable[Any]) -> bool:\n",
    "    \"\"\"\n",
    "    This function takes an iterable and returns True if all the elements in the iterable are True, otherwise False.\n",
    "\n",
    "    Args:\n",
    "        elements: An iterable of elements.\n",
    "    \n",
    "    Returns:\n",
    "        True if all the elements in the iterable are True, otherwise False.\n",
    "    \"\"\"\n",
    "    ...\n",
    "\n",
    "\n",
    "def myany(elements: Iterable[Any]) -> bool:\n",
    "    \"\"\"\n",
    "    This function takes an iterable and returns True if any of the elements in the iterable are True, otherwise False.\n",
    "\n",
    "    Args:\n",
    "        elements: An iterable of elements.\n",
    "    \n",
    "    Returns:\n",
    "        True if any of the elements in the iterable are True, otherwise False.\n",
    "    \"\"\"\n",
    "    ..."
   ]
  },
  {
   "cell_type": "code",
   "execution_count": null,
   "metadata": {},
   "outputs": [],
   "source": [
    "# test\n"
   ]
  },
  {
   "cell_type": "code",
   "execution_count": null,
   "metadata": {},
   "outputs": [],
   "source": [
    "# test\n"
   ]
  },
  {
   "cell_type": "markdown",
   "metadata": {},
   "source": [
    "\n",
    "#### `reversed`\n"
   ]
  },
  {
   "cell_type": "code",
   "execution_count": null,
   "metadata": {},
   "outputs": [],
   "source": [
    "def myreversed(elements: SupportsIndex) -> Iterable:\n",
    "    \"\"\"\n",
    "    This function takes an iterable and returns an iterable in reverse order.\n",
    "\n",
    "    Args:\n",
    "        elements: An iterable of elements.\n",
    "    \n",
    "    Returns:\n",
    "        An iterable of the elements in the iterable in reverse order.\n",
    "    \"\"\"\n",
    "    ..."
   ]
  },
  {
   "cell_type": "code",
   "execution_count": null,
   "metadata": {},
   "outputs": [],
   "source": [
    "# test\n"
   ]
  },
  {
   "cell_type": "markdown",
   "metadata": {},
   "source": [
    "\n",
    "#### `enumerate`\n"
   ]
  },
  {
   "cell_type": "code",
   "execution_count": null,
   "metadata": {},
   "outputs": [],
   "source": [
    "def myenumerate[T](elements: Iterable[T]) -> Iterable[tuple[int, T]]:\n",
    "    \"\"\"\n",
    "    This function takes an iterable and returns an iterable of tuples containing the index and the value of the elements in the iterable.\n",
    "\n",
    "    Args:\n",
    "        elements: An iterable of elements.\n",
    "    \n",
    "    Returns:\n",
    "        An iterable of tuples containing the index and the value of the elements in the iterable.\n",
    "    \"\"\"\n",
    "    ..."
   ]
  },
  {
   "cell_type": "markdown",
   "metadata": {},
   "source": [
    "\n",
    "#### `zip`\n"
   ]
  },
  {
   "cell_type": "code",
   "execution_count": null,
   "metadata": {},
   "outputs": [],
   "source": [
    "def myzip[T, U](iter1: Iterable[T], iter2: Iterable[U]) -> Iterable[tuple[T, U]]:\n",
    "    \"\"\"\n",
    "    This function takes two iterables and returns an iterable of tuples containing the elements of both iterables.\n",
    "\n",
    "    Args:\n",
    "        iter1: An iterable of elements.\n",
    "        iter2: An iterable of elements.\n",
    "    \n",
    "    Returns:\n",
    "        An iterable of tuples containing the elements of both iterables.\n",
    "    \"\"\"\n",
    "    ..."
   ]
  },
  {
   "cell_type": "code",
   "execution_count": null,
   "metadata": {},
   "outputs": [],
   "source": [
    "# test\n"
   ]
  },
  {
   "cell_type": "markdown",
   "metadata": {},
   "source": [
    "\n",
    "#### `map`"
   ]
  },
  {
   "cell_type": "code",
   "execution_count": null,
   "metadata": {},
   "outputs": [],
   "source": [
    "def mymap[I, O](function: Callable[[I], O], elements: Iterable[I]) -> Iterable[O]:\n",
    "    \"\"\"\n",
    "    This function takes a function and an iterable and returns an iterable \n",
    "    of the elements in the iterable after applying the function to each element.\n",
    "\n",
    "    Args:\n",
    "        function: A function that takes an element and returns an element.\n",
    "        elements: An iterable of elements.\n",
    "    \n",
    "    Returns:\n",
    "        An iterable of the elements in the iterable after applying the function to each element.\n",
    "    \"\"\"\n",
    "    ..."
   ]
  },
  {
   "cell_type": "code",
   "execution_count": null,
   "metadata": {},
   "outputs": [],
   "source": [
    "# test\n"
   ]
  },
  {
   "cell_type": "markdown",
   "metadata": {},
   "source": [
    "\n",
    "#### `sorted`\n"
   ]
  },
  {
   "cell_type": "code",
   "execution_count": null,
   "metadata": {},
   "outputs": [],
   "source": [
    "from typing import Iterable, TypeVar\n",
    "\n",
    "def mysorted[T](elements: Iterable[T], reverse: bool = False) -> list[T]:\n",
    "    \"\"\"\n",
    "    This function takes an iterable and returns a list of the elements in the iterable in sorted order.\n",
    "\n",
    "    Args:\n",
    "        elements: An iterable of elements that can be compared.\n",
    "        reverse: A boolean value. If True, the list is sorted in reverse order. The default is False.\n",
    "    \n",
    "    Returns:\n",
    "        A list of the elements in the iterable in sorted order.\n",
    "    \"\"\"\n",
    "    ..."
   ]
  },
  {
   "cell_type": "code",
   "execution_count": null,
   "metadata": {},
   "outputs": [],
   "source": [
    "# test\n"
   ]
  },
  {
   "cell_type": "markdown",
   "metadata": {},
   "source": [
    "### strings"
   ]
  },
  {
   "cell_type": "markdown",
   "metadata": {},
   "source": [
    "#### `join`"
   ]
  },
  {
   "cell_type": "code",
   "execution_count": null,
   "metadata": {},
   "outputs": [],
   "source": [
    "def join(elements: Iterable[str], sep: str) -> str:\n",
    "    \"\"\"\n",
    "    Join an iterable of strings with a separator.\n",
    "\n",
    "    Equivalent to `sep.join(lst)`.\n",
    "    \"\"\"\n",
    "    ..."
   ]
  },
  {
   "cell_type": "code",
   "execution_count": null,
   "metadata": {},
   "outputs": [],
   "source": [
    "# tests\n",
    "assert join([\"a\", \"b\", \"c\"], \", \") == \"a, b, c\"\n",
    "assert join([\"a\", \"b\", \"c\"], \"\") == \"abc\"\n",
    "assert join([\"a\"], \" \") == \"a\""
   ]
  },
  {
   "cell_type": "markdown",
   "metadata": {},
   "source": [
    "#### `split`"
   ]
  },
  {
   "cell_type": "markdown",
   "metadata": {},
   "source": [
    "Split the string into a list of strings split by the character given. If no character is given, split by space.\n",
    "\n",
    "E.g.:\n",
    "- `split('hello, world')` == `['hello,', 'world']`\n",
    "- `split('hello, world', ',')` == `['hello', ' world']`"
   ]
  },
  {
   "cell_type": "code",
   "execution_count": 4,
   "metadata": {},
   "outputs": [],
   "source": [
    "def split(string: str, delimeter: str = ' ') -> list[str]:\n",
    "    \"\"\"\n",
    "    Split a string into a list of strings using a delimeter.\n",
    "\n",
    "    Equivalent to `string.split(delimeter)`.\n",
    "    \"\"\"\n",
    "    ..."
   ]
  },
  {
   "cell_type": "code",
   "execution_count": 5,
   "metadata": {},
   "outputs": [],
   "source": [
    "# tests\n",
    "assert split(\"1 2 3\") == [\"1\", \"2\", \"3\"]\n",
    "assert split(\"hello world\") == [\"hello\", \"world\"]\n",
    "assert split(\"hello,world\", \",\") == [\"hello\", \"world\"]\n",
    "assert split(\"a b c d e\", \",\"), [\"a b c d e\"]"
   ]
  },
  {
   "cell_type": "markdown",
   "metadata": {},
   "source": [
    "#### `isupper`"
   ]
  },
  {
   "cell_type": "code",
   "execution_count": null,
   "metadata": {},
   "outputs": [],
   "source": [
    "def isupper(string: str) -> bool:\n",
    "    \"\"\"\n",
    "    Check if a string is all uppercase.\n",
    "\n",
    "    Equivalent to `string.isupper()`.\n",
    "\n",
    "    >>> isupper(\"HELLO\")\n",
    "    True\n",
    "    >>> isupper(\"Hello\")\n",
    "    False\n",
    "    >>> isupper(\"AB 123\")\n",
    "    True\n",
    "    >>> isupper(\"\")\n",
    "    False\n",
    "    \"\"\"\n",
    "    ..."
   ]
  },
  {
   "cell_type": "code",
   "execution_count": null,
   "metadata": {},
   "outputs": [],
   "source": [
    "# tests\n"
   ]
  },
  {
   "cell_type": "markdown",
   "metadata": {},
   "source": [
    "#### `title`"
   ]
  },
  {
   "cell_type": "code",
   "execution_count": null,
   "metadata": {},
   "outputs": [],
   "source": [
    "def title(string: str) -> str:\n",
    "    \"\"\"\n",
    "    Convert a string to title case.\n",
    "\n",
    "    Equivalent to `string.title()`.\n",
    "\n",
    "    >>> title(\"hello world\")\n",
    "    'Hello World'\n",
    "    >>> title(\"HELLO WORLD\")\n",
    "    'Hello World'\n",
    "    >>> title(\"hello, world\")\n",
    "    'Hello, World'\n",
    "    \"\"\"\n",
    "    ..."
   ]
  },
  {
   "cell_type": "code",
   "execution_count": null,
   "metadata": {},
   "outputs": [],
   "source": [
    "# tests\n"
   ]
  },
  {
   "cell_type": "markdown",
   "metadata": {},
   "source": [
    "## classes"
   ]
  },
  {
   "cell_type": "markdown",
   "metadata": {},
   "source": [
    "### `complex`"
   ]
  },
  {
   "cell_type": "code",
   "execution_count": null,
   "metadata": {},
   "outputs": [],
   "source": [
    "class MyComplex:\n",
    "    def __init__(self, real: float, imag: float) -> None:\n",
    "        ...\n",
    "    \n",
    "    def __add__(self, other: 'MyComplex') -> 'MyComplex':\n",
    "        ...\n",
    "    \n",
    "    def __sub__(self, other: 'MyComplex') -> 'MyComplex':\n",
    "        ...\n",
    "    \n",
    "    def __mul__(self, other: 'MyComplex') -> 'MyComplex':\n",
    "        ...\n",
    "    \n",
    "    def __truediv__(self, other: 'MyComplex') -> 'MyComplex':\n",
    "        ...\n",
    "    \n",
    "    def __eq__(self, other: 'MyComplex') -> bool:\n",
    "        ...\n",
    "    \n",
    "    def __str__(self) -> str:\n",
    "        ...\n",
    "    \n",
    "    def __repr__(self) -> str:\n",
    "        ..."
   ]
  },
  {
   "cell_type": "markdown",
   "metadata": {},
   "source": [
    "### `fraction`"
   ]
  },
  {
   "cell_type": "code",
   "execution_count": null,
   "metadata": {},
   "outputs": [],
   "source": [
    "def gcd(a: int, b: int) -> int:\n",
    "    \"\"\"\n",
    "    Return the greatest common divisor of a and b.\n",
    "\n",
    "    Do not use the built-in math.gcd function.\n",
    "\n",
    "    >>> gcd(12, 15)\n",
    "    3\n",
    "    >>> gcd(12, 16)\n",
    "    4\n",
    "    >>> gcd(12, 17)\n",
    "    1\n",
    "    \"\"\"\n",
    "    ...\n",
    "\n",
    "\n",
    "class MyFraction:\n",
    "    def __init__(self, numerator: int, denominator: int) -> None:\n",
    "        ...\n",
    "    \n",
    "    def __add__(self, other: 'MyFraction') -> 'MyFraction':\n",
    "        ...\n",
    "    \n",
    "    def __sub__(self, other: 'MyFraction') -> 'MyFraction':\n",
    "        ...\n",
    "    \n",
    "    def __mul__(self, other: 'MyFraction') -> 'MyFraction':\n",
    "        ...\n",
    "    \n",
    "    def __truediv__(self, other: 'MyFraction') -> 'MyFraction':\n",
    "        ...\n",
    "    \n",
    "    def __eq__(self, other: 'MyFraction') -> bool:\n",
    "        ...\n",
    "    \n",
    "    def __str__(self) -> str:\n",
    "        ...\n",
    "    \n",
    "    def __repr__(self) -> str:\n",
    "        ..."
   ]
  },
  {
   "cell_type": "markdown",
   "metadata": {},
   "source": [
    "### `collections.defaultdict`"
   ]
  },
  {
   "cell_type": "code",
   "execution_count": null,
   "metadata": {},
   "outputs": [],
   "source": [
    "from typing import Callable\n",
    "\n",
    "\n",
    "class MyDefaultDict[T, V]:\n",
    "    def __init__(self, default_factory: Callable[[], V]):\n",
    "        ...\n",
    "    \n",
    "    def __getitem__(self, key: T) -> V:\n",
    "        ...\n",
    "    \n",
    "    def __setitem__(self, key: T, value: V) -> None:\n",
    "        ..."
   ]
  },
  {
   "cell_type": "markdown",
   "metadata": {},
   "source": [
    "### `collections.Counter`"
   ]
  },
  {
   "cell_type": "code",
   "execution_count": null,
   "metadata": {},
   "outputs": [],
   "source": [
    "from typing import Iterable\n",
    "\n",
    "\n",
    "class MyCounter[T]:\n",
    "    def __init__(self, iterable: Iterable[T]):\n",
    "        ...\n",
    "    \n",
    "    def __get_item__(self, key: T) -> int:\n",
    "        ...\n",
    "    \n",
    "    def most_common(self, n: int | None = None) -> list[tuple[T, int]]:\n",
    "        ..."
   ]
  },
  {
   "cell_type": "markdown",
   "metadata": {},
   "source": [
    "### `dict`"
   ]
  },
  {
   "cell_type": "code",
   "execution_count": null,
   "metadata": {},
   "outputs": [],
   "source": [
    "from typing import Iterable\n",
    "\n",
    "SIZE = 2**32 # ~4 billion\n",
    "\n",
    "class MyDict[K: str|int, V]:\n",
    "    \"\"\"\n",
    "    A custom implementation of a hash map.\n",
    "\n",
    "    This class implements a hash map using a hash table with keys as strings or integers.\n",
    "    The hash table is a list of lists.\n",
    "    The hash function is used to map the key to an index in the hash table. \n",
    "    The key-value pairs are stored in the bucket at the index returned by the hash function.\n",
    "    \"\"\"\n",
    "    def __init__(self, iterable: Iterable[tuple[K, V]]):\n",
    "        self.ht: list[list[V]] = [[] for _ in range(self.SIZE)] # hash table\n",
    "    \n",
    "    @staticmethod\n",
    "    def _str_hash(string: str) -> int:\n",
    "        ...\n",
    "\n",
    "    @staticmethod\n",
    "    def _int_hash(integer: int) -> int:\n",
    "        ...\n",
    "    \n",
    "    def __get_item__(self, key: K) -> V:\n",
    "        ...\n",
    "    \n",
    "    def __set_item__(self, key: K, value: V) -> None:\n",
    "        ...\n",
    "    \n",
    "    def __repr__(self) -> str:\n",
    "        ...\n",
    "\n",
    "\n",
    "class MyDictExt(MyDict):\n",
    "    \"\"\"\n",
    "    An extension of the MyDict class.\n",
    "\n",
    "    This class extends the MyDict class by supporting all hashable data types as keys.\n",
    "    \"\"\"\n"
   ]
  }
 ],
 "metadata": {
  "kernelspec": {
   "display_name": "thevenv",
   "language": "python",
   "name": "python3"
  },
  "language_info": {
   "codemirror_mode": {
    "name": "ipython",
    "version": 3
   },
   "file_extension": ".py",
   "mimetype": "text/x-python",
   "name": "python",
   "nbconvert_exporter": "python",
   "pygments_lexer": "ipython3",
   "version": "3.12.0"
  }
 },
 "nbformat": 4,
 "nbformat_minor": 2
}
