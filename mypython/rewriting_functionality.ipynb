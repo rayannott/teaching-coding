{
 "cells": [
  {
   "cell_type": "markdown",
   "metadata": {},
   "source": [
    "# My Python\n",
    "In this notebook, you will find have to write some built-in functions and classes in python from scratch. This is a good exercise to understand how they work under the hood.\n",
    "\n",
    "The functions that you will have to write are:\n",
    "- `sum`\n",
    "- `max`, `min`\n",
    "- `all`, `any`\n",
    "- `reversed`\n",
    "- `enumerate`\n",
    "- `zip`\n",
    "- `sorted`\n",
    "- `map`\n",
    "- `string.join`\n",
    "- `string.split`\n",
    "- `string.isupper`,\n",
    "- `string.title`\n",
    "\n",
    "The classes that you will have to write are:\n",
    "- `collections.defaultdict`\n",
    "- `collections.Counter`\n",
    "- `dict`\n",
    "\n",
    "You can use the built-in functions and classes to test your implementation."
   ]
  },
  {
   "cell_type": "markdown",
   "metadata": {},
   "source": [
    "## functions"
   ]
  },
  {
   "cell_type": "markdown",
   "metadata": {},
   "source": [
    "### iterators"
   ]
  },
  {
   "cell_type": "markdown",
   "metadata": {},
   "source": [
    "#### `sum`"
   ]
  },
  {
   "cell_type": "markdown",
   "metadata": {},
   "source": [
    "### strings"
   ]
  },
  {
   "cell_type": "markdown",
   "metadata": {},
   "source": [
    "#### `split`"
   ]
  },
  {
   "cell_type": "markdown",
   "metadata": {},
   "source": [
    "Split the string into a list of strings split by the character given. If no character is given, split by space.\n",
    "\n",
    "E.g.:\n",
    "- `split('hello, world')` == `['hello,', 'world']`\n",
    "- `split('hello, world', ',')` == `['hello', ' world']`"
   ]
  },
  {
   "cell_type": "code",
   "execution_count": 4,
   "metadata": {},
   "outputs": [],
   "source": [
    "def split(string: str, delimeter: str = ' ') -> list[str]:\n",
    "    \"\"\"\n",
    "    Split a string into a list of strings using a delimeter.\n",
    "    \"\"\"\n",
    "    ..."
   ]
  },
  {
   "cell_type": "code",
   "execution_count": 5,
   "metadata": {},
   "outputs": [],
   "source": [
    "# write tests for split using assert\n",
    "assert split(\"1 2 3\") == [\"1\", \"2\", \"3\"]\n",
    "assert split(\"hello world\") == [\"hello\", \"world\"]\n",
    "assert split(\"hello,world\", \",\") == [\"hello\", \"world\"]\n",
    "assert split(\"a b c d e\", \",\"), [\"a b c d e\"]"
   ]
  },
  {
   "cell_type": "markdown",
   "metadata": {},
   "source": [
    "## classes"
   ]
  },
  {
   "cell_type": "markdown",
   "metadata": {},
   "source": [
    "### `collections.defaultdict`"
   ]
  },
  {
   "cell_type": "code",
   "execution_count": null,
   "metadata": {},
   "outputs": [],
   "source": [
    "from typing import Callable\n",
    "\n",
    "\n",
    "class MyDefaultDict[T, V]:\n",
    "    def __init__(self, default_factory: Callable[[], V]):\n",
    "        ...\n",
    "    \n",
    "    def __getitem__(self, key: T) -> V:\n",
    "        ...\n",
    "    \n",
    "    def __setitem__(self, key: T, value: V) -> None:\n",
    "        ..."
   ]
  },
  {
   "cell_type": "markdown",
   "metadata": {},
   "source": [
    "### `collections.Counter`"
   ]
  },
  {
   "cell_type": "code",
   "execution_count": null,
   "metadata": {},
   "outputs": [],
   "source": [
    "from typing import Iterable\n",
    "\n",
    "\n",
    "class MyCounter[T]:\n",
    "    def __init__(self, iterable: Iterable[T]):\n",
    "        ...\n",
    "    \n",
    "    def __get_item__(self, key: T) -> int:\n",
    "        ...\n",
    "    \n",
    "    def most_common(self, n: int | None = None) -> list[tuple[T, int]]:\n",
    "        ..."
   ]
  }
 ],
 "metadata": {
  "kernelspec": {
   "display_name": "thevenv",
   "language": "python",
   "name": "python3"
  },
  "language_info": {
   "codemirror_mode": {
    "name": "ipython",
    "version": 3
   },
   "file_extension": ".py",
   "mimetype": "text/x-python",
   "name": "python",
   "nbconvert_exporter": "python",
   "pygments_lexer": "ipython3",
   "version": "3.12.0"
  }
 },
 "nbformat": 4,
 "nbformat_minor": 2
}
