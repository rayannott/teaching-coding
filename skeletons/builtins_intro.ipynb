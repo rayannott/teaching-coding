{
 "cells": [
  {
   "attachments": {},
   "cell_type": "markdown",
   "metadata": {},
   "source": [
    "A gentle introduction to"
   ]
  },
  {
   "attachments": {},
   "cell_type": "markdown",
   "metadata": {},
   "source": [
    "# Built-in functions and classes in python\n",
    "And in built-in python modules"
   ]
  },
  {
   "attachments": {},
   "cell_type": "markdown",
   "metadata": {},
   "source": [
    "This ipython notebook provides a basic intro into to most used and useful python out-of-the-box tools.\n",
    "Exercises include:\n",
    "\n",
    "<code> help enumerate zip all any reversed sorted </code>\n",
    "\n",
    "See the documentation here: https://docs.python.org/3/library/functions.html."
   ]
  },
  {
   "cell_type": "code",
   "execution_count": null,
   "metadata": {},
   "outputs": [],
   "source": [
    "def add(x, y):\n",
    "    ...\n",
    "    return x + y"
   ]
  }
 ],
 "metadata": {
  "language_info": {
   "name": "python"
  },
  "orig_nbformat": 4
 },
 "nbformat": 4,
 "nbformat_minor": 2
}
