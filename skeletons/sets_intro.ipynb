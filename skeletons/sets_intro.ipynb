{
 "cells": [
  {
   "attachments": {},
   "cell_type": "markdown",
   "metadata": {},
   "source": [
    "# python `set`"
   ]
  },
  {
   "attachments": {},
   "cell_type": "markdown",
   "metadata": {},
   "source": [
    "## Experiment"
   ]
  },
  {
   "cell_type": "code",
   "execution_count": null,
   "metadata": {},
   "outputs": [],
   "source": [
    "import random\n",
    "\n",
    "BIG_LIST = [random.randrange(3000) for _ in range(15_000)]\n",
    "BAD_NUMBERS = [random.randrange(3000) for _ in range(1_000)]"
   ]
  },
  {
   "cell_type": "code",
   "execution_count": null,
   "metadata": {},
   "outputs": [],
   "source": [
    "def num_of_bad_numbers_v1():\n",
    "    cnt = 0\n",
    "    for el in BIG_LIST:\n",
    "        if el in BAD_NUMBERS:\n",
    "            cnt += 1\n",
    "    return cnt"
   ]
  },
  {
   "cell_type": "code",
   "execution_count": null,
   "metadata": {},
   "outputs": [],
   "source": [
    "def num_of_bad_numbers_v2():\n",
    "    BAD_NUMBERS_SET = set(BAD_NUMBERS) # this is a set made from that list\n",
    "    cnt = 0\n",
    "    for el in BIG_LIST:\n",
    "        if el in BAD_NUMBERS_SET:\n",
    "            cnt += 1\n",
    "    return cnt "
   ]
  },
  {
   "cell_type": "code",
   "execution_count": null,
   "metadata": {},
   "outputs": [],
   "source": [
    "%%timeit\n",
    "num_of_bad_numbers_v1()"
   ]
  },
  {
   "cell_type": "code",
   "execution_count": null,
   "metadata": {},
   "outputs": [],
   "source": [
    "%%timeit\n",
    "num_of_bad_numbers_v2()"
   ]
  },
  {
   "attachments": {},
   "cell_type": "markdown",
   "metadata": {},
   "source": [
    "Conclusion: `obj in set` is much more efficient than `obj in list`."
   ]
  },
  {
   "attachments": {},
   "cell_type": "markdown",
   "metadata": {},
   "source": [
    "## Motivation\n",
    "\n",
    "Want fast `in` operation (aka \"contains\")"
   ]
  },
  {
   "cell_type": "code",
   "execution_count": null,
   "metadata": {},
   "outputs": [],
   "source": [
    "def contains_v1(lst, obj) -> bool:\n",
    "    # this is how `obj in list` works under the hood\n",
    "    for el in lst:\n",
    "        if el == obj:\n",
    "            return True\n",
    "    return False\n",
    "\n",
    "def contains_v2(lst, obj) -> bool:\n",
    "    return obj in lst\n",
    "\n",
    "lst1 = [1, 5, 4, 7, 8]\n",
    "obj1 = 4; obj2 = 2\n",
    "print(contains_v1(lst1, obj1))\n",
    "print(contains_v1(lst1, obj2))\n",
    "print(contains_v2(lst1, obj1))\n",
    "print(contains_v2(lst1, obj2))\n",
    "\n",
    "# `obj in set` operation uses hashing;\n",
    "# it does not go through the whole data structure on every call"
   ]
  },
  {
   "attachments": {},
   "cell_type": "markdown",
   "metadata": {},
   "source": [
    "## `set` type"
   ]
  },
  {
   "attachments": {},
   "cell_type": "markdown",
   "metadata": {},
   "source": [
    "**Definition**: `set` is a mutable unordered collection of unique immutable elements.\n",
    "\n",
    "- _mutable_ - we can change them (e.g. adding/removing elements);\n",
    "- _unordered_ - elements do not have indices;\n",
    "- _unique elements_ - speaks for itself;\n",
    "- _immutable elements_ - cannot add objects of changable types (`list`s, `dict`s, other `set`s.)\n",
    "\n",
    "\n",
    "Let's look at those properties using some examples."
   ]
  },
  {
   "cell_type": "code",
   "execution_count": null,
   "metadata": {},
   "outputs": [],
   "source": [
    "st1 = {3, 5, 2, 6} # this is a set\n",
    "print(st1, type(st1))"
   ]
  },
  {
   "cell_type": "code",
   "execution_count": null,
   "metadata": {},
   "outputs": [],
   "source": [
    "# mutable:\n",
    "st1.add(7)\n",
    "print(st1)\n",
    "\n",
    "st1.remove(5)\n",
    "print(st1)"
   ]
  },
  {
   "cell_type": "code",
   "execution_count": null,
   "metadata": {},
   "outputs": [],
   "source": [
    "# unordered:\n",
    "print({1, 2, 3, 4} == {3, 2, 4, 1}) # the order does not matter\n",
    "\n",
    "print([1, 2, 3, 4] == [3, 2, 4, 1]) # this does not hold for lists"
   ]
  },
  {
   "cell_type": "code",
   "execution_count": null,
   "metadata": {},
   "outputs": [],
   "source": [
    "# elements: unique\n",
    "st2 = {3, 6}\n",
    "print(st2)\n",
    "st2.add(3)\n",
    "st2.add(6)\n",
    "print(st2) # no difference\n",
    "\n",
    "st3 = {3, 3, 3, 3, 6, 6, 6} # removes duplicates on initialization\n",
    "print(st3)\n",
    "print(st2 == st3) "
   ]
  },
  {
   "cell_type": "code",
   "execution_count": null,
   "metadata": {},
   "outputs": [],
   "source": [
    "# elements: immutable\n",
    "'''\n",
    "immutable: int, str, tuple, ...\n",
    "mutable: list, set, dict, ...\n",
    "'''\n",
    "st4 = {'a', 'c', 'e'} # this is ok\n",
    "print(st4)\n",
    "st5 = {(3, 4), (1, 4), (3, 5)} # this is also ok\n",
    "print(st5)\n",
    "\n",
    "st6 = {[3], [4, 1], [5, 6, 2]} # ERROR (immutable objects are not hashable)\n",
    "# try `hash([1, 2, 3])`"
   ]
  },
  {
   "attachments": {},
   "cell_type": "markdown",
   "metadata": {},
   "source": [
    "## `set` operations"
   ]
  },
  {
   "cell_type": "code",
   "execution_count": 52,
   "metadata": {},
   "outputs": [
    {
     "name": "stdout",
     "output_type": "stream",
     "text": [
      "{1, 3, 4, 6, 7} {2, 3, 4, 9, 12}\n"
     ]
    }
   ],
   "source": [
    "set1 = {1, 4, 6, 3, 7}\n",
    "set2 = {2, 3, 4, 9, 12}\n",
    "print(set1, set2)"
   ]
  },
  {
   "attachments": {},
   "cell_type": "markdown",
   "metadata": {},
   "source": [
    "Common python operations\n",
    "\n",
    "**can** do:"
   ]
  },
  {
   "cell_type": "code",
   "execution_count": 53,
   "metadata": {},
   "outputs": [
    {
     "name": "stdout",
     "output_type": "stream",
     "text": [
      "False\n"
     ]
    }
   ],
   "source": [
    "# compare equality:\n",
    "print(set1 == set2)"
   ]
  },
  {
   "cell_type": "code",
   "execution_count": 54,
   "metadata": {},
   "outputs": [
    {
     "name": "stdout",
     "output_type": "stream",
     "text": [
      "5\n"
     ]
    }
   ],
   "source": [
    "# find length\n",
    "print(len(set1))"
   ]
  },
  {
   "cell_type": "code",
   "execution_count": 55,
   "metadata": {},
   "outputs": [
    {
     "name": "stdout",
     "output_type": "stream",
     "text": [
      "1 3 4 6 7 "
     ]
    }
   ],
   "source": [
    "# iterate over\n",
    "for el in set1:\n",
    "    print(el, end=' ')"
   ]
  },
  {
   "cell_type": "code",
   "execution_count": 50,
   "metadata": {},
   "outputs": [
    {
     "name": "stdout",
     "output_type": "stream",
     "text": [
      "{1, 2, 3, 4, 6, 7, 9, 12}\n"
     ]
    }
   ],
   "source": [
    "# find union: a new set which contains everything from both set1 and set2\n",
    "set1_or_set2 = set1 | set2 # or `set1.union(set2)`\n",
    "print(set1_or_set2)"
   ]
  },
  {
   "cell_type": "code",
   "execution_count": 51,
   "metadata": {},
   "outputs": [
    {
     "name": "stdout",
     "output_type": "stream",
     "text": [
      "{3, 4}\n"
     ]
    }
   ],
   "source": [
    "# find intersection: a new set which contains elements which are present in both sets\n",
    "set1_and_set2 = set1 & set2 # or `set1.intersection(set2)`\n",
    "print(set1_and_set2)"
   ]
  },
  {
   "attachments": {},
   "cell_type": "markdown",
   "metadata": {},
   "source": [
    "**cannot** do:"
   ]
  },
  {
   "cell_type": "code",
   "execution_count": null,
   "metadata": {},
   "outputs": [],
   "source": [
    "# subscribe\n",
    "set1[1]"
   ]
  },
  {
   "cell_type": "code",
   "execution_count": 56,
   "metadata": {},
   "outputs": [
    {
     "ename": "TypeError",
     "evalue": "unsupported operand type(s) for +: 'set' and 'set'",
     "output_type": "error",
     "traceback": [
      "\u001b[1;31m---------------------------------------------------------------------------\u001b[0m",
      "\u001b[1;31mTypeError\u001b[0m                                 Traceback (most recent call last)",
      "Cell \u001b[1;32mIn[56], line 1\u001b[0m\n\u001b[1;32m----> 1\u001b[0m set1 \u001b[39m+\u001b[39;49m set2\n",
      "\u001b[1;31mTypeError\u001b[0m: unsupported operand type(s) for +: 'set' and 'set'"
     ]
    }
   ],
   "source": [
    "# add\n",
    "set1 + set2"
   ]
  },
  {
   "cell_type": "code",
   "execution_count": 58,
   "metadata": {},
   "outputs": [
    {
     "ename": "TypeError",
     "evalue": "unsupported operand type(s) for /: 'set' and 'set'",
     "output_type": "error",
     "traceback": [
      "\u001b[1;31m---------------------------------------------------------------------------\u001b[0m",
      "\u001b[1;31mTypeError\u001b[0m                                 Traceback (most recent call last)",
      "Cell \u001b[1;32mIn[58], line 3\u001b[0m\n\u001b[0;32m      1\u001b[0m \u001b[39m# divide and multiply\u001b[39;00m\n\u001b[0;32m      2\u001b[0m \u001b[39m# set1 * set2\u001b[39;00m\n\u001b[1;32m----> 3\u001b[0m set1 \u001b[39m/\u001b[39;49m set2\n",
      "\u001b[1;31mTypeError\u001b[0m: unsupported operand type(s) for /: 'set' and 'set'"
     ]
    }
   ],
   "source": [
    "# divide and multiply\n",
    "set1 * set2\n",
    "# set1 / set2"
   ]
  },
  {
   "cell_type": "code",
   "execution_count": null,
   "metadata": {},
   "outputs": [],
   "source": []
  },
  {
   "cell_type": "code",
   "execution_count": null,
   "metadata": {},
   "outputs": [],
   "source": []
  }
 ],
 "metadata": {
  "kernelspec": {
   "display_name": "thevenv",
   "language": "python",
   "name": "python3"
  },
  "language_info": {
   "codemirror_mode": {
    "name": "ipython",
    "version": 3
   },
   "file_extension": ".py",
   "mimetype": "text/x-python",
   "name": "python",
   "nbconvert_exporter": "python",
   "pygments_lexer": "ipython3",
   "version": "3.11.2"
  },
  "orig_nbformat": 4
 },
 "nbformat": 4,
 "nbformat_minor": 2
}
