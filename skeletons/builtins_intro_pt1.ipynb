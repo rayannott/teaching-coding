{
 "cells": [
  {
   "attachments": {},
   "cell_type": "markdown",
   "metadata": {},
   "source": [
    "A gentle introduction to"
   ]
  },
  {
   "attachments": {},
   "cell_type": "markdown",
   "metadata": {},
   "source": [
    "# Built-in functions and classes in python\n",
    "and in built-in python modules"
   ]
  },
  {
   "attachments": {},
   "cell_type": "markdown",
   "metadata": {},
   "source": [
    "This ipython notebook provides a basic intro into to most used and useful python out-of-the-box tools.\n",
    "Exercises include:\n",
    "\n",
    "<code> help enumerate zip all any reversed sorted </code>\n",
    "\n",
    "See the documentation here: https://docs.python.org/3/library/functions.html."
   ]
  },
  {
   "attachments": {},
   "cell_type": "markdown",
   "metadata": {},
   "source": [
    "Task: Replace `...` (Ellipsis) symbols with suitable pieces of code. "
   ]
  },
  {
   "attachments": {},
   "cell_type": "markdown",
   "metadata": {},
   "source": [
    "## Builtins"
   ]
  },
  {
   "attachments": {},
   "cell_type": "markdown",
   "metadata": {},
   "source": [
    "### `help`\n",
    "TASK: Write a sensible documentation for the function below and then print it using `help`."
   ]
  },
  {
   "cell_type": "code",
   "execution_count": null,
   "metadata": {},
   "outputs": [],
   "source": [
    "def add(x, y):\n",
    "    ...\n",
    "    return x + y"
   ]
  },
  {
   "cell_type": "code",
   "execution_count": null,
   "metadata": {},
   "outputs": [],
   "source": [
    "print(...)"
   ]
  },
  {
   "attachments": {},
   "cell_type": "markdown",
   "metadata": {},
   "source": [
    "You can also print the documentation using a `.__doc__` method:"
   ]
  },
  {
   "cell_type": "code",
   "execution_count": null,
   "metadata": {},
   "outputs": [],
   "source": [
    "print(add.__doc__)"
   ]
  },
  {
   "attachments": {},
   "cell_type": "markdown",
   "metadata": {},
   "source": [
    "Run the tests:"
   ]
  },
  {
   "cell_type": "code",
   "execution_count": null,
   "metadata": {},
   "outputs": [],
   "source": [
    "assert add.__doc__"
   ]
  },
  {
   "attachments": {},
   "cell_type": "markdown",
   "metadata": {},
   "source": [
    "### `enumerate`\n",
    "It happens sometimes that, when working with lists/tuples, we want to use an element as well as its index.\n",
    "\n",
    "Let's look at the following implementation of the function `argmax`:"
   ]
  },
  {
   "cell_type": "code",
   "execution_count": 17,
   "metadata": {},
   "outputs": [
    {
     "data": {
      "text/plain": [
       "2"
      ]
     },
     "execution_count": 17,
     "metadata": {},
     "output_type": "execute_result"
    }
   ],
   "source": [
    "import math\n",
    "def argmax(a: list | tuple) -> int:\n",
    "    '''\n",
    "    Returns an index of the maximum element in an array.\n",
    "    If there are multiple elements with maximum value, return the rightmost one.\n",
    "    '''\n",
    "    max_i = 0\n",
    "    max_el = -math.inf\n",
    "    for i in range(len(a)):\n",
    "        if a[i] > max_el:\n",
    "            max_i = i\n",
    "            max_el = a[i]\n",
    "    return max_i\n",
    "\n",
    "argmax([0,4,7,-1,-8,6])"
   ]
  },
  {
   "attachments": {},
   "cell_type": "markdown",
   "metadata": {},
   "source": [
    "Now let's see what the `enumerate` function does."
   ]
  },
  {
   "cell_type": "code",
   "execution_count": 15,
   "metadata": {},
   "outputs": [
    {
     "name": "stdout",
     "output_type": "stream",
     "text": [
      "[(0, 0), (1, 4), (2, 7), (3, -1), (4, -8), (5, 6)]\n"
     ]
    }
   ],
   "source": [
    "lst = [0,4,7,-1,-8,6]\n",
    "\n",
    "print(\n",
    "    list(enumerate(lst))\n",
    ")"
   ]
  },
  {
   "attachments": {},
   "cell_type": "markdown",
   "metadata": {},
   "source": [
    "It returns an iterable of tuples (index, element).\n",
    "\n",
    "TASK: complete a function `argmax2` using the `enumerate` function to access indices and elements simultaneously."
   ]
  },
  {
   "cell_type": "code",
   "execution_count": 18,
   "metadata": {},
   "outputs": [],
   "source": [
    "def argmax2(a: list | tuple) -> int:\n",
    "    ..."
   ]
  },
  {
   "cell_type": "code",
   "execution_count": null,
   "metadata": {},
   "outputs": [],
   "source": [
    "assert argmax2([0,1,2,3]) == 3 and argmax2([-4,-2,-3]) == 1 and argmax2([2]) == 0 and argmax2([0,0,1,1,1]) == 4"
   ]
  },
  {
   "attachments": {},
   "cell_type": "markdown",
   "metadata": {},
   "source": [
    "### `zip`\n",
    "Sometimes we want to iterate over multiple iterables of equal length simultaneously.\n",
    "\n",
    "One can achieve it like so:"
   ]
  },
  {
   "cell_type": "code",
   "execution_count": 20,
   "metadata": {},
   "outputs": [],
   "source": [
    "NAMES = ['Cole', 'Jaden', 'Joe', 'Nilo', 'Lisa', 'George']\n",
    "POINTS = [3, 6, 4, 2, 8, 2]"
   ]
  },
  {
   "cell_type": "code",
   "execution_count": null,
   "metadata": {},
   "outputs": [],
   "source": [
    "for i in range(len(NAMES)):\n",
    "    print(f'{NAMES[i]} has {POINTS[i]} points')"
   ]
  },
  {
   "attachments": {},
   "cell_type": "markdown",
   "metadata": {},
   "source": [
    "Which looks a bit complicated and asymmetric. Let's see what the `zip` function returns:"
   ]
  },
  {
   "cell_type": "code",
   "execution_count": 22,
   "metadata": {},
   "outputs": [
    {
     "name": "stdout",
     "output_type": "stream",
     "text": [
      "[('Cole', 3), ('Jaden', 6), ('Joe', 4), ('Nilo', 2), ('Lisa', 8), ('George', 2)]\n"
     ]
    }
   ],
   "source": [
    "print(\n",
    "    list(zip(NAMES, POINTS))\n",
    ")"
   ]
  },
  {
   "cell_type": "code",
   "execution_count": null,
   "metadata": {},
   "outputs": [],
   "source": []
  },
  {
   "cell_type": "code",
   "execution_count": null,
   "metadata": {},
   "outputs": [],
   "source": []
  },
  {
   "attachments": {},
   "cell_type": "markdown",
   "metadata": {},
   "source": [
    "### `all` and `any`\n"
   ]
  },
  {
   "attachments": {},
   "cell_type": "markdown",
   "metadata": {},
   "source": [
    "### `reversed` and `sorted`\n"
   ]
  },
  {
   "attachments": {},
   "cell_type": "markdown",
   "metadata": {},
   "source": []
  },
  {
   "attachments": {},
   "cell_type": "markdown",
   "metadata": {},
   "source": []
  }
 ],
 "metadata": {
  "kernelspec": {
   "display_name": "Python 3",
   "language": "python",
   "name": "python3"
  },
  "language_info": {
   "codemirror_mode": {
    "name": "ipython",
    "version": 3
   },
   "file_extension": ".py",
   "mimetype": "text/x-python",
   "name": "python",
   "nbconvert_exporter": "python",
   "pygments_lexer": "ipython3",
   "version": "3.11.2"
  },
  "orig_nbformat": 4
 },
 "nbformat": 4,
 "nbformat_minor": 2
}
