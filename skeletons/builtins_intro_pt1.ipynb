{
 "cells": [
  {
   "attachments": {},
   "cell_type": "markdown",
   "metadata": {},
   "source": [
    "A gentle introduction to"
   ]
  },
  {
   "attachments": {},
   "cell_type": "markdown",
   "metadata": {},
   "source": [
    "# Built-in functions and classes in python\n",
    "and in built-in python modules"
   ]
  },
  {
   "attachments": {},
   "cell_type": "markdown",
   "metadata": {},
   "source": [
    "This ipython notebook provides a basic intro into to most used and useful python out-of-the-box tools.\n",
    "Exercises include:\n",
    "\n",
    "<code> help enumerate zip all any reversed sorted map </code>\n",
    "\n",
    "See the documentation here: https://docs.python.org/3/library/functions.html."
   ]
  },
  {
   "attachments": {},
   "cell_type": "markdown",
   "metadata": {},
   "source": [
    "Task: Replace `...` (Ellipsis) symbols with suitable pieces of code. "
   ]
  },
  {
   "attachments": {},
   "cell_type": "markdown",
   "metadata": {},
   "source": [
    "## Part 1. True built-ins"
   ]
  },
  {
   "attachments": {},
   "cell_type": "markdown",
   "metadata": {},
   "source": [
    "### `help`\n",
    "TASK: Write a sensible documentation for the function below and then print it using `help`."
   ]
  },
  {
   "cell_type": "code",
   "execution_count": null,
   "metadata": {},
   "outputs": [],
   "source": [
    "def add(x, y):\n",
    "    ...\n",
    "    return x + y"
   ]
  },
  {
   "cell_type": "code",
   "execution_count": null,
   "metadata": {},
   "outputs": [],
   "source": [
    "print(...)"
   ]
  },
  {
   "attachments": {},
   "cell_type": "markdown",
   "metadata": {},
   "source": [
    "You can also print the documentation using a `.__doc__` method:"
   ]
  },
  {
   "cell_type": "code",
   "execution_count": null,
   "metadata": {},
   "outputs": [],
   "source": [
    "print(add.__doc__)"
   ]
  },
  {
   "attachments": {},
   "cell_type": "markdown",
   "metadata": {},
   "source": [
    "Run the tests:"
   ]
  },
  {
   "cell_type": "code",
   "execution_count": null,
   "metadata": {},
   "outputs": [],
   "source": [
    "assert add.__doc__"
   ]
  },
  {
   "attachments": {},
   "cell_type": "markdown",
   "metadata": {},
   "source": [
    "### `enumerate`\n",
    "It happens sometimes that, when working with lists/tuples, we want to use an element as well as its index.\n",
    "\n",
    "Let's look at the following implementation of the function `argmax`:"
   ]
  },
  {
   "cell_type": "code",
   "execution_count": 17,
   "metadata": {},
   "outputs": [
    {
     "data": {
      "text/plain": [
       "2"
      ]
     },
     "execution_count": 17,
     "metadata": {},
     "output_type": "execute_result"
    }
   ],
   "source": [
    "import math\n",
    "def argmax(a: list | tuple) -> int:\n",
    "    '''\n",
    "    Returns an index of the maximum element in an array.\n",
    "    If there are multiple elements with maximum value, return the rightmost one.\n",
    "    '''\n",
    "    max_i = 0\n",
    "    max_el = -math.inf\n",
    "    for i in range(len(a)):\n",
    "        if a[i] > max_el:\n",
    "            max_i = i\n",
    "            max_el = a[i]\n",
    "    return max_i\n",
    "\n",
    "argmax([0,4,7,-1,-8,6])"
   ]
  },
  {
   "attachments": {},
   "cell_type": "markdown",
   "metadata": {},
   "source": [
    "Now let's see what the `enumerate` function does."
   ]
  },
  {
   "cell_type": "code",
   "execution_count": 15,
   "metadata": {},
   "outputs": [
    {
     "name": "stdout",
     "output_type": "stream",
     "text": [
      "[(0, 0), (1, 4), (2, 7), (3, -1), (4, -8), (5, 6)]\n"
     ]
    }
   ],
   "source": [
    "lst = [0,4,7,-1,-8,6]\n",
    "\n",
    "print(\n",
    "    list(enumerate(lst))\n",
    ")"
   ]
  },
  {
   "attachments": {},
   "cell_type": "markdown",
   "metadata": {},
   "source": [
    "It returns an iterable of tuples (index, element).\n",
    "\n",
    "TASK: complete a function `argmax2` using the `enumerate` function to access indices and elements simultaneously."
   ]
  },
  {
   "cell_type": "code",
   "execution_count": 18,
   "metadata": {},
   "outputs": [],
   "source": [
    "def argmax2(a: list | tuple) -> int:\n",
    "    ..."
   ]
  },
  {
   "cell_type": "code",
   "execution_count": null,
   "metadata": {},
   "outputs": [],
   "source": [
    "assert argmax2([0,1,2,3]) == 3 and argmax2([-4,-2,-3]) == 1 and argmax2([2]) == 0 and argmax2([0,0,1,1,1]) == 4"
   ]
  },
  {
   "attachments": {},
   "cell_type": "markdown",
   "metadata": {},
   "source": [
    "### `zip`\n",
    "Sometimes we want to iterate over multiple iterables of equal length simultaneously.\n",
    "\n",
    "One can achieve it like so:"
   ]
  },
  {
   "cell_type": "code",
   "execution_count": 2,
   "metadata": {},
   "outputs": [],
   "source": [
    "NAMES = ['Cole', 'Jaden', 'Joe', 'Nilo', 'Lisa', 'George']\n",
    "POINTS = [3, 6, 4, 2, 8, 2]"
   ]
  },
  {
   "cell_type": "code",
   "execution_count": null,
   "metadata": {},
   "outputs": [],
   "source": [
    "for i in range(len(NAMES)):\n",
    "    print(f'{NAMES[i]} has {POINTS[i]} points')"
   ]
  },
  {
   "attachments": {},
   "cell_type": "markdown",
   "metadata": {},
   "source": [
    "Which looks a bit complicated and asymmetric. Let's see what the `zip` function returns:"
   ]
  },
  {
   "cell_type": "code",
   "execution_count": 22,
   "metadata": {},
   "outputs": [
    {
     "name": "stdout",
     "output_type": "stream",
     "text": [
      "[('Cole', 3), ('Jaden', 6), ('Joe', 4), ('Nilo', 2), ('Lisa', 8), ('George', 2)]\n"
     ]
    }
   ],
   "source": [
    "print(\n",
    "    list(zip(NAMES, POINTS))\n",
    ")"
   ]
  },
  {
   "cell_type": "code",
   "execution_count": 4,
   "metadata": {},
   "outputs": [],
   "source": [
    "def best_students(names: list[str], points: list[int]) -> list[str]:\n",
    "    '''\n",
    "    Returns a list of names of those students, \n",
    "    who scored more than the average amount of points.\n",
    "    '''\n",
    "    ..."
   ]
  },
  {
   "cell_type": "code",
   "execution_count": null,
   "metadata": {},
   "outputs": [],
   "source": [
    "assert best_students(NAMES, POINTS) == ['Jaden', 'Lisa']"
   ]
  },
  {
   "attachments": {},
   "cell_type": "markdown",
   "metadata": {},
   "source": [
    "Also, we can \"zip\" more than two iterables.\n",
    "\n",
    "Let's say the students now have the multipliers for their points (say, for doing some bonus projects).\n",
    "\n",
    "Write a new function `best_students_2` which takes these bonuses into account."
   ]
  },
  {
   "cell_type": "code",
   "execution_count": 5,
   "metadata": {},
   "outputs": [],
   "source": [
    "MULTIPLIERS = [1.7, 1.0, 1.5, 2.7, 0.9, 1.1]"
   ]
  },
  {
   "cell_type": "code",
   "execution_count": 6,
   "metadata": {},
   "outputs": [],
   "source": [
    "def best_students_2(names: list[str], points: list[int], mults: list[float]) -> list[str]:\n",
    "    '''\n",
    "    Returns a list of names of those students, \n",
    "    who scored more than the average amount of points where points are multiplied by the corresponding multiplier.\n",
    "    For example, a person names[0] scored (points[0] * mult[0]) amount of points in total.\n",
    "    '''\n",
    "    ..."
   ]
  },
  {
   "cell_type": "code",
   "execution_count": 10,
   "metadata": {},
   "outputs": [],
   "source": [
    "assert best_students_2(NAMES, POINTS, MULTIPLIERS) == ['Jaden', 'Joe', 'Nilo', 'Lisa'] and \\\n",
    "        best_students_2(['A', 'B', 'C', 'D'], [1, 2, 3, 4], [1.0, 2.5, 1.4, 0.7]) == ['B', 'C']"
   ]
  },
  {
   "attachments": {},
   "cell_type": "markdown",
   "metadata": {},
   "source": [
    "### `all` and `any`\n",
    "\n",
    "We develop an algorithm which decides if our tests have failed or not. The task is to write functions which perform logical operations on a list of boolean values of an arbitrary length."
   ]
  },
  {
   "cell_type": "code",
   "execution_count": 35,
   "metadata": {},
   "outputs": [],
   "source": [
    "def all_true(vals: list[bool]) -> bool:\n",
    "    '''\n",
    "    Return True if all the values are True. Otherwise, return False.\n",
    "    '''\n",
    "    ..."
   ]
  },
  {
   "cell_type": "code",
   "execution_count": 36,
   "metadata": {},
   "outputs": [],
   "source": [
    "def at_least_one_true(vals: list[bool]) -> bool:\n",
    "    '''\n",
    "    Return True if at least one value is True. Otherwise, return False.\n",
    "    '''\n",
    "    ..."
   ]
  },
  {
   "cell_type": "code",
   "execution_count": 37,
   "metadata": {},
   "outputs": [],
   "source": [
    "def all_false(vals: list[bool]) -> bool:\n",
    "    '''\n",
    "    Return True if all the values are False. Otherwise, return False.\n",
    "    '''\n",
    "    ..."
   ]
  },
  {
   "cell_type": "code",
   "execution_count": 38,
   "metadata": {},
   "outputs": [],
   "source": [
    "def at_least_one_false(vals: list[bool]) -> bool:\n",
    "    '''\n",
    "    Return True if at least one value is False. Otherwise, return False.\n",
    "    '''\n",
    "    ..."
   ]
  },
  {
   "attachments": {},
   "cell_type": "markdown",
   "metadata": {},
   "source": [
    "Let's now use built-in logical operations. \n",
    "\n",
    "`all` checks if all the values in an iterable are True (true-like) and `any` checks if there's at least one True (true-like) value.\n",
    "\n",
    "Rewrite the above functions using these built-in operations."
   ]
  },
  {
   "cell_type": "code",
   "execution_count": 39,
   "metadata": {},
   "outputs": [],
   "source": [
    "def all_true_2(vals: list[bool]) -> bool:\n",
    "    '''\n",
    "    Return True if all the values are True. Otherwise, return False.\n",
    "    '''\n",
    "    ..."
   ]
  },
  {
   "cell_type": "code",
   "execution_count": 40,
   "metadata": {},
   "outputs": [],
   "source": [
    "def at_least_one_true_2(vals: list[bool]) -> bool:\n",
    "    '''\n",
    "    Return True if at least one value is True. Otherwise, return False.\n",
    "    '''\n",
    "    ..."
   ]
  },
  {
   "cell_type": "code",
   "execution_count": 41,
   "metadata": {},
   "outputs": [],
   "source": [
    "def all_false_2(vals: list[bool]) -> bool:\n",
    "    '''\n",
    "    Return True if all the values are False. Otherwise, return False.\n",
    "    '''\n",
    "    ..."
   ]
  },
  {
   "cell_type": "code",
   "execution_count": 42,
   "metadata": {},
   "outputs": [],
   "source": [
    "def at_least_one_false_2(vals: list[bool]) -> bool:\n",
    "    '''\n",
    "    Return True if at least one value is False. Otherwise, return False.\n",
    "    '''\n",
    "    ..."
   ]
  },
  {
   "cell_type": "code",
   "execution_count": null,
   "metadata": {},
   "outputs": [],
   "source": [
    "FUNCS_ALL_ANY = [all_true, at_least_one_true, all_false, at_least_one_false]\n",
    "FUNCS2_ALL_ANY = [all_true_2, at_least_one_true_2, all_false_2, at_least_one_false_2]\n",
    "\n",
    "TEST_ALL_ANY = [\n",
    "    [False, True, True, True],\n",
    "    [True, True, True, True],\n",
    "    [False, False, False],\n",
    "    [False, False, True, False, False],\n",
    "]\n",
    "\n",
    "ANSWERS_ALL_ANY = [\n",
    "    [False, True, False, False],\n",
    "    [True, True, False, True],\n",
    "    [False, False, True, False],\n",
    "    [True, False, True, True]\n",
    "]\n",
    "\n",
    "for i, (f1, f2) in enumerate(zip(FUNCS_ALL_ANY, FUNCS2_ALL_ANY)):\n",
    "    for j, test in enumerate(TEST_ALL_ANY):\n",
    "        if f1(test) == f2(test) == ANSWERS_ALL_ANY[i][j]:\n",
    "            print(f'passed both {f1.__name__}')\n",
    "        else:\n",
    "            print(f'failed {f1.__name__} or {f2.__name__}')"
   ]
  },
  {
   "attachments": {},
   "cell_type": "markdown",
   "metadata": {},
   "source": [
    "### `reversed` and `sorted`"
   ]
  },
  {
   "attachments": {},
   "cell_type": "markdown",
   "metadata": {},
   "source": [
    "Print the elements of the following list in reverse as you would've done it normally and then using `reversed`:"
   ]
  },
  {
   "cell_type": "code",
   "execution_count": 43,
   "metadata": {},
   "outputs": [],
   "source": [
    "def print_in_reverse(a: list) -> None:\n",
    "    # DO NOT use reversed\n",
    "    ...\n",
    "\n",
    "def print_in_reverse_2(a: list) -> None:\n",
    "    # use reversed\n",
    "    ..."
   ]
  },
  {
   "attachments": {},
   "cell_type": "markdown",
   "metadata": {},
   "source": [
    "The main advantage of using `reversed` is that it does not create a copy of an object and makes a piece of code more explicit."
   ]
  },
  {
   "attachments": {},
   "cell_type": "markdown",
   "metadata": {},
   "source": [
    "Now we look at the `sorted` function. _Note_: it always returns a `list` of objects regardless of what the input type was.\n",
    "\n",
    "There are a few important differences between it and the `list.sort` method."
   ]
  },
  {
   "cell_type": "code",
   "execution_count": 4,
   "metadata": {},
   "outputs": [
    {
     "name": "stdout",
     "output_type": "stream",
     "text": [
      "[2, 4, 5, 6]\n",
      "['a', 'b', 'c', 'd']\n"
     ]
    }
   ],
   "source": [
    "# Difference 1: sorted can be used on any iterable with comparable objects while\n",
    "# list.sort is a list-only method:\n",
    "ex11 = (2, 6, 4, 5)\n",
    "print(sorted(ex11))\n",
    "\n",
    "ex12 = 'dbac'\n",
    "print(sorted(ex12))\n",
    "\n",
    "# cannot do this:\n",
    "# ex11.sort()\n",
    "# ex12.sort()"
   ]
  },
  {
   "cell_type": "code",
   "execution_count": 5,
   "metadata": {},
   "outputs": [
    {
     "name": "stdout",
     "output_type": "stream",
     "text": [
      "[2, 4, 5, 6]\n",
      "didn't change: [2, 6, 4, 5]\n",
      "did change: [2, 4, 5, 6]\n"
     ]
    }
   ],
   "source": [
    "# Difference 2: list.sort sorts a list in-place while sorted returns a new sorted list\n",
    "ex21 = [2, 6, 4, 5]\n",
    "print(sorted(ex21))\n",
    "print('didn\\'t change:', ex21)\n",
    "\n",
    "ex21.sort()\n",
    "print('did change:', ex21)"
   ]
  },
  {
   "cell_type": "code",
   "execution_count": 8,
   "metadata": {},
   "outputs": [],
   "source": [
    "def three_highest(a: list[int]) -> list[int]:\n",
    "    '''\n",
    "    Return top three largest numbers in a descending order from a given list.\n",
    "    Do NOT modify the list.\n",
    "    '''\n",
    "    ..."
   ]
  },
  {
   "cell_type": "code",
   "execution_count": 9,
   "metadata": {},
   "outputs": [],
   "source": [
    "T1_TH = [3,7,9,5,4,6,7,8]; T1_TH_CP = T1_TH[:]\n",
    "T1_TH_RES = three_highest(T1_TH)\n",
    "assert T1_TH_RES == [9, 8, 7] and T1_TH == T1_TH_CP"
   ]
  },
  {
   "attachments": {},
   "cell_type": "markdown",
   "metadata": {},
   "source": [
    "### `map`\n",
    "This function gets a function (of one argument) and an iterable and returns another iterable where each element is the value of the function evaluated at every element of the initial iterable:\n",
    "\n",
    "`map(f, (a1, a2, a3, ...)) -> (f(a1), f(a2), f(a3), ...)`"
   ]
  },
  {
   "attachments": {},
   "cell_type": "markdown",
   "metadata": {},
   "source": [
    "For example, here is a function which takes a list and returns the sum of the squares of its elemets:"
   ]
  },
  {
   "cell_type": "code",
   "execution_count": null,
   "metadata": {},
   "outputs": [],
   "source": [
    "def sum_of_squares(a: list[int]) -> int:\n",
    "    s = 0\n",
    "    for el in a:\n",
    "        s += el**2\n",
    "    return s"
   ]
  },
  {
   "attachments": {},
   "cell_type": "markdown",
   "metadata": {},
   "source": [
    "Alternatively, we can use the `map` function with the `lambda` expression to achieve the same result:"
   ]
  },
  {
   "cell_type": "code",
   "execution_count": null,
   "metadata": {},
   "outputs": [],
   "source": [
    "# Every el is already a square:\n",
    "\n",
    "def sum_of_squares_2(a: list[int]) -> int:\n",
    "    s = 0\n",
    "    for el in map(lambda x: x**2, a):\n",
    "        s += el\n",
    "    return s\n",
    "\n",
    "# Or simply use the sum function which accepts any iterable*\n",
    "\n",
    "def sum_of_squares_3(a: list[int]) -> int:\n",
    "    return sum(map(lambda x: x**2, a))"
   ]
  },
  {
   "attachments": {},
   "cell_type": "markdown",
   "metadata": {},
   "source": [
    "Now, use the `map` function to ..."
   ]
  },
  {
   "cell_type": "code",
   "execution_count": null,
   "metadata": {},
   "outputs": [],
   "source": []
  },
  {
   "cell_type": "code",
   "execution_count": null,
   "metadata": {},
   "outputs": [],
   "source": []
  }
 ],
 "metadata": {
  "kernelspec": {
   "display_name": "Python 3",
   "language": "python",
   "name": "python3"
  },
  "language_info": {
   "codemirror_mode": {
    "name": "ipython",
    "version": 3
   },
   "file_extension": ".py",
   "mimetype": "text/x-python",
   "name": "python",
   "nbconvert_exporter": "python",
   "pygments_lexer": "ipython3",
   "version": "3.11.2"
  },
  "orig_nbformat": 4
 },
 "nbformat": 4,
 "nbformat_minor": 2
}
