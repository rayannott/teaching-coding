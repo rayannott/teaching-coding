{
 "cells": [
  {
   "attachments": {},
   "cell_type": "markdown",
   "metadata": {},
   "source": [
    "A gentle introduction to"
   ]
  },
  {
   "attachments": {},
   "cell_type": "markdown",
   "metadata": {},
   "source": [
    "# Some built-in stuff in python"
   ]
  },
  {
   "attachments": {},
   "cell_type": "markdown",
   "metadata": {},
   "source": [
    "This ipython notebook provides a basic intro into to most used and useful python out-of-the-box tools.\n",
    "\n",
    "Exercises include: \n",
    "` help enumerate zip all any lambda reversed sorted map isinstance`"
   ]
  },
  {
   "attachments": {},
   "cell_type": "markdown",
   "metadata": {},
   "source": [
    "Task: Replace `...` (Ellipsis) symbols with suitable pieces of code. Check your solutions by running the cells which say \"`# test`\"."
   ]
  },
  {
   "attachments": {},
   "cell_type": "markdown",
   "metadata": {},
   "source": [
    "## Part 1. Built-ins"
   ]
  },
  {
   "attachments": {},
   "cell_type": "markdown",
   "metadata": {},
   "source": [
    "### `help`\n",
    "TASK: Write a sensible documentation for the function below and then print it using `help`. Google for \"function documentation in python\" if lost."
   ]
  },
  {
   "cell_type": "code",
   "execution_count": null,
   "metadata": {},
   "outputs": [],
   "source": [
    "def mean(x: int, y: int) -> int:\n",
    "    ...\n",
    "    return 0.5 * (x + y)"
   ]
  },
  {
   "cell_type": "code",
   "execution_count": null,
   "metadata": {},
   "outputs": [],
   "source": [
    "print(...)"
   ]
  },
  {
   "attachments": {},
   "cell_type": "markdown",
   "metadata": {},
   "source": [
    "You can also print the documentation using a `.__doc__` method:"
   ]
  },
  {
   "cell_type": "code",
   "execution_count": null,
   "metadata": {},
   "outputs": [],
   "source": [
    "print(mean.__doc__)"
   ]
  },
  {
   "cell_type": "code",
   "execution_count": null,
   "metadata": {},
   "outputs": [],
   "source": [
    "# test\n",
    "assert mean.__doc__"
   ]
  },
  {
   "attachments": {},
   "cell_type": "markdown",
   "metadata": {},
   "source": [
    "### `enumerate`\n",
    "It happens sometimes that, when working with lists/tuples, we want to use an element as well as its index.\n",
    "\n",
    "Let's look at the following implementation of the function `argmax`:"
   ]
  },
  {
   "cell_type": "code",
   "execution_count": null,
   "metadata": {},
   "outputs": [],
   "source": [
    "import math\n",
    "def argmax1(a: list | tuple) -> int:\n",
    "    '''\n",
    "    Returns an index of the maximum element in an array.\n",
    "    If there are multiple elements with maximum value, return the leftmost one.\n",
    "    '''\n",
    "    max_i = 0\n",
    "    max_el = -math.inf\n",
    "    for i in range(len(a)):\n",
    "        if a[i] > max_el:\n",
    "            max_i = i\n",
    "            max_el = a[i]\n",
    "    return max_i\n",
    "\n",
    "argmax1([0,4,7,-1,7,-8,6])"
   ]
  },
  {
   "attachments": {},
   "cell_type": "markdown",
   "metadata": {},
   "source": [
    "Now let's see what the `enumerate` function does."
   ]
  },
  {
   "cell_type": "code",
   "execution_count": null,
   "metadata": {},
   "outputs": [],
   "source": [
    "lst = [0,4,7,-1,-8,6]\n",
    "\n",
    "print(\n",
    "    list(enumerate(lst))\n",
    ")"
   ]
  },
  {
   "attachments": {},
   "cell_type": "markdown",
   "metadata": {},
   "source": [
    "It returns an iterable of tuples (index, element).\n",
    "\n",
    "TASK: complete a function `argmax2` using the `enumerate` function to access indices and elements simultaneously."
   ]
  },
  {
   "cell_type": "code",
   "execution_count": null,
   "metadata": {},
   "outputs": [],
   "source": [
    "def argmax2(a: list | tuple) -> int:\n",
    "    '''\n",
    "    Same thing as argmax1, but using `enumerate`.\n",
    "    '''\n",
    "    ..."
   ]
  },
  {
   "cell_type": "code",
   "execution_count": null,
   "metadata": {},
   "outputs": [],
   "source": [
    "# test\n",
    "assert argmax2([0,1,2,3]) == 3\n",
    "assert argmax2([-4,-2,-3]) == 1\n",
    "assert argmax2([2]) == 0\n",
    "assert argmax2([0,0,1,1,1]) == 2"
   ]
  },
  {
   "attachments": {},
   "cell_type": "markdown",
   "metadata": {},
   "source": [
    "### `zip`\n",
    "Sometimes we want to iterate over multiple iterables of equal length simultaneously.\n",
    "\n",
    "One can achieve it like so:"
   ]
  },
  {
   "cell_type": "code",
   "execution_count": null,
   "metadata": {},
   "outputs": [],
   "source": [
    "NAMES = ['Cole', 'Jaden', 'Joe', 'Nilo', 'Lisa', 'George']\n",
    "POINTS = [3, 6, 4, 2, 8, 2]"
   ]
  },
  {
   "cell_type": "code",
   "execution_count": null,
   "metadata": {},
   "outputs": [],
   "source": [
    "for i in range(len(NAMES)):\n",
    "    print(f'{NAMES[i]} has {POINTS[i]} points')"
   ]
  },
  {
   "attachments": {},
   "cell_type": "markdown",
   "metadata": {},
   "source": [
    "Which looks a bit complicated and asymmetric. Let's see what the `zip` function returns:"
   ]
  },
  {
   "cell_type": "code",
   "execution_count": null,
   "metadata": {},
   "outputs": [],
   "source": [
    "print(\n",
    "    list(zip(NAMES, POINTS))\n",
    ")"
   ]
  },
  {
   "cell_type": "code",
   "execution_count": null,
   "metadata": {},
   "outputs": [],
   "source": [
    "def best_students(names: list[str], points: list[int]) -> list[str]:\n",
    "    '''\n",
    "    Returns a list of names of those students, \n",
    "    who scored more than the average amount of points.\n",
    "    '''\n",
    "    ..."
   ]
  },
  {
   "cell_type": "code",
   "execution_count": null,
   "metadata": {},
   "outputs": [],
   "source": [
    "# test\n",
    "assert best_students(NAMES, POINTS) == ['Jaden', 'Lisa']\n",
    "assert best_students(['A', 'B', 'C', 'D'], [1, 2, 3, 4]) == ['C', 'D']"
   ]
  },
  {
   "attachments": {},
   "cell_type": "markdown",
   "metadata": {},
   "source": [
    "Also, we can \"zip\" more than two iterables.\n",
    "\n",
    "Let's say the students now have the multipliers for their points (say, for doing some bonus projects).\n",
    "\n",
    "Write a new function `best_students_2` which takes these bonuses into account."
   ]
  },
  {
   "cell_type": "code",
   "execution_count": null,
   "metadata": {},
   "outputs": [],
   "source": [
    "MULTIPLIERS = [1.7, 1.0, 1.5, 2.7, 0.9, 1.1]"
   ]
  },
  {
   "cell_type": "code",
   "execution_count": null,
   "metadata": {},
   "outputs": [],
   "source": [
    "def best_students_2(names: list[str], points: list[int], mults: list[float]) -> list[str]:\n",
    "    '''\n",
    "    Returns a list of names of those students, \n",
    "    who scored more than the average amount of points where points are later multiplied by the corresponding multiplier from (mults).\n",
    "    For example, a person names[0] scored (points[0] * mult[0]) amount of points in total.\n",
    "    '''\n",
    "    ..."
   ]
  },
  {
   "cell_type": "code",
   "execution_count": null,
   "metadata": {},
   "outputs": [],
   "source": [
    "# test\n",
    "assert best_students_2(NAMES, POINTS, MULTIPLIERS) == ['Jaden', 'Joe', 'Nilo', 'Lisa']\n",
    "assert best_students_2(['A', 'B', 'C', 'D'], [1, 2, 3, 4], [1.0, 2.5, 1.4, 0.7]) == ['B', 'C']"
   ]
  },
  {
   "attachments": {},
   "cell_type": "markdown",
   "metadata": {},
   "source": [
    "### `all` and `any`\n",
    "\n",
    "We develop an algorithm which decides if our tests have failed or not. The task is to write functions which perform logical operations on a list of boolean values of an arbitrary length."
   ]
  },
  {
   "cell_type": "code",
   "execution_count": null,
   "metadata": {},
   "outputs": [],
   "source": [
    "def all_true(vals: list[bool]) -> bool:\n",
    "    '''\n",
    "    Return True if all the values are True. Otherwise, return False.\n",
    "    '''\n",
    "    ..."
   ]
  },
  {
   "cell_type": "code",
   "execution_count": null,
   "metadata": {},
   "outputs": [],
   "source": [
    "def at_least_one_true(vals: list[bool]) -> bool:\n",
    "    '''\n",
    "    Return True if at least one value is True. Otherwise, return False.\n",
    "    '''\n",
    "    ..."
   ]
  },
  {
   "cell_type": "code",
   "execution_count": null,
   "metadata": {},
   "outputs": [],
   "source": [
    "def all_false(vals: list[bool]) -> bool:\n",
    "    '''\n",
    "    Return True if all the values are False. Otherwise, return False.\n",
    "    '''\n",
    "    ..."
   ]
  },
  {
   "cell_type": "code",
   "execution_count": null,
   "metadata": {},
   "outputs": [],
   "source": [
    "def at_least_one_false(vals: list[bool]) -> bool:\n",
    "    '''\n",
    "    Return True if at least one value is False. Otherwise, return False.\n",
    "    '''\n",
    "    ..."
   ]
  },
  {
   "attachments": {},
   "cell_type": "markdown",
   "metadata": {},
   "source": [
    "Let's now use built-in logical operations. \n",
    "\n",
    "`all` checks if all the values in an iterable are True (true-like) and `any` checks if there's at least one True (true-like) value.\n",
    "\n",
    "Rewrite the above functions using these built-in operations."
   ]
  },
  {
   "cell_type": "code",
   "execution_count": null,
   "metadata": {},
   "outputs": [],
   "source": [
    "def all_true_2(vals: list[bool]) -> bool:\n",
    "    '''\n",
    "    Return True if all the values are True. Otherwise, return False.\n",
    "    '''\n",
    "    ..."
   ]
  },
  {
   "cell_type": "code",
   "execution_count": null,
   "metadata": {},
   "outputs": [],
   "source": [
    "def at_least_one_true_2(vals: list[bool]) -> bool:\n",
    "    '''\n",
    "    Return True if at least one value is True. Otherwise, return False.\n",
    "    '''\n",
    "    ..."
   ]
  },
  {
   "cell_type": "code",
   "execution_count": null,
   "metadata": {},
   "outputs": [],
   "source": [
    "def all_false_2(vals: list[bool]) -> bool:\n",
    "    '''\n",
    "    Return True if all the values are False. Otherwise, return False.\n",
    "    '''\n",
    "    ..."
   ]
  },
  {
   "cell_type": "code",
   "execution_count": null,
   "metadata": {},
   "outputs": [],
   "source": [
    "def at_least_one_false_2(vals: list[bool]) -> bool:\n",
    "    '''\n",
    "    Return True if at least one value is False. Otherwise, return False.\n",
    "    '''\n",
    "    ..."
   ]
  },
  {
   "cell_type": "code",
   "execution_count": null,
   "metadata": {},
   "outputs": [],
   "source": [
    "# test\n",
    "FUNCS_ALL_ANY = [all_true, at_least_one_true, all_false, at_least_one_false]\n",
    "FUNCS2_ALL_ANY = [all_true_2, at_least_one_true_2, all_false_2, at_least_one_false_2]\n",
    "\n",
    "TEST_ALL_ANY = [\n",
    "    [False, True, True, True],\n",
    "    [True, True, True, True],\n",
    "    [False, False, False],\n",
    "    [False, False, True, False, False],\n",
    "]\n",
    "\n",
    "ANSWERS_ALL_ANY = [\n",
    "    [False, True, False, False],\n",
    "    [True, True, False, True],\n",
    "    [False, False, True, False],\n",
    "    [True, False, True, True]\n",
    "]\n",
    "\n",
    "for i, (f1, f2) in enumerate(zip(FUNCS_ALL_ANY, FUNCS2_ALL_ANY)):\n",
    "    for j, test in enumerate(TEST_ALL_ANY):\n",
    "        if f1(test) == f2(test) == ANSWERS_ALL_ANY[i][j]:\n",
    "            print(f'passed both {f1.__name__}')\n",
    "        else:\n",
    "            print(f'failed {f1.__name__} or {f2.__name__}')"
   ]
  },
  {
   "attachments": {},
   "cell_type": "markdown",
   "metadata": {},
   "source": [
    "### `lambda`\n",
    "\n",
    "These are commonly called \"anonymous functions\". That is, one does not need to give it a name to use it in code. They become most useful when some other function (ex.: `map`, `max/min`, `sort/sorted`, etc.) requires a simple one-line callable as an argument.\n",
    "\n",
    "`lambda`-functions in python have the following syntax:\n",
    "```\n",
    "lambda <arguments>: <return_value>   ->   Callable[[arguments, ...], return_value]\n",
    "```\n",
    "\n",
    "For example, here's how one normally write a function that squares a number:\n",
    "```\n",
    "def sqr(x):\n",
    "    return x**2\n",
    "```\n",
    "and here's how it can be done using a lambda-expression:\n",
    "```\n",
    "sqr = lambda x: x**2\n",
    "```\n"
   ]
  },
  {
   "cell_type": "code",
   "execution_count": null,
   "metadata": {},
   "outputs": [],
   "source": [
    "def sqr1(x):\n",
    "    return x**2\n",
    "\n",
    "sqr2 = lambda x: x**2\n",
    "\n",
    "print(type(sqr1), type(sqr2))\n",
    "print(sqr1(3), sqr2(3))"
   ]
  },
  {
   "attachments": {},
   "cell_type": "markdown",
   "metadata": {},
   "source": [
    "However, you should not use `lambda` to create functions which have a name. For this it's more explicit to use the `def <name>(<args>): return <return value>` syntax. Use `lambda`s to pass a used-only-once simple function to another function."
   ]
  },
  {
   "cell_type": "code",
   "execution_count": null,
   "metadata": {},
   "outputs": [],
   "source": [
    "from typing import Callable\n",
    "\n",
    "Int_to_int = Callable[[int], int]\n",
    "\n",
    "def call_function(func: Int_to_int, arg: int) -> int:\n",
    "    '''\n",
    "    Calls a given function (func: int -> int) with a given argument (arg) and returns the result.\n",
    "    Ex.: func(x)=x^2, arg=3 -> func(3) = 3^2 = 9\n",
    "    '''\n",
    "    ...\n",
    "\n",
    "def inc(x: int) -> int:\n",
    "    return x + 1\n",
    "\n",
    "print(call_function(inc, 3))\n",
    "print(call_function(lambda x: x + 1, 3))"
   ]
  },
  {
   "cell_type": "code",
   "execution_count": null,
   "metadata": {},
   "outputs": [],
   "source": [
    "def compose(f: Int_to_int, g: Int_to_int) -> Int_to_int:\n",
    "    '''*\n",
    "    Return a composition of two functions (f) and (g)\n",
    "    as a new function return(x) = f(g(x)).\n",
    "    Ex.: f(x)=x^2, g(x)=x-1 -> return=f(g(x))=(x-1)^2.\n",
    "    '''\n",
    "    ..."
   ]
  },
  {
   "cell_type": "code",
   "execution_count": null,
   "metadata": {},
   "outputs": [],
   "source": [
    "# test\n",
    "f1 = lambda x: x**2; g1 = lambda x: x - 1\n",
    "assert f1(g1(12)) == compose(f1, g1)(12)\n",
    "assert g1(f1(12)) == compose(g1, f1)(12)\n",
    "\n",
    "import math\n",
    "assert math.sin(math.exp(4)) == compose(math.sin, math.exp)(4)"
   ]
  },
  {
   "attachments": {},
   "cell_type": "markdown",
   "metadata": {},
   "source": [
    "### `reversed` and `sorted`"
   ]
  },
  {
   "attachments": {},
   "cell_type": "markdown",
   "metadata": {},
   "source": [
    "Print the elements of the following list in reverse as you would've done it normally and then using `reversed`:"
   ]
  },
  {
   "cell_type": "code",
   "execution_count": null,
   "metadata": {},
   "outputs": [],
   "source": [
    "def print_in_reverse(a: list) -> None:\n",
    "    # DO NOT use reversed\n",
    "    ...\n",
    "\n",
    "def print_in_reverse_2(a: list) -> None:\n",
    "    # use reversed\n",
    "    ..."
   ]
  },
  {
   "cell_type": "code",
   "execution_count": null,
   "metadata": {},
   "outputs": [],
   "source": [
    "lst1 = [1, 5, 4, 7, 6, 4]\n",
    "\n",
    "# both of these should print:\n",
    "# 4\n",
    "# 6\n",
    "# 7\n",
    "# 4\n",
    "# 5\n",
    "# 1\n",
    "\n",
    "print_in_reverse(lst1)\n",
    "print_in_reverse_2(lst1)"
   ]
  },
  {
   "attachments": {},
   "cell_type": "markdown",
   "metadata": {},
   "source": [
    "The main advantage of using `reversed` is that it does not create a copy of an object and makes a piece of code more explicit."
   ]
  },
  {
   "attachments": {},
   "cell_type": "markdown",
   "metadata": {},
   "source": [
    "Now we look at the `sorted` function. _Note_: it always returns a `list` of objects regardless of what the input type was.\n",
    "\n",
    "There are a few important differences between it and the `list.sort` method."
   ]
  },
  {
   "attachments": {},
   "cell_type": "markdown",
   "metadata": {},
   "source": [
    "Difference 1: sorted can be used on any iterable with comparable objects while"
   ]
  },
  {
   "cell_type": "code",
   "execution_count": null,
   "metadata": {},
   "outputs": [],
   "source": [
    "# list.sort is a list-only method:\n",
    "\n",
    "ex11 = (2, 6, 4, 5)\n",
    "print(sorted(ex11))\n",
    "\n",
    "ex12 = 'dbac'\n",
    "print(sorted(ex12))\n",
    "\n",
    "# cannot do this:\n",
    "# ex11.sort()\n",
    "# ex12.sort()"
   ]
  },
  {
   "attachments": {},
   "cell_type": "markdown",
   "metadata": {},
   "source": [
    "Difference 2: list.sort sorts a list in-place while sorted returns a new sorted list"
   ]
  },
  {
   "cell_type": "code",
   "execution_count": null,
   "metadata": {},
   "outputs": [],
   "source": [
    "ex21 = [2, 6, 4, 5]\n",
    "print('here\\'s how  the sorted ex21 looks', sorted(ex21))\n",
    "print('didn\\'t change:', ex21)\n",
    "\n",
    "ex21.sort()\n",
    "print('did change:', ex21)"
   ]
  },
  {
   "cell_type": "code",
   "execution_count": null,
   "metadata": {},
   "outputs": [],
   "source": [
    "def three_highest(a: list[int]) -> list[int]:\n",
    "    '''\n",
    "    Return top three largest numbers in a descending order from a given list.\n",
    "    Do NOT modify the list.\n",
    "    '''\n",
    "    ..."
   ]
  },
  {
   "cell_type": "code",
   "execution_count": null,
   "metadata": {},
   "outputs": [],
   "source": [
    "# test three_highest\n",
    "T1_TH = [3,7,9,5,4,6,7,8]; T1_TH_CP = T1_TH.copy()\n",
    "T1_TH_RES = three_highest(T1_TH)\n",
    "assert T1_TH_RES == [9, 8, 7]\n",
    "assert T1_TH == T1_TH_CP"
   ]
  },
  {
   "attachments": {},
   "cell_type": "markdown",
   "metadata": {},
   "source": [
    "### `map`\n",
    "This function gets a function (of one argument) and an iterable and returns another iterable where each element is the value of the function evaluated at every element of the initial iterable:\n",
    "\n",
    "`map(f, (a1, a2, a3, ...)) -> (f(a1), f(a2), f(a3), ...)`"
   ]
  },
  {
   "attachments": {},
   "cell_type": "markdown",
   "metadata": {},
   "source": [
    "For example, here is a function which takes a list and returns the sum of the squares of its elemets:"
   ]
  },
  {
   "cell_type": "code",
   "execution_count": null,
   "metadata": {},
   "outputs": [],
   "source": [
    "def sum_of_squares(a: list[int]) -> int:\n",
    "    s = 0\n",
    "    for el in a:\n",
    "        s += el**2\n",
    "    return s"
   ]
  },
  {
   "attachments": {},
   "cell_type": "markdown",
   "metadata": {},
   "source": [
    "Alternatively, we can use the `map` function with the `lambda` expression to achieve the same result:"
   ]
  },
  {
   "cell_type": "code",
   "execution_count": null,
   "metadata": {},
   "outputs": [],
   "source": [
    "# Every el is already a square:\n",
    "\n",
    "def sum_of_squares_2(a: list[int]) -> int:\n",
    "    s = 0\n",
    "    for el in map(lambda x: x**2, a):\n",
    "        s += el\n",
    "    return s\n",
    "\n",
    "# Or simply use the sum function which accepts any iterable*\n",
    "\n",
    "def sum_of_squares_3(a: list[int]) -> int:\n",
    "    return sum(map(lambda x: x**2, a))"
   ]
  },
  {
   "cell_type": "code",
   "execution_count": null,
   "metadata": {},
   "outputs": [],
   "source": [
    "print(\n",
    "    sum_of_squares([3,6,9,1]),\n",
    "    sum_of_squares_2([3,6,9,1]),\n",
    "    sum_of_squares_3([3,6,9,1]),\n",
    ")"
   ]
  },
  {
   "attachments": {},
   "cell_type": "markdown",
   "metadata": {},
   "source": [
    "Now, use the `map` function to complete the following functions:"
   ]
  },
  {
   "cell_type": "code",
   "execution_count": null,
   "metadata": {},
   "outputs": [],
   "source": [
    "def plus_one(a: list[int]) -> list[int]:\n",
    "    '''\n",
    "    Return a new list where every value is exactly one higher than in the input list.\n",
    "    Ex.: [1, 5, 2] -> [2, 6, 3]\n",
    "    '''\n",
    "    ..."
   ]
  },
  {
   "cell_type": "code",
   "execution_count": null,
   "metadata": {},
   "outputs": [],
   "source": [
    "# test plus_one\n",
    "assert plus_one([1,2,3]) == [2,3,4]\n",
    "assert plus_one([2]) == [3]\n",
    "assert plus_one([0, -1, 1]) == [1, 0, 2]"
   ]
  },
  {
   "cell_type": "code",
   "execution_count": null,
   "metadata": {},
   "outputs": [],
   "source": [
    "import math\n",
    "\n",
    "def sum_sqrt(a: list[int]) -> float:\n",
    "    '''\n",
    "    Return the sum of square roots of elemets from a.\n",
    "    It is guaranteed that all elements of a are non-negative.\n",
    "    Ex.: [3, 4, 0, 1] -> sqrt(3) + 2 + 0 + 1 = 4.7320508...\n",
    "    '''\n",
    "    ..."
   ]
  },
  {
   "cell_type": "code",
   "execution_count": null,
   "metadata": {},
   "outputs": [],
   "source": [
    "# test sum_sqrt \n",
    "assert sum_sqrt([3,4,0,1]) == 4.732050807568877\n",
    "assert sum_sqrt([18, 2]) == 5.65685424949238\n",
    "assert sum_sqrt([4, 9]) == 5.0"
   ]
  },
  {
   "cell_type": "code",
   "execution_count": null,
   "metadata": {},
   "outputs": [],
   "source": [
    "def pairwise_products(a: list[int]) -> int:\n",
    "    '''*\n",
    "    For a list of integers find the sum of all pairwise products.\n",
    "    It is guaranteed that len(a) >= 2.\n",
    "    Ex.: [2,5,4] -> 2*5 + 2*4 + 5*4 = 38\n",
    "    '''\n",
    "    ..."
   ]
  },
  {
   "cell_type": "code",
   "execution_count": null,
   "metadata": {},
   "outputs": [],
   "source": [
    "# test pairwise_products\n",
    "assert pairwise_products([2,5,4]) == 38\n",
    "assert pairwise_products([1,2,3,4,5,6]) == 175\n",
    "assert pairwise_products([1,2,0]) == 2\n",
    "assert pairwise_products([5,3]) == 15"
   ]
  },
  {
   "attachments": {},
   "cell_type": "markdown",
   "metadata": {},
   "source": [
    "### `isinstance`\n",
    "\n",
    "Is a function that checks if a given object is of the given type or not. Syntax:\n",
    "```\n",
    "isinstance(<object>, <type>) -> bool\n",
    "```\n",
    "For example, we can assure that an object a=4 is of type integer and s='abc' is not:"
   ]
  },
  {
   "cell_type": "code",
   "execution_count": null,
   "metadata": {},
   "outputs": [],
   "source": [
    "a = 4\n",
    "s = 'abc'\n",
    "print(f'{a=} is of type int:', isinstance(a, int))\n",
    "print(f'{s=} is of type int:', isinstance(s, int))\n",
    "print(f'{s=} is of type str:', isinstance(s, str))"
   ]
  },
  {
   "attachments": {},
   "cell_type": "markdown",
   "metadata": {},
   "source": [
    "[*] You can alternatively use the `type` function, but it checks for the exact match of types, whilst `isinstance` allows for any subinstance."
   ]
  },
  {
   "cell_type": "code",
   "execution_count": null,
   "metadata": {},
   "outputs": [],
   "source": [
    "# this is called inheritance;\n",
    "# if you have no idea of what that is, skip this cell\n",
    "\n",
    "class MyList(list):\n",
    "    pass\n",
    "\n",
    "ml = MyList()\n",
    "\n",
    "print(isinstance(ml, list))\n",
    "print(type(ml) == list)"
   ]
  },
  {
   "attachments": {},
   "cell_type": "markdown",
   "metadata": {},
   "source": [
    "Let's now write a function which asserts a specific type of its argument:"
   ]
  },
  {
   "cell_type": "code",
   "execution_count": null,
   "metadata": {},
   "outputs": [],
   "source": [
    "def compute_double(x: int) -> int:\n",
    "    '''\n",
    "    Returns x * 2.\n",
    "    Raises a TypeError if x is not an integer.\n",
    "    '''\n",
    "    if not isinstance(x, int):\n",
    "        raise TypeError(f'{x} is not an integer')\n",
    "    return 2 * x\n",
    "\n",
    "print(compute_double(4))"
   ]
  },
  {
   "cell_type": "code",
   "execution_count": null,
   "metadata": {},
   "outputs": [],
   "source": [
    "# this will result in an error:\n",
    "\n",
    "print(compute_double('ab'))"
   ]
  },
  {
   "cell_type": "code",
   "execution_count": null,
   "metadata": {},
   "outputs": [],
   "source": [
    "# this will also result in an error:\n",
    "\n",
    "print(compute_double(1.5))"
   ]
  },
  {
   "cell_type": "code",
   "execution_count": null,
   "metadata": {},
   "outputs": [],
   "source": [
    "def sum_weak(lst: list[str | int]) -> int:\n",
    "    '''\n",
    "    Computes and returns the sum of only integer elements in (lst).\n",
    "    '''\n",
    "    ..."
   ]
  },
  {
   "cell_type": "code",
   "execution_count": null,
   "metadata": {},
   "outputs": [],
   "source": [
    "# test\n",
    "assert sum_weak([1, 'a', 2.3, 3]) == 4\n",
    "assert sum_weak(['a', 'b', 4.2]) == 0"
   ]
  },
  {
   "attachments": {},
   "cell_type": "markdown",
   "metadata": {},
   "source": [
    "[Bonus] Try to explain why this is true:"
   ]
  },
  {
   "cell_type": "code",
   "execution_count": null,
   "metadata": {},
   "outputs": [],
   "source": [
    "a1 = True; a2 = False\n",
    "print(isinstance(a1, int))\n",
    "print(isinstance(a2, int))"
   ]
  },
  {
   "attachments": {},
   "cell_type": "markdown",
   "metadata": {},
   "source": [
    "## Part 1: TEST YOURSELF\n",
    "Here are 5 problems to test how well you understood the contents of this introduction.\n",
    "For each problem, replace the `...` with your solution, create new cells to test it (if needed), and run the last cell to test your solution."
   ]
  },
  {
   "attachments": {},
   "cell_type": "markdown",
   "metadata": {},
   "source": [
    "### Problem 1"
   ]
  },
  {
   "cell_type": "code",
   "execution_count": null,
   "metadata": {},
   "outputs": [],
   "source": [
    "def problem_1(vals: list[int], weights: list[float]) -> float:\n",
    "    '''\n",
    "    For a given array of `vals` and a `weights` array, find their weighted sum. That is, a sum of corresponding products.\n",
    "    Returns a sum of (vals) weighted with (weights).\n",
    "    Ex.: vals=[1,3,2], weights=[2,4,3] -> 1*2 + 3*4 + 2*3 = 20\n",
    "    '''\n",
    "    ..."
   ]
  },
  {
   "cell_type": "code",
   "execution_count": null,
   "metadata": {},
   "outputs": [],
   "source": [
    "# test problem_1\n",
    "import math\n",
    "assert math.isclose(problem_1([2,5,4], [0.2,0.5,1.2]), 7.7)\n",
    "assert math.isclose(problem_1([2], [2.5]), 5.0)\n",
    "assert math.isclose(problem_1([1,2,3,4,5], [5.0,4.0,3.0,2.0,1.0]), 35.0)"
   ]
  },
  {
   "attachments": {},
   "cell_type": "markdown",
   "metadata": {},
   "source": [
    "### Problem 2"
   ]
  },
  {
   "cell_type": "code",
   "execution_count": null,
   "metadata": {},
   "outputs": [],
   "source": [
    "def problem_2(a: list[int]) -> list[int]:\n",
    "    '''*\n",
    "    Return a list of indices of original numbers in a given list when the numbers are sorted in a descending order.\n",
    "    Do not modify the list.\n",
    "    Ex.: [4,7,1,3] -> [1, 0, 3, 2], because the highest number is a[1] = 7, second highest is a[0] = 4, ...\n",
    "    '''\n",
    "    ..."
   ]
  },
  {
   "cell_type": "code",
   "execution_count": null,
   "metadata": {},
   "outputs": [],
   "source": [
    "# test problem_2\n",
    "assert problem_2([4,7,1,3]) == [1,0,3,2]\n",
    "assert problem_2([1,2]) == [1,0]\n",
    "assert problem_2([1,0]) == [0,1]\n",
    "assert problem_2([1,2,3,4,5]) == [4,3,2,1,0]"
   ]
  },
  {
   "attachments": {},
   "cell_type": "markdown",
   "metadata": {},
   "source": [
    "### Problem 3"
   ]
  },
  {
   "cell_type": "code",
   "execution_count": null,
   "metadata": {},
   "outputs": [],
   "source": [
    "def problem_3() -> str:\n",
    "    '''\n",
    "    Return a string where the character CHS[i] is repeated RPT[i]+i times and the order is preserved.\n",
    "    Note: use the local constants CHS and RPT as input variables. Do not change these values.\n",
    "    Ex.: if CHS = ['a', 'b', 'c'] and RPT = [3, 4, 1], then the result is 'aaabbbbbcc'.\n",
    "    '''\n",
    "    CHS = list('qetuoadgjlzcbm!')\n",
    "    RPT = [3, 3, 1, 1, 4, 3, 4, 3, 0, 1, 4, 2, 3, 0, 2]\n",
    "    ..."
   ]
  },
  {
   "cell_type": "code",
   "execution_count": null,
   "metadata": {},
   "outputs": [],
   "source": [
    "# test problem_3\n",
    "import hashlib\n",
    "res = problem_3()\n",
    "assert isinstance(res, str), 'Output is not a str object'\n",
    "assert hashlib.sha256(res.encode()).hexdigest()[:7] == '54a80a4', 'Output string is incorrect'"
   ]
  },
  {
   "attachments": {},
   "cell_type": "markdown",
   "metadata": {},
   "source": [
    "### Problem 4"
   ]
  },
  {
   "cell_type": "code",
   "execution_count": null,
   "metadata": {},
   "outputs": [],
   "source": [
    "def problem_4(bin_num: str) -> int:\n",
    "    '''\n",
    "    Convert a binary number into decimal. Do not use the `int` function.\n",
    "    The input is passed as a string of 1s and 0s.\n",
    "    Return an integer result.\n",
    "    Ex.: '101' -> 5.\n",
    "    '''\n",
    "    ..."
   ]
  },
  {
   "cell_type": "code",
   "execution_count": null,
   "metadata": {},
   "outputs": [],
   "source": [
    "# test problem_4\n",
    "TESTS = ['0', '1', '10', '01', '101', '1010011011', '11111']\n",
    "for t in TESTS:\n",
    "    assert (res := problem_4(t)) == (true:=int(t, 2)), \\\n",
    "        f'failed test t=\\'{t}\\': expected {true}, got {res}'"
   ]
  },
  {
   "attachments": {},
   "cell_type": "markdown",
   "metadata": {},
   "source": [
    "### Problem 5"
   ]
  },
  {
   "cell_type": "code",
   "execution_count": null,
   "metadata": {},
   "outputs": [],
   "source": [
    "def problem_5(values: list[int]) -> int:\n",
    "    '''\n",
    "    Given a list of stock values, \n",
    "    return the number of pairs of consecutive days when the value was increasing.\n",
    "    Ex.: [2,5,7,4,3,3,5,8,6,4] ->  4, because there are exactly 4 such pairs: (2<5, 5<7, 3<5, 5<8)\n",
    "    '''\n",
    "    ..."
   ]
  },
  {
   "cell_type": "code",
   "execution_count": null,
   "metadata": {},
   "outputs": [],
   "source": [
    "# test problem_5\n",
    "assert problem_5([2,5,7,4,3,3,5,8,6,4]) == 4\n",
    "assert problem_5([1,1,1,1,1]) == 0\n",
    "assert problem_5([1,2,3,4,5]) == 4\n",
    "assert problem_5([8,9,7,8,6,7,5,6,4,5,3,4]) == 6\n",
    "assert problem_5([7,6,5,4,3]) == 0"
   ]
  },
  {
   "attachments": {},
   "cell_type": "markdown",
   "metadata": {},
   "source": [
    "### Problem 6"
   ]
  },
  {
   "cell_type": "code",
   "execution_count": null,
   "metadata": {},
   "outputs": [],
   "source": [
    "def problem_6(data: list[dict[str, int]]) -> tuple[list[int], list[int], list[int]]:\n",
    "    '''\n",
    "    Given a list of dictionaries with keys 'a', 'b' and 'c',\n",
    "    return a tuple of 3 lists: the first one consisting only a-values, the second one - b-values, ...\n",
    "    Ex.: [{'a': 1, 'c': 2, 'b': 2}, {'a': 4, 'c': 5, 'b': 6}] -> ([1, 4], [2, 6], [2, 5])\n",
    "    '''\n",
    "    ..."
   ]
  },
  {
   "cell_type": "code",
   "execution_count": null,
   "metadata": {},
   "outputs": [],
   "source": [
    "# test problem_6\n",
    "assert problem_6([{'a': 1, 'c': 2, 'b': 2}, {'a': 4, 'c': 5, 'b': 6}]) == ([1, 4], [2, 6], [2, 5])\n",
    "assert problem_6([\n",
    "    {'a': 3, 'c': 2, 'b': 9},\n",
    "    {'c': 2, 'b': 1, 'a': -3},\n",
    "    {'a': 5, 'c': 2, 'b': 10},\n",
    "    {'a': 3, 'b': 9, 'c': 8},\n",
    "]) == ([3, -3, 5, 3], [9, 1, 10, 9], [2, 2, 2, 8])\n",
    "assert problem_6([{'c': 2, 'b': 1, 'a': 0}]) == ([0], [1], [2])"
   ]
  },
  {
   "attachments": {},
   "cell_type": "markdown",
   "metadata": {},
   "source": [
    "Further reading: https://docs.python.org/3/library/functions.html."
   ]
  }
 ],
 "metadata": {
  "kernelspec": {
   "display_name": "Python 3",
   "language": "python",
   "name": "python3"
  },
  "language_info": {
   "codemirror_mode": {
    "name": "ipython",
    "version": 3
   },
   "file_extension": ".py",
   "mimetype": "text/x-python",
   "name": "python",
   "nbconvert_exporter": "python",
   "pygments_lexer": "ipython3",
   "version": "3.11.2"
  },
  "orig_nbformat": 4
 },
 "nbformat": 4,
 "nbformat_minor": 2
}
