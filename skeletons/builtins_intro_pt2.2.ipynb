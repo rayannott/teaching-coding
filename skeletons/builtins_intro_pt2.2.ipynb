{
 "cells": [
  {
   "attachments": {},
   "cell_type": "markdown",
   "metadata": {},
   "source": [
    "In this part the following modules will be covered:\n",
    "\n",
    "- file handling: `os json pickle csv`\n",
    "- enumerators: `enum`\n",
    "- containter datatypes: `collections`\n",
    "- regular expressions: `re`\n",
    "- developer tools: `logging`"
   ]
  },
  {
   "attachments": {},
   "cell_type": "markdown",
   "metadata": {},
   "source": [
    "## Part 2.2. Standard library\n",
    "\n",
    "The task is the same: replace `...` (Ellipsis) symbols with suitable pieces of code. \n",
    "\n",
    "You can find all the files for this notebook in the `pt2.2_files` zip archive. Unzip it and place the folder in the same directory as the notebook."
   ]
  },
  {
   "cell_type": "code",
   "execution_count": null,
   "metadata": {},
   "outputs": [],
   "source": [
    "FILES = 'pt2.2_files'"
   ]
  },
  {
   "attachments": {},
   "cell_type": "markdown",
   "metadata": {},
   "source": [
    "### `os`\n",
    "\n",
    "You can use this module to access files and directories on your PC."
   ]
  },
  {
   "cell_type": "code",
   "execution_count": null,
   "metadata": {},
   "outputs": [],
   "source": [
    "import os"
   ]
  },
  {
   "attachments": {},
   "cell_type": "markdown",
   "metadata": {},
   "source": [
    "`os.path.join`\n",
    "\n",
    "This function enables you to join paths. This method is in all ways superior to concatenating path strings with `+` as it takes into account OS-specific symbols.\n",
    "\n",
    "Let's create a path to the `1.json` file located in `json_files/` subdirectory in `FILES` directory"
   ]
  },
  {
   "cell_type": "code",
   "execution_count": null,
   "metadata": {},
   "outputs": [],
   "source": [
    "SUBDIRECTORY = 'json_files'; FILENAME = '1.json'\n",
    "bad_way = FILES + '/' + SUBDIRECTORY + '/' + FILENAME\n",
    "good_way = os.path.join(FILES, SUBDIRECTORY, FILENAME)\n",
    "\n",
    "print(bad_way, good_way, sep='\\n')"
   ]
  },
  {
   "attachments": {},
   "cell_type": "markdown",
   "metadata": {},
   "source": [
    "`os.listdir`\n",
    "\n",
    "Use this function to get a list of all files in a directory."
   ]
  },
  {
   "cell_type": "code",
   "execution_count": null,
   "metadata": {},
   "outputs": [],
   "source": [
    "def all_json_files() -> list[str]:\n",
    "    '''\n",
    "    Return a list of all .json filenames from that `json_files/` directory.\n",
    "    '''\n",
    "    return [filename for filename in os.listdir(os.path.join(FILES, SUBDIRECTORY)) if filename.endswith('.json')]"
   ]
  },
  {
   "cell_type": "code",
   "execution_count": null,
   "metadata": {},
   "outputs": [],
   "source": [
    "all_json_files()"
   ]
  },
  {
   "cell_type": "code",
   "execution_count": null,
   "metadata": {},
   "outputs": [],
   "source": [
    "# test"
   ]
  },
  {
   "attachments": {},
   "cell_type": "markdown",
   "metadata": {},
   "source": [
    "### `json`\n",
    "\n",
    "JSON format is widely used to serialize dictionary-like data."
   ]
  },
  {
   "cell_type": "code",
   "execution_count": null,
   "metadata": {},
   "outputs": [],
   "source": [
    "import json"
   ]
  },
  {
   "attachments": {},
   "cell_type": "markdown",
   "metadata": {},
   "source": [
    "Read that `1.json` json file and return it as a `dict` object."
   ]
  },
  {
   "cell_type": "code",
   "execution_count": null,
   "metadata": {},
   "outputs": [],
   "source": [
    "def simple_read_json() -> dict:\n",
    "    ..."
   ]
  },
  {
   "attachments": {},
   "cell_type": "markdown",
   "metadata": {},
   "source": [
    "One can also read json data directly from a url address:"
   ]
  },
  {
   "cell_type": "code",
   "execution_count": null,
   "metadata": {},
   "outputs": [],
   "source": [
    "from urllib.request import urlopen\n",
    "\n",
    "URL = 'https://global-warming.org/api/ocean-warming-api'\n",
    "response = urlopen(URL)\n",
    "\n",
    "data = json.loads(response.read())"
   ]
  },
  {
   "cell_type": "code",
   "execution_count": null,
   "metadata": {},
   "outputs": [],
   "source": [
    "print(data)\n",
    "print(data['description'])\n",
    "print(f'in total: {len(data[\"result\"])} temperature measurements')"
   ]
  },
  {
   "cell_type": "code",
   "execution_count": null,
   "metadata": {},
   "outputs": [],
   "source": [
    "def create_years_anomalies() -> tuple[list[int], list[float]]:\n",
    "    '''\n",
    "    Extract useful measurements from the `data` dictionary stored under the `'result'` key\n",
    "    as another dictionary.\n",
    "    Return a tuple of (list of years as ints, list of temperatures as floats)\n",
    "    '''\n",
    "    years = []; anomalies = []\n",
    "    for y, a in data['result'].items():\n",
    "        years.append(int(y))\n",
    "        anomalies.append(float(a))\n",
    "    return years, anomalies"
   ]
  },
  {
   "cell_type": "code",
   "execution_count": null,
   "metadata": {},
   "outputs": [],
   "source": [
    "yrs, anom = create_years_anomalies()"
   ]
  },
  {
   "cell_type": "code",
   "execution_count": null,
   "metadata": {},
   "outputs": [],
   "source": [
    "# test\n",
    "import math\n",
    "assert isinstance(yrs[0], int), 'Elements of yrs must be integers'\n",
    "assert isinstance(anom[0], float), 'Elements of anom must be floats'\n",
    "assert yrs == list(range(1880, 2023)), 'Incorrect list of years'\n",
    "assert math.isclose(sum(anom), 10.44), 'Something wrong with the anom elements'"
   ]
  },
  {
   "attachments": {},
   "cell_type": "markdown",
   "metadata": {},
   "source": [
    "If previous tests passed, run the second next cell to plot a graph of \"temperature anomaly by year\".\n",
    "\n",
    "Make sure that you have the `matplotlib` module installed by running the next cell."
   ]
  },
  {
   "cell_type": "code",
   "execution_count": null,
   "metadata": {},
   "outputs": [],
   "source": [
    "%pip install matplotlib"
   ]
  },
  {
   "cell_type": "code",
   "execution_count": null,
   "metadata": {},
   "outputs": [],
   "source": [
    "from matplotlib import pyplot as plt\n",
    "\n",
    "# plt.plot(yrs, [0] * len(yrs))\n",
    "plt.plot(yrs, anom, ':.')\n",
    "plt.title('Temperature anomaly by year')\n",
    "plt.xlabel('year')\n",
    "plt.ylabel('anomaly, degrees Celsius')\n",
    "plt.grid()\n",
    "plt.show()"
   ]
  },
  {
   "cell_type": "code",
   "execution_count": null,
   "metadata": {},
   "outputs": [],
   "source": []
  }
 ],
 "metadata": {
  "kernelspec": {
   "display_name": "thevenv",
   "language": "python",
   "name": "python3"
  },
  "language_info": {
   "codemirror_mode": {
    "name": "ipython",
    "version": 3
   },
   "file_extension": ".py",
   "mimetype": "text/x-python",
   "name": "python",
   "nbconvert_exporter": "python",
   "pygments_lexer": "ipython3",
   "version": "3.11.2"
  },
  "orig_nbformat": 4
 },
 "nbformat": 4,
 "nbformat_minor": 2
}
