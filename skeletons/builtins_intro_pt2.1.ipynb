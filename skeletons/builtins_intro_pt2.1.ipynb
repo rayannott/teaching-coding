{
 "cells": [
  {
   "attachments": {},
   "cell_type": "markdown",
   "metadata": {},
   "source": [
    "This notebook provides a _very_ basic introduction to the following STD python modules:\n",
    "\n",
    "- general: `string`\n",
    "- file handling: `os`\n",
    "- time: `time datetime`\n",
    "- numerical: `math random`"
   ]
  },
  {
   "attachments": {},
   "cell_type": "markdown",
   "metadata": {},
   "source": [
    "Part 2.2 continues with\n",
    "\n",
    "- file handling: `json pickle csv`\n",
    "- developer tools: `logging`\n",
    "- containter datatypes: `collections`\n",
    "- enumerators: `enum`\n",
    "- regular expressions: `re`"
   ]
  },
  {
   "attachments": {},
   "cell_type": "markdown",
   "metadata": {},
   "source": [
    "## Part 2.1. Standard library"
   ]
  },
  {
   "attachments": {},
   "cell_type": "markdown",
   "metadata": {},
   "source": [
    "Task is the same: Replace `...` (Ellipsis) symbols with suitable pieces of code. "
   ]
  },
  {
   "attachments": {},
   "cell_type": "markdown",
   "metadata": {},
   "source": [
    "### `string`"
   ]
  },
  {
   "cell_type": "code",
   "execution_count": null,
   "metadata": {},
   "outputs": [],
   "source": [
    "import string"
   ]
  },
  {
   "attachments": {},
   "cell_type": "markdown",
   "metadata": {},
   "source": [
    "Not much to say here, the `string` module, among other things, contains a few useful constants such as:"
   ]
  },
  {
   "cell_type": "code",
   "execution_count": null,
   "metadata": {},
   "outputs": [],
   "source": [
    "print('Lowercase letters:', repr(string.ascii_lowercase))\n",
    "print('Uppercase letters:', repr(string.ascii_uppercase))\n",
    "print('All letters:', repr(string.ascii_letters))\n",
    "print('Punctuation:', repr(string.punctuation))"
   ]
  },
  {
   "attachments": {},
   "cell_type": "markdown",
   "metadata": {},
   "source": [
    "These are all constants of type `str`.\n",
    "\n",
    "They can be used in different scenarious and are mainly there to free developers from typing them manually."
   ]
  },
  {
   "cell_type": "code",
   "execution_count": null,
   "metadata": {},
   "outputs": [],
   "source": [
    "def create_letter_number_map() -> dict[str, int]:\n",
    "    '''\n",
    "    This function returns a dictionary which maps a letter to its index.\n",
    "    Ex.: -> {'a': 0, 'b': 1, ..., 'z': 25}\n",
    "    '''\n",
    "    return dict(zip(string.ascii_lowercase, range(26)))"
   ]
  },
  {
   "cell_type": "code",
   "execution_count": null,
   "metadata": {},
   "outputs": [],
   "source": [
    "# test\n",
    "res = create_letter_number_map()\n",
    "for i, ch in enumerate(string.ascii_lowercase):\n",
    "    assert res[ch] == i, f'failed {ch}; expected {i}, got {res[ch]}'"
   ]
  },
  {
   "attachments": {},
   "cell_type": "markdown",
   "metadata": {},
   "source": [
    "Wasn't much to see here, therefore let's look at some things which the `str` type can do as a bonus.\n",
    "\n",
    "_Note_: `str` type is immutable; that is, methods cannot change the value. As opposed to the `list` type: for example, `list.sort` modifies the list object in-place."
   ]
  },
  {
   "attachments": {},
   "cell_type": "markdown",
   "metadata": {},
   "source": [
    "`str.join`\n",
    "\n",
    "One can join an iterable containing strings with a delimeter."
   ]
  },
  {
   "cell_type": "code",
   "execution_count": null,
   "metadata": {},
   "outputs": [],
   "source": [
    "a = ['a', 'b', 'c', 'd']\n",
    "res1 = ''.join(a)\n",
    "res2 = ','.join(a)\n",
    "res3 = '; '.join(a)\n",
    "res4 = 'HA'.join(a)\n",
    "print(res1, res2, res3, res4, sep='\\n')"
   ]
  },
  {
   "attachments": {},
   "cell_type": "markdown",
   "metadata": {},
   "source": [
    "Be careful as joining an iterable containing non-str values would result in an error (`TypeError`):"
   ]
  },
  {
   "cell_type": "code",
   "execution_count": null,
   "metadata": {},
   "outputs": [],
   "source": [
    "a = [1, 2, 3, 4]\n",
    "res5 = ''.join(a)"
   ]
  },
  {
   "cell_type": "code",
   "execution_count": null,
   "metadata": {},
   "outputs": [],
   "source": [
    "def joining_non_strs(a: list[int]) -> str:\n",
    "    '''\n",
    "    Fix a problem described above. That is,\n",
    "    Given a list of integers, concatenate them and return as a string.\n",
    "    Note: use the `str.join` method.\n",
    "    Ex.: [1,2,3] -> '123'; [0, 4] -> '04'\n",
    "    '''\n",
    "    return ''.join(map(str, a))"
   ]
  },
  {
   "cell_type": "code",
   "execution_count": null,
   "metadata": {},
   "outputs": [],
   "source": [
    "# test\n",
    "assert joining_non_strs([1,2,3]) == '123'\n",
    "assert joining_non_strs([0,4]) == '04'"
   ]
  },
  {
   "attachments": {},
   "cell_type": "markdown",
   "metadata": {},
   "source": [
    "`str.split`\n",
    "\n",
    "does the reverse of `str.join`: when called on a string, splits its contents into smaller strings on a specified character (`sep=' '`, by default)"
   ]
  },
  {
   "cell_type": "code",
   "execution_count": null,
   "metadata": {},
   "outputs": [],
   "source": [
    "str1 = '1 2 3 4'\n",
    "str2 = '1    2 3  4       5'\n",
    "str3 = '1 2,4 5,6 4'\n",
    "str4 = 'ahaahaahhaahahahhahaha'\n",
    "\n",
    "print(str1.split()) # defaults to a space character\n",
    "print(str2.split()) # ignores repeated separators\n",
    "print(str3.split()) # when no separator is specified, splits on spaces\n",
    "print(str3.split(sep=','))\n",
    "print(str4.split('ha'))"
   ]
  },
  {
   "attachments": {},
   "cell_type": "markdown",
   "metadata": {},
   "source": [
    "`.join` and `.split` are true inverses of each other:"
   ]
  },
  {
   "cell_type": "code",
   "execution_count": null,
   "metadata": {},
   "outputs": [],
   "source": [
    "str5 = '1 2 3'\n",
    "res1 = ' '.join(str5.split())\n",
    "str6 = ['1', '2', '3']\n",
    "res2 = ' '.join(str6).split()\n",
    "print(str5 == res1 and str6 == res2)"
   ]
  },
  {
   "attachments": {},
   "cell_type": "markdown",
   "metadata": {},
   "source": [
    "A slightly harder exercise: write a matlab-like string-to-matrix parser.\n",
    "\n",
    "(https://www.mathworks.com/help/matlab/learn_matlab/matrices-and-arrays.html)"
   ]
  },
  {
   "cell_type": "code",
   "execution_count": null,
   "metadata": {},
   "outputs": [],
   "source": [
    "def create_matrix(s: str) -> list[list[int]]:\n",
    "    '''\n",
    "    Given a string of digits, semicolons and spaces, where\n",
    "    each space separates elements of one row in a matrix and each semicolon separates different rows,\n",
    "    return a resulting matrix.\n",
    "    It is guaranteed, that there is no inconsistency in the number of elements in every row and column.\n",
    "    Ex.: '1 2;3 4' -> [[1, 2], [3, 4]]\n",
    "    '''\n",
    "    res = []\n",
    "    for row_str in s.split(';'):\n",
    "        res.append([*map(int, row_str.split())])\n",
    "    return res"
   ]
  },
  {
   "cell_type": "code",
   "execution_count": null,
   "metadata": {},
   "outputs": [],
   "source": [
    "# test\n",
    "assert create_matrix('1 2;3 4') == [[1, 2], [3, 4]]\n",
    "assert create_matrix('1 3 5; 2 4 6; 7 8 10') == [[1, 3, 5], [2, 4, 6], [7, 8, 10]]\n",
    "assert create_matrix('1;2;3') == [[1], [2], [3]]\n",
    "assert create_matrix('1 2 3') == [[1, 2, 3]]"
   ]
  },
  {
   "attachments": {},
   "cell_type": "markdown",
   "metadata": {},
   "source": [
    "`str.upper str.lower str.title`\n",
    "\n",
    "One can also make a string uppercase/lowercase as well as make it into a title:"
   ]
  },
  {
   "cell_type": "code",
   "execution_count": null,
   "metadata": {},
   "outputs": [],
   "source": [
    "print('hElLo, hoW aRe thIngS?'.upper())\n",
    "print('hElLo, hoW aRe thIngS?'.lower())\n",
    "print('hElLo, hoW aRe thIngS?'.title())"
   ]
  },
  {
   "cell_type": "code",
   "execution_count": null,
   "metadata": {},
   "outputs": [],
   "source": [
    "def swap_case(s: str) -> str:\n",
    "    '''\n",
    "    Given a string of english letters,\n",
    "    return a new string where every uppercase letter is lower case and vice versa.\n",
    "    Ex.: 'aBCde' -> 'AbcDE'\n",
    "    '''\n",
    "    return s.swapcase()"
   ]
  },
  {
   "cell_type": "code",
   "execution_count": null,
   "metadata": {},
   "outputs": [],
   "source": [
    "# test\n",
    "assert swap_case('aUhfEq') == 'AuHFeQ'\n",
    "assert swap_case('i') == 'I'\n",
    "assert swap_case('') == ''\n",
    "assert swap_case(string.ascii_lowercase) == string.ascii_uppercase"
   ]
  },
  {
   "attachments": {},
   "cell_type": "markdown",
   "metadata": {},
   "source": [
    "`str.endswith str.startswith`\n",
    "\n",
    "speak for themselves"
   ]
  },
  {
   "cell_type": "code",
   "execution_count": null,
   "metadata": {},
   "outputs": [],
   "source": [
    "print('hello'.endswith('llo'))\n",
    "print('hello'.endswith('he'))\n",
    "print('hello'.startswith('lo'))\n",
    "print('hello'.startswith('hel'))"
   ]
  },
  {
   "attachments": {},
   "cell_type": "markdown",
   "metadata": {},
   "source": [
    "`str.find str.count`\n",
    "\n",
    "`.find` returns the lowest index in the string where substring is found; `.count` returns the number of occurrences of substring"
   ]
  },
  {
   "cell_type": "code",
   "execution_count": null,
   "metadata": {},
   "outputs": [],
   "source": [
    "print('01123424325'.find('2'))\n",
    "print('011234243225'.count('2'))"
   ]
  },
  {
   "attachments": {},
   "cell_type": "markdown",
   "metadata": {},
   "source": [
    "`str.replace`\n",
    "\n",
    "`.replace` returns a new string with all occurances of one substring are replaced by a new substring. It <b>does not</b> change the string itself."
   ]
  },
  {
   "cell_type": "code",
   "execution_count": null,
   "metadata": {},
   "outputs": [],
   "source": [
    "s1 = 'Hello, Lola'\n",
    "print(s1.replace('l', 'I')) # the 'L' didn't get changed because 'L' != 'l'\n",
    "\n",
    "s2 = 'abcruhbceucbcqe'\n",
    "print(s2.replace('bc', '_'))"
   ]
  },
  {
   "attachments": {},
   "cell_type": "markdown",
   "metadata": {},
   "source": [
    "Homework: look at `str.strip` and `str.format` on your own and then uncomment the next cell"
   ]
  },
  {
   "cell_type": "code",
   "execution_count": null,
   "metadata": {},
   "outputs": [],
   "source": [
    "# s3 = '   hi   \\n     '\n",
    "# print(f'before:[{s3}]')\n",
    "# print(f'after:[{s3.strip()}]')\n",
    "\n",
    "# s4 = 'Hello, my name is {}, I am {} years old'\n",
    "# print(s4.format('Jaden', 28))\n",
    "# print(s4.format('Lola', 19))"
   ]
  },
  {
   "attachments": {},
   "cell_type": "markdown",
   "metadata": {},
   "source": [
    "## `time`"
   ]
  },
  {
   "cell_type": "code",
   "execution_count": null,
   "metadata": {},
   "outputs": [],
   "source": [
    "import time"
   ]
  },
  {
   "attachments": {},
   "cell_type": "markdown",
   "metadata": {},
   "source": [
    "This module (as well as the next one) has the functionality to work with time mostly using the standard data types (like `float`s and `str`ings).\n",
    "\n",
    "Let's look at some useful and widely-used functions."
   ]
  },
  {
   "attachments": {},
   "cell_type": "markdown",
   "metadata": {},
   "source": [
    "`time`\n",
    "\n",
    "returns a floating number of seconds since the epoch (that is, January 1, 1970, 00:00:00 (UTC)). This number is often called \"Unix time\".\n",
    "\n",
    "`ctime`\n",
    "\n",
    "converts Unix time to a human-readable string format."
   ]
  },
  {
   "cell_type": "code",
   "execution_count": null,
   "metadata": {},
   "outputs": [],
   "source": [
    "current_unix_time = time.time()\n",
    "print(f'as for now, {current_unix_time} seconds have passed since 01.01.1970 00:00:00')"
   ]
  },
  {
   "cell_type": "code",
   "execution_count": null,
   "metadata": {},
   "outputs": [],
   "source": [
    "current_time_string = time.ctime(current_unix_time)\n",
    "print(f'now is {current_time_string}')\n",
    "\n",
    "# let's subtract 200k seconds from now and see where it takes us:\n",
    "two_hundr_k_secs_back_time_string = time.ctime(current_unix_time - 200_000)\n",
    "print(f'200k seconds ago was {two_hundr_k_secs_back_time_string}')"
   ]
  },
  {
   "attachments": {},
   "cell_type": "markdown",
   "metadata": {},
   "source": [
    "`perf_counter`\n",
    "\n",
    "If you want to measure the time performance of a piece of code, you should use the `perf_counter` function.\n",
    "\n",
    "Let's create a huge list of integers and find its sum in two ways."
   ]
  },
  {
   "cell_type": "code",
   "execution_count": null,
   "metadata": {},
   "outputs": [],
   "source": [
    "def create_list(size: int) -> list[int]:\n",
    "    assert size > 0, 'Size must be a positive number'\n",
    "    return list(range(size))"
   ]
  },
  {
   "cell_type": "code",
   "execution_count": null,
   "metadata": {},
   "outputs": [],
   "source": [
    "def sum_of_list_1(lst: list[int]) -> int:\n",
    "    s = 0\n",
    "    for el in lst:\n",
    "        s += el\n",
    "    return s"
   ]
  },
  {
   "attachments": {},
   "cell_type": "markdown",
   "metadata": {},
   "source": [
    "Come up with a better way:"
   ]
  },
  {
   "cell_type": "code",
   "execution_count": null,
   "metadata": {},
   "outputs": [],
   "source": [
    "def sum_of_list_2(lst: list[int]) -> int:\n",
    "    '''\n",
    "    Return a sum of all elements in a list.\n",
    "    '''\n",
    "    return sum(lst)\n",
    "\n",
    "def sum_of_list_3(lst: list[int]) -> int:\n",
    "    '''\n",
    "    Knowing how the list is created (see `create_list` function), write a constant time algorithm\n",
    "    to return a sum of its elements.\n",
    "    '''\n",
    "    return len(lst)*(len(lst)-1) // 2"
   ]
  },
  {
   "cell_type": "code",
   "execution_count": null,
   "metadata": {},
   "outputs": [],
   "source": [
    "huge_list = create_list(10_000_000) # you can change this number later to see how the time needed changes"
   ]
  },
  {
   "attachments": {},
   "cell_type": "markdown",
   "metadata": {},
   "source": [
    "Now, measure the time needed to run each of these functions (`delta_t` variables):"
   ]
  },
  {
   "cell_type": "code",
   "execution_count": null,
   "metadata": {},
   "outputs": [],
   "source": [
    "...\n",
    "res1 = sum_of_list_1(huge_list)\n",
    "delta_t_1 = ...\n",
    "print(f'sum_of_list_1 took {delta_t_1} seconds; the result is {res1}')"
   ]
  },
  {
   "cell_type": "code",
   "execution_count": null,
   "metadata": {},
   "outputs": [],
   "source": [
    "...\n",
    "res2 = sum_of_list_2(huge_list)\n",
    "delta_t_2 = ...\n",
    "print(f'sum_of_list_2 took {delta_t_2} seconds; the result is {res2}')"
   ]
  },
  {
   "cell_type": "code",
   "execution_count": null,
   "metadata": {},
   "outputs": [],
   "source": [
    "...\n",
    "res3 = sum_of_list_3(huge_list)\n",
    "delta_t_3 = ...\n",
    "print(f'sum_of_list_3 took {delta_t_3} seconds; the result is {res3}')"
   ]
  },
  {
   "cell_type": "code",
   "execution_count": null,
   "metadata": {},
   "outputs": [],
   "source": [
    "# test\n",
    "assert res1 == res2 == res3, 'The sums are not equal'\n",
    "assert delta_t_1 > delta_t_2, 'The second function must be faster than the first one'\n",
    "assert delta_t_2 > delta_t_3, 'The third function must be faster than the second one'"
   ]
  },
  {
   "attachments": {},
   "cell_type": "markdown",
   "metadata": {},
   "source": [
    "## `datetime`\n",
    "\n",
    "This module is similar to `time`, but it works with its own data type: `datetime.datetime` "
   ]
  },
  {
   "cell_type": "code",
   "execution_count": null,
   "metadata": {},
   "outputs": [],
   "source": [
    "import datetime"
   ]
  },
  {
   "attachments": {},
   "cell_type": "markdown",
   "metadata": {},
   "source": [
    "You can create a `datetime` object like this:\n",
    "\n",
    "Note that the format is (year, month, date, hour, minute, second, microsecond); the last four parameters are optional and default to zero."
   ]
  },
  {
   "cell_type": "code",
   "execution_count": null,
   "metadata": {},
   "outputs": [],
   "source": [
    "dt1 = datetime.datetime(2006, 1, 25, 3, 23, 34, 12430)\n",
    "dt2 = datetime.datetime(2006, 1, 25)\n",
    "print(f'these objects have a special {type(dt1)} type')\n",
    "\n",
    "print(dt1, dt2, sep='\\n')"
   ]
  },
  {
   "attachments": {},
   "cell_type": "markdown",
   "metadata": {},
   "source": [
    "If you want to get a datetime object of the current time, use the `.now` method:"
   ]
  },
  {
   "cell_type": "code",
   "execution_count": null,
   "metadata": {},
   "outputs": [],
   "source": [
    "dt_now = datetime.datetime.now()\n",
    "\n",
    "print('now is:', dt_now)"
   ]
  },
  {
   "attachments": {},
   "cell_type": "markdown",
   "metadata": {},
   "source": [
    "<b>Why</b> storing a point in time as an object is useful?\n",
    "\n",
    "<b>Because</b> you can do cool arithmetic operations with it:"
   ]
  },
  {
   "cell_type": "code",
   "execution_count": null,
   "metadata": {},
   "outputs": [],
   "source": [
    "delta = dt_now - dt1\n",
    "print(type(delta))\n",
    "\n",
    "print(f'between now and {dt1} there are {delta}')"
   ]
  },
  {
   "attachments": {},
   "cell_type": "markdown",
   "metadata": {},
   "source": [
    "Similarly to how it's done in the `time` module, you can convert things into Unix time and\n",
    "create `datetime` objects from a Unix time number:"
   ]
  },
  {
   "cell_type": "code",
   "execution_count": null,
   "metadata": {},
   "outputs": [],
   "source": [
    "print(dt_now.timestamp())\n",
    "\n",
    "dt_from_unix = datetime.datetime.fromtimestamp(1_600_000_000.0)\n",
    "print(dt_from_unix)"
   ]
  },
  {
   "attachments": {},
   "cell_type": "markdown",
   "metadata": {},
   "source": [
    "Remember how we subtracted two `datetime` objects and got a `timedelta` object? The same works in reverse: we can add/subtract `timedelta` to/from `datetime` to get new `datetime`:"
   ]
  },
  {
   "cell_type": "code",
   "execution_count": null,
   "metadata": {},
   "outputs": [],
   "source": [
    "six_weeks = datetime.timedelta(days=6*7)\n",
    "print(six_weeks)\n",
    "\n",
    "print('six weeks in the future:', dt_now + six_weeks)\n",
    "print('six weeks in the past:', dt_now - six_weeks)"
   ]
  },
  {
   "cell_type": "code",
   "execution_count": 79,
   "metadata": {},
   "outputs": [],
   "source": [
    "def datetime1() -> int:\n",
    "    '''\n",
    "    Returns an integer amount of whole seconds between 12 Jan 2013 12:00:00.0000 and 25 Jan 2006 03:30:26.0000\n",
    "    '''\n",
    "    delta = datetime.datetime(2013, 1, 12, 12) - datetime.datetime(2006, 1, 25, 3, 30, 26)\n",
    "    return int(delta.total_seconds())"
   ]
  },
  {
   "cell_type": "code",
   "execution_count": 80,
   "metadata": {},
   "outputs": [],
   "source": [
    "# test\n",
    "res = datetime1()\n",
    "assert isinstance(res, int), 'Not an integer'\n",
    "assert sum(map(int, str(res))) == 37, 'Wrong answer'"
   ]
  },
  {
   "cell_type": "code",
   "execution_count": 98,
   "metadata": {},
   "outputs": [],
   "source": [
    "def datetime2(dt: datetime.datetime) -> str:\n",
    "    '''\n",
    "    Return a string representation of a given datetime object in the following format:\n",
    "        dd.mm.yyyy hh:mm:ss\n",
    "    '''\n",
    "    return dt.strftime(\"%d.%m.%Y %H:%M:%S\")"
   ]
  },
  {
   "cell_type": "code",
   "execution_count": 99,
   "metadata": {},
   "outputs": [
    {
     "name": "stdout",
     "output_type": "stream",
     "text": [
      "+++++++++++++++"
     ]
    }
   ],
   "source": [
    "import re, random\n",
    "assert datetime2(dt_now) == '10.05.2023 09:49:46'\n",
    "assert datetime2(dt_from_unix) == '13.09.2020 14:26:40'\n",
    "for _ in range(15):\n",
    "    rnd_timestamp = random.randint(1_000_000, 1_800_000_000)\n",
    "    result = datetime2(datetime.datetime.fromtimestamp(rnd_timestamp))\n",
    "    assert re.match(r'\\d\\d.\\d\\d.\\d{4} \\d\\d:\\d\\d:\\d\\d', result), \\\n",
    "        f'{result} failed; expected format \"dd.mm.yyyy hh:mm:ss\", got {result}'\n",
    "    print('+', end='')\n"
   ]
  },
  {
   "attachments": {},
   "cell_type": "markdown",
   "metadata": {},
   "source": [
    "## `os`"
   ]
  },
  {
   "cell_type": "code",
   "execution_count": null,
   "metadata": {},
   "outputs": [],
   "source": []
  },
  {
   "attachments": {},
   "cell_type": "markdown",
   "metadata": {},
   "source": [
    "## `math`"
   ]
  },
  {
   "cell_type": "code",
   "execution_count": null,
   "metadata": {},
   "outputs": [],
   "source": []
  },
  {
   "cell_type": "code",
   "execution_count": null,
   "metadata": {},
   "outputs": [],
   "source": []
  },
  {
   "cell_type": "code",
   "execution_count": null,
   "metadata": {},
   "outputs": [],
   "source": []
  },
  {
   "cell_type": "code",
   "execution_count": null,
   "metadata": {},
   "outputs": [],
   "source": []
  },
  {
   "cell_type": "code",
   "execution_count": null,
   "metadata": {},
   "outputs": [],
   "source": [
    "temperature_anomalies = [\n",
    "    -0.17, -0.09, -0.11, -0.18, -0.28, -0.33, -0.32, -0.37, -0.18,\n",
    "    -0.11, -0.35, -0.23, -0.27, -0.31, -0.3 , -0.23, -0.11, -0.11,\n",
    "    -0.28, -0.18, -0.08, -0.15, -0.28, -0.37, -0.47, -0.26, -0.22,\n",
    "    -0.39, -0.43, -0.49, -0.43, -0.44, -0.36, -0.34, -0.15, -0.14,\n",
    "    -0.36, -0.46, -0.29, -0.27, -0.27, -0.18, -0.28, -0.26, -0.27,\n",
    "    -0.22, -0.1 , -0.21, -0.19, -0.36, -0.15, -0.09, -0.15, -0.28,\n",
    "    -0.12, -0.19, -0.14, -0.02,  0.  , -0.02,  0.13,  0.19,  0.07,\n",
    "    0.09,  0.2 ,  0.09, -0.07, -0.02, -0.1 , -0.11, -0.17, -0.07,\n",
    "    0.01,  0.08, -0.13, -0.14, -0.19,  0.05,  0.06,  0.03, -0.03,\n",
    "    0.06,  0.03,  0.05, -0.2 , -0.11, -0.06, -0.02, -0.08,  0.05,\n",
    "    0.03, -0.08,  0.01,  0.16, -0.07, -0.01, -0.1 ,  0.18,  0.07,\n",
    "    0.16,  0.26,  0.32,  0.14,  0.31,  0.16,  0.12,  0.18,  0.32,\n",
    "    0.39,  0.27,  0.45,  0.4 ,  0.22,  0.23,  0.32,  0.45,  0.33,\n",
    "    0.46,  0.61,  0.38,  0.39,  0.54,  0.63,  0.62,  0.53,  0.68,\n",
    "    0.64,  0.66,  0.54,  0.66,  0.72,  0.61,  0.65,  0.68,  0.75,\n",
    "    0.9 ,  1.02,  0.92,  0.85,  0.98,  1.02,  0.85,  0.89\n",
    "]\n",
    "years = list(range(1880, 2023))"
   ]
  },
  {
   "attachments": {},
   "cell_type": "markdown",
   "metadata": {},
   "source": [
    "## `random`"
   ]
  },
  {
   "cell_type": "code",
   "execution_count": null,
   "metadata": {},
   "outputs": [],
   "source": []
  }
 ],
 "metadata": {
  "kernelspec": {
   "display_name": "thevenv",
   "language": "python",
   "name": "python3"
  },
  "language_info": {
   "codemirror_mode": {
    "name": "ipython",
    "version": 3
   },
   "file_extension": ".py",
   "mimetype": "text/x-python",
   "name": "python",
   "nbconvert_exporter": "python",
   "pygments_lexer": "ipython3",
   "version": "3.11.2"
  },
  "orig_nbformat": 4
 },
 "nbformat": 4,
 "nbformat_minor": 2
}
