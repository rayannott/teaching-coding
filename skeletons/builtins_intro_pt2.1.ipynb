{
 "cells": [
  {
   "attachments": {},
   "cell_type": "markdown",
   "metadata": {},
   "source": [
    "This notebook provides a _very_ basic introduction to the following STD python modules:\n",
    "\n",
    "- general: `string`\n",
    "- file handling: `os`\n",
    "- time: `time datetime`\n",
    "- numerical: `math random`"
   ]
  },
  {
   "attachments": {},
   "cell_type": "markdown",
   "metadata": {},
   "source": [
    "Part 2.2 continues with\n",
    "\n",
    "- file handling: `json pickle csv`\n",
    "- developer tools: `logging`\n",
    "- containter datatypes: `collections`\n",
    "- enumerators: `enum`"
   ]
  },
  {
   "attachments": {},
   "cell_type": "markdown",
   "metadata": {},
   "source": [
    "## Part 2.1. Standard library"
   ]
  },
  {
   "attachments": {},
   "cell_type": "markdown",
   "metadata": {},
   "source": [
    "Task is the same: Replace `...` (Ellipsis) symbols with suitable pieces of code. "
   ]
  },
  {
   "attachments": {},
   "cell_type": "markdown",
   "metadata": {},
   "source": [
    "### `string`"
   ]
  },
  {
   "cell_type": "code",
   "execution_count": null,
   "metadata": {},
   "outputs": [],
   "source": [
    "import string"
   ]
  },
  {
   "attachments": {},
   "cell_type": "markdown",
   "metadata": {},
   "source": [
    "Not much to say here, the `string` module, among other things, contains a few useful constants such as:"
   ]
  },
  {
   "cell_type": "code",
   "execution_count": null,
   "metadata": {},
   "outputs": [],
   "source": [
    "print('Lowercase letters:', repr(string.ascii_lowercase))\n",
    "print('Uppercase letters:', repr(string.ascii_uppercase))\n",
    "print('All letters:', repr(string.ascii_letters))\n",
    "print('Punctuation:', repr(string.punctuation))"
   ]
  },
  {
   "attachments": {},
   "cell_type": "markdown",
   "metadata": {},
   "source": [
    "These are all constants of type `str`.\n",
    "\n",
    "They can be used in different scenarious and are mainly there to free developers from typing them manually."
   ]
  },
  {
   "cell_type": "code",
   "execution_count": null,
   "metadata": {},
   "outputs": [],
   "source": [
    "def create_letter_number_map() -> dict[str, int]:\n",
    "    '''\n",
    "    This function returns a dictionary which maps a letter to its index.\n",
    "    Ex.: -> {'a': 0, 'b': 1, ..., 'z': 25}\n",
    "    '''\n",
    "    return dict(zip(string.ascii_lowercase, range(26)))"
   ]
  },
  {
   "cell_type": "code",
   "execution_count": null,
   "metadata": {},
   "outputs": [],
   "source": [
    "# test\n",
    "res = create_letter_number_map()\n",
    "for i, ch in enumerate(string.ascii_lowercase):\n",
    "    assert res[ch] == i, f'failed {ch}; expected {i}, got {res[ch]}'"
   ]
  },
  {
   "attachments": {},
   "cell_type": "markdown",
   "metadata": {},
   "source": [
    "Wasn't much to see here, therefore let's look at some things which the `str` type can do as a bonus.\n",
    "\n",
    "_Note_: `str` type is immutable; that is, methods cannot change the value. As opposed to the `list` type: for example, `list.sort` modifies the list object in-place."
   ]
  },
  {
   "attachments": {},
   "cell_type": "markdown",
   "metadata": {},
   "source": [
    "`str.join`\n",
    "\n",
    "One can join an iterable containing strings with a delimeter."
   ]
  },
  {
   "cell_type": "code",
   "execution_count": null,
   "metadata": {},
   "outputs": [],
   "source": [
    "a = ['a', 'b', 'c', 'd']\n",
    "res1 = ''.join(a)\n",
    "res2 = ','.join(a)\n",
    "res3 = '; '.join(a)\n",
    "res4 = 'HA'.join(a)\n",
    "print(res1, res2, res3, res4, sep='\\n')"
   ]
  },
  {
   "attachments": {},
   "cell_type": "markdown",
   "metadata": {},
   "source": [
    "Be careful as joining an iterable containing non-str values would result in an error (`TypeError`):"
   ]
  },
  {
   "cell_type": "code",
   "execution_count": null,
   "metadata": {},
   "outputs": [],
   "source": [
    "a = [1, 2, 3, 4]\n",
    "res5 = ''.join(a)"
   ]
  },
  {
   "cell_type": "code",
   "execution_count": null,
   "metadata": {},
   "outputs": [],
   "source": [
    "def joining_non_strs(a: list[int]) -> str:\n",
    "    '''\n",
    "    Fix a problem described above. That is,\n",
    "    Given a list of integers, concatenate them and return as a string.\n",
    "    Note: use the `str.join` method.\n",
    "    Ex.: [1,2,3] -> '123'; [0, 4] -> '04'\n",
    "    '''\n",
    "    return ''.join(map(str, a))"
   ]
  },
  {
   "cell_type": "code",
   "execution_count": null,
   "metadata": {},
   "outputs": [],
   "source": [
    "# test\n",
    "assert joining_non_strs([1,2,3]) == '123'\n",
    "assert joining_non_strs([0,4]) == '04'"
   ]
  },
  {
   "attachments": {},
   "cell_type": "markdown",
   "metadata": {},
   "source": [
    "`str.split`\n",
    "\n",
    "does the reverse of `str.join`: when called on a string, splits its contents into smaller strings on a specified character (`sep=' '`, by default)"
   ]
  },
  {
   "cell_type": "code",
   "execution_count": null,
   "metadata": {},
   "outputs": [],
   "source": [
    "str1 = '1 2 3 4'\n",
    "str2 = '1    2 3  4       5'\n",
    "str3 = '1 2,4 5,6 4'\n",
    "str4 = 'ahaahaahhaahahahhahaha'\n",
    "\n",
    "print(str1.split()) # defaults to a space character\n",
    "print(str2.split()) # ignores repeated separators\n",
    "print(str3.split()) # when no separator is specified, splits on spaces\n",
    "print(str3.split(sep=','))\n",
    "print(str4.split('ha'))"
   ]
  },
  {
   "attachments": {},
   "cell_type": "markdown",
   "metadata": {},
   "source": [
    "`.join` and `.split` are true inverses of each other:"
   ]
  },
  {
   "cell_type": "code",
   "execution_count": null,
   "metadata": {},
   "outputs": [],
   "source": [
    "str5 = '1 2 3'\n",
    "res1 = ' '.join(str5.split())\n",
    "str6 = ['1', '2', '3']\n",
    "res2 = ' '.join(str6).split()\n",
    "print(str5 == res1 and str6 == res2)"
   ]
  },
  {
   "attachments": {},
   "cell_type": "markdown",
   "metadata": {},
   "source": [
    "A slightly harder exercise: write a matlab-like string-to-matrix parser.\n",
    "\n",
    "(https://www.mathworks.com/help/matlab/learn_matlab/matrices-and-arrays.html)"
   ]
  },
  {
   "cell_type": "code",
   "execution_count": null,
   "metadata": {},
   "outputs": [],
   "source": [
    "def create_matrix(s: str) -> list[list[int]]:\n",
    "    '''\n",
    "    Given a string of digits, semicolons and spaces, where\n",
    "    each space separates elements of one row in a matrix and each semicolon separates different rows,\n",
    "    return a resulting matrix.\n",
    "    It is guaranteed, that there is no inconsistency in the number of elements in every row and column.\n",
    "    Ex.: '1 2;3 4' -> [[1, 2], [3, 4]]\n",
    "    '''\n",
    "    res = []\n",
    "    for row_str in s.split(';'):\n",
    "        res.append([*map(int, row_str.split())])\n",
    "    return res"
   ]
  },
  {
   "cell_type": "code",
   "execution_count": null,
   "metadata": {},
   "outputs": [],
   "source": [
    "# test\n",
    "assert create_matrix('1 2;3 4') == [[1, 2], [3, 4]]\n",
    "assert create_matrix('1 3 5; 2 4 6; 7 8 10') == [[1, 3, 5], [2, 4, 6], [7, 8, 10]]\n",
    "assert create_matrix('1;2;3') == [[1], [2], [3]]\n",
    "assert create_matrix('1 2 3') == [[1, 2, 3]]"
   ]
  },
  {
   "attachments": {},
   "cell_type": "markdown",
   "metadata": {},
   "source": [
    "`str.upper str.lower str.title`\n",
    "\n",
    "One can also make a string uppercase/lowercase as well as make it into a title:"
   ]
  },
  {
   "cell_type": "code",
   "execution_count": null,
   "metadata": {},
   "outputs": [],
   "source": [
    "print('hElLo, hoW aRe thIngS?'.upper())\n",
    "print('hElLo, hoW aRe thIngS?'.lower())\n",
    "print('hElLo, hoW aRe thIngS?'.title())"
   ]
  },
  {
   "cell_type": "code",
   "execution_count": null,
   "metadata": {},
   "outputs": [],
   "source": [
    "def swap_case(s: str) -> str:\n",
    "    '''\n",
    "    Given a string of english letters,\n",
    "    return a new string where every uppercase letter is lower case and vice versa.\n",
    "    Ex.: 'aBCde' -> 'AbcDE'\n",
    "    '''\n",
    "    return s.swapcase()"
   ]
  },
  {
   "cell_type": "code",
   "execution_count": null,
   "metadata": {},
   "outputs": [],
   "source": [
    "# test\n",
    "assert swap_case('aUhfEq') == 'AuHFeQ'\n",
    "assert swap_case('i') == 'I'\n",
    "assert swap_case('') == ''\n",
    "assert swap_case(string.ascii_lowercase) == string.ascii_uppercase"
   ]
  },
  {
   "attachments": {},
   "cell_type": "markdown",
   "metadata": {},
   "source": [
    "`str.endswith str.startswith`\n",
    "\n",
    "speak for themselves"
   ]
  },
  {
   "cell_type": "code",
   "execution_count": null,
   "metadata": {},
   "outputs": [],
   "source": [
    "print('hello'.endswith('llo'))\n",
    "print('hello'.endswith('he'))\n",
    "print('hello'.startswith('lo'))\n",
    "print('hello'.startswith('hel'))"
   ]
  },
  {
   "attachments": {},
   "cell_type": "markdown",
   "metadata": {},
   "source": [
    "`str.find str.count`\n",
    "\n",
    "`.find` returns the lowest index in the string where substring is found; `.count` returns the number of occurrences of substring"
   ]
  },
  {
   "cell_type": "code",
   "execution_count": null,
   "metadata": {},
   "outputs": [],
   "source": [
    "print('01123424325'.find('2'))\n",
    "print('011234243225'.count('2'))"
   ]
  },
  {
   "attachments": {},
   "cell_type": "markdown",
   "metadata": {},
   "source": [
    "`str.replace`\n",
    "\n",
    "`.replace` returns a new string with all occurances of one substring are replaced by a new substring. It <b>does not</b> change the string itself."
   ]
  },
  {
   "cell_type": "code",
   "execution_count": null,
   "metadata": {},
   "outputs": [],
   "source": [
    "s1 = 'Hello, Lola'\n",
    "print(s1.replace('l', 'I')) # the 'L' didn't get changed because 'L' != 'l'\n",
    "\n",
    "s2 = 'abcruhbceucbcqe'\n",
    "print(s2.replace('bc', '_'))"
   ]
  },
  {
   "attachments": {},
   "cell_type": "markdown",
   "metadata": {},
   "source": [
    "Homework: look at `str.strip` and `str.format` on your own and then uncomment the next cell"
   ]
  },
  {
   "cell_type": "code",
   "execution_count": null,
   "metadata": {},
   "outputs": [],
   "source": [
    "# s3 = '   hi   \\n     '\n",
    "# print(f'before:[{s3}]')\n",
    "# print(f'after:[{s3.strip()}]')\n",
    "\n",
    "# s4 = 'Hello, my name is {}, I am {} years old'\n",
    "# print(s4.format('Jaden', 28))\n",
    "# print(s4.format('Lola', 19))"
   ]
  },
  {
   "attachments": {},
   "cell_type": "markdown",
   "metadata": {},
   "source": [
    "## `os`"
   ]
  },
  {
   "cell_type": "code",
   "execution_count": null,
   "metadata": {},
   "outputs": [],
   "source": []
  },
  {
   "attachments": {},
   "cell_type": "markdown",
   "metadata": {},
   "source": [
    "## `time`"
   ]
  },
  {
   "cell_type": "code",
   "execution_count": null,
   "metadata": {},
   "outputs": [],
   "source": []
  },
  {
   "attachments": {},
   "cell_type": "markdown",
   "metadata": {},
   "source": [
    "## `datetime`"
   ]
  },
  {
   "cell_type": "code",
   "execution_count": null,
   "metadata": {},
   "outputs": [],
   "source": []
  },
  {
   "attachments": {},
   "cell_type": "markdown",
   "metadata": {},
   "source": [
    "## `math`"
   ]
  },
  {
   "cell_type": "code",
   "execution_count": null,
   "metadata": {},
   "outputs": [],
   "source": []
  },
  {
   "attachments": {},
   "cell_type": "markdown",
   "metadata": {},
   "source": [
    "## `random`"
   ]
  },
  {
   "cell_type": "code",
   "execution_count": null,
   "metadata": {},
   "outputs": [],
   "source": []
  }
 ],
 "metadata": {
  "kernelspec": {
   "display_name": "thevenv",
   "language": "python",
   "name": "python3"
  },
  "language_info": {
   "codemirror_mode": {
    "name": "ipython",
    "version": 3
   },
   "file_extension": ".py",
   "mimetype": "text/x-python",
   "name": "python",
   "nbconvert_exporter": "python",
   "pygments_lexer": "ipython3",
   "version": "3.11.2"
  },
  "orig_nbformat": 4
 },
 "nbformat": 4,
 "nbformat_minor": 2
}
