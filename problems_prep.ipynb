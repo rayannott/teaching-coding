{
  "cells": [
    {
      "cell_type": "code",
      "execution_count": null,
      "metadata": {
        "colab": {
          "base_uri": "https://localhost:8080/"
        },
        "id": "Dc_MUnTeQ30V",
        "outputId": "2bebf65b-d26c-4651-bfda-25bb7e17c441"
      },
      "outputs": [
        {
          "name": "stdout",
          "output_type": "stream",
          "text": [
            "(870, 200) 70 70\n",
            "(490, 48) 10 10\n",
            "(450, 100) 50 50\n",
            "(600, 150) 0 0\n",
            "(5, 4) 1 1\n",
            "(7, 4) 1 1\n",
            "(1276, 847) 418 418\n",
            "(1499, 1000) 499 499\n",
            "(0, 10) 0 0\n"
          ]
        }
      ],
      "source": [
        "def closest_bus_stop_v1(a, b):\n",
        "    c = a / b\n",
        "    c = round(c)\n",
        "    return abs(a - b*c)\n",
        "\n",
        "def closest_bus_stop_v2(x, p):\n",
        "    return min(x % p, p - x % p)\n",
        "\n",
        "tests = ((870, 200), (490, 48), (450, 100), (600, 150), (5, 4), (7, 4), (1276, 847), (1499, 1000), (0, 10))\n",
        "for t in tests:\n",
        "    print(t, closest_bus_stop_v1(*t), closest_bus_stop_v2(*t))"
      ]
    },
    {
      "cell_type": "code",
      "execution_count": null,
      "metadata": {
        "id": "WQMUmZnRQ30W"
      },
      "outputs": [],
      "source": [
        "def quad_eq(a, b, c) -> list[float|int]:\n",
        "    from math import sqrt\n",
        "    if a == 0:\n",
        "        if b != 0:\n",
        "            return [round(-c/b, 3)]\n",
        "        else:\n",
        "            return []\n",
        "    else:\n",
        "        D = b**2 - 4*a*c\n",
        "        if D < 0:\n",
        "            return []\n",
        "        if D > 0:\n",
        "            D_sqrt = sqrt(D)\n",
        "            return [round((-b+D_sqrt)/(2*a),3), round((-b-D_sqrt)/(2*a),3)]\n",
        "        if D == 0:\n",
        "            return [round(-b/(2*a),3)]\n",
        "tests = [\n",
        "    (1,-1,-1),\n",
        "    (1, 2, 1),\n",
        "    (1,4,4),\n",
        "    (1,-4,4),\n",
        "    (4, 6, 10),\n",
        "    (0, 2, -8),\n",
        "    (0, 0, 1),\n",
        "    (325, -55, -124),\n",
        "    (1, 5, -6)\n",
        "]\n",
        "for t in tests:\n",
        "    print(t, quad_eq(*t))\n"
      ]
    },
    {
      "cell_type": "code",
      "execution_count": null,
      "metadata": {
        "id": "JmsJxlQ0Q30X"
      },
      "outputs": [],
      "source": [
        "def add_fractions(frac1, frac2):\n",
        "    from math import gcd\n",
        "    top = frac1[0]*frac2[1] + frac1[1]*frac2[0]\n",
        "    bot = frac1[1]*frac2[1]\n",
        "    div = gcd(top, bot)\n",
        "    return top//div, bot//div"
      ]
    },
    {
      "cell_type": "code",
      "execution_count": null,
      "metadata": {
        "colab": {
          "base_uri": "https://localhost:8080/"
        },
        "id": "3fXpB7a9Q30X",
        "outputId": "bb7638b8-5df0-4744-d420-4a2fcfd8c251"
      },
      "outputs": [
        {
          "data": {
            "text/plain": [
              "(1, 2)"
            ]
          },
          "execution_count": 7,
          "metadata": {},
          "output_type": "execute_result"
        }
      ],
      "source": [
        "x = (1, 6)\n",
        "y = (1, 3)\n",
        "add_fractions(x, y)"
      ]
    },
    {
      "cell_type": "code",
      "execution_count": null,
      "metadata": {
        "id": "T2_P1fbrQ30X"
      },
      "outputs": [],
      "source": [
        "import re\n",
        "pattern = re.compile(r'(\\d+)([+/\\-*])(\\d+)')\n",
        "\n",
        "def calc(prompt: str) -> int | float:\n",
        "    search_result = pattern.search(prompt)\n",
        "    left_, op, right_ = search_result.groups()\n",
        "    left = int(left_)\n",
        "    right = int(right_)\n",
        "    if op == '+':\n",
        "        return left + right\n",
        "    elif op == '-':\n",
        "        return left - right\n",
        "    elif op == '*':\n",
        "        return left * right\n",
        "    else:\n",
        "        return left/right\n",
        "\n",
        "def calc2(prompt: str) -> int|float:\n",
        "    opers = {'+', '-', '*', '/'}\n",
        "    for op in opers:\n",
        "        if op in prompt:\n",
        "            left, right = map(int, prompt.split(op))\n",
        "            break\n",
        "    if op == '+':\n",
        "        return left + right\n",
        "    elif op == '-':\n",
        "        return left - right\n",
        "    elif op == '*':\n",
        "        return left * right\n",
        "    else:\n",
        "        return left/right"
      ]
    },
    {
      "cell_type": "code",
      "execution_count": null,
      "metadata": {
        "id": "RqoOwOagQ30Y"
      },
      "outputs": [],
      "source": [
        "def is_valid_phone_number(s):\n",
        "    import re\n",
        "    pattern1 = re.compile(r'(8|\\+7)\\ \\(\\d{3}\\)\\ \\d{3}-\\d{2}-\\d{2}')\n",
        "    pattern2 = re.compile(r'8\\d{10}')\n",
        "    return bool(pattern1.match(s) or pattern2.match(s))\n",
        "phone_numbers = [\n",
        "    '89053159548',\n",
        "    '8 (234) 234-43-43',\n",
        "    '+7 (123) 123-12-23',\n",
        "    '8 123 123-12-12'\n",
        "]\n",
        "for pn in phone_numbers:\n",
        "    print(pn, is_valid_phone_number(pn))"
      ]
    },
    {
      "cell_type": "code",
      "execution_count": null,
      "metadata": {
        "colab": {
          "base_uri": "https://localhost:8080/"
        },
        "id": "VMJscUPXMeJU",
        "outputId": "4dcdc5e7-4e31-4051-b9e7-459edc0bdf7d"
      },
      "outputs": [
        {
          "name": "stdout",
          "output_type": "stream",
          "text": [
            "jhgb234 True True\n",
            "23dfs False False\n",
            " False False\n",
            "_df23 True True\n",
            "(adqw False False\n",
            "  False False\n",
            "abc-def False False\n",
            "ab cd False False\n",
            "A True True\n",
            "AB_CEDa356 True True\n"
          ]
        }
      ],
      "source": [
        "def is_id(s):\n",
        "    from string import ascii_letters\n",
        "    if not s or s[0] in '0123456789':\n",
        "            return False\n",
        "    alphnum = set(ascii_letters + '0123456789' + '_')\n",
        "    return all(ch in alphnum for ch in s)\n",
        "\n",
        "def is_identifier(a):\n",
        "    if a[0] in \"1234567890\":\n",
        "        return False\n",
        "    for el in a:\n",
        "        if el == \" \" or el == \"-\":\n",
        "            return False\n",
        "    return True\n",
        "\n",
        "tests = ['jhgb234', '23dfs', '', '_df23', '(adqw', ' ', 'abc-def', 'ab cd', 'A', 'AB_CEDa356']\n",
        "for t in tests:\n",
        "    print(t, is_id(t), t.isidentifier())"
      ]
    },
    {
      "cell_type": "code",
      "execution_count": 3,
      "metadata": {
        "id": "AozGVOIWQ30Y"
      },
      "outputs": [
        {
          "name": "stdout",
          "output_type": "stream",
          "text": [
            "--- STARTED TESTING ---\n",
            "passes_length passed\n",
            "passes_special_symbols passed\n",
            "passes_capital_chars passed\n",
            "passes_digits passed\n",
            "--- FINISHED TESTING ---\n",
            "iuhkQe82jGa False\n",
            "Aiq3uyf3G1 True\n",
            "ruQ-1d4G False\n",
            "qkqFDuQh4FG3FG False\n",
            "2$A48bc753 True\n"
          ]
        }
      ],
      "source": [
        "from string import ascii_uppercase\n",
        "\n",
        "'''\n",
        "Global variables (optional):\n",
        "'''\n",
        "UPPER_SET = set(ascii_uppercase)\n",
        "SPECIAL_SET = set('!-+/*&%$#_@()[]')\n",
        "DIGITS_SET = set('0123456789')\n",
        "\n",
        "\n",
        "def passes_length(password: str) -> bool:\n",
        "    return len(password) >= 10\n",
        "\n",
        "\n",
        "def passes_capital_chars(password: str) -> bool:\n",
        "    return sum(ch in UPPER_SET for ch in password) >= 2\n",
        "\n",
        "\n",
        "def passes_special_symbols(password: str) -> bool:\n",
        "    return bool(set(password) & SPECIAL_SET)\n",
        "\n",
        "\n",
        "def passes_digits(password: str) -> bool:\n",
        "    return sum(ch in DIGITS_SET for ch in password) >= 3\n",
        "\n",
        "\n",
        "def is_valid_password(password: str) -> bool:\n",
        "    '''\n",
        "    The password is valid if at least 3 of the 4 following conditions are true:\n",
        "    1. len >= 10\n",
        "    2. at least two capital letters\n",
        "    3. at least one special symbol from !-+/*&%$#_@()[]\n",
        "    4. at least three digits\n",
        "    '''\n",
        "    return sum((\n",
        "        passes_length(password),\n",
        "        passes_capital_chars(password),\n",
        "        passes_special_symbols(password),\n",
        "        passes_digits(password)\n",
        "    )) >= 3\n",
        "    \n",
        "\n",
        "# TESTING\n",
        "print('--- STARTED TESTING ---')\n",
        "assert all(passes_length(pwd) == ans for pwd, ans in zip(\n",
        "        ['acd748ghc', '1yd758gja1', '473hdjqudhfgn'], \n",
        "        [False, True, True])\n",
        "    ), 'passes_length failed'\n",
        "print('passes_length passed')\n",
        "\n",
        "assert all(passes_special_symbols(pwd) == ans for pwd, ans in zip(\n",
        "        ['acd8ghc', '1yd7_Bgja1', '$', '7f!67@2G'], \n",
        "        [False, True, True, True])\n",
        "    ), 'passes_special_symbols failed'\n",
        "print('passes_special_symbols passed')\n",
        "\n",
        "assert all(passes_capital_chars(pwd) == ans for pwd, ans in zip(\n",
        "        ['acd7#$48ghc', '1yd7_Bgja1', 'aqwBqsgF_', '7f67AiBiu2G'], \n",
        "        [False, False, True, True])\n",
        "    ), 'passes_capital_chars failed'\n",
        "print('passes_capital_chars passed')\n",
        "\n",
        "assert all(passes_digits(pwd) == ans for pwd, ans in zip(\n",
        "        ['acd7#$ghc', '1yd_Bgja', 'aqw2Bqs5gF_', '7f67AiBiu2G', 'hjshgdf7hg16ghd6'], \n",
        "        [False, False, False, True, True])\n",
        "    ), 'passes_digits failed'\n",
        "print('passes_digits passed')\n",
        "print('--- FINISHED TESTING ---')\n",
        "# END OF TESTING\n",
        "\n",
        "\n",
        "'''\n",
        "Uncomment this to run the code\n",
        "'''\n",
        "TESTS = ['iuhkQe82jGa', 'Aiq3uyf3G1', 'ruQ-1d4G', 'qkqFDuQh4FG3FG', '2$A48bc753']\n",
        "for t in TESTS:\n",
        "    print(t, is_valid_password(t))\n"
      ]
    },
    {
      "cell_type": "code",
      "execution_count": null,
      "metadata": {
        "id": "Nq58JYU-Q30Z"
      },
      "outputs": [],
      "source": [
        "def network_adress(netw_id: str, mask: str) -> str:\n",
        "    return '.'.join(map(lambda x: str(int(x[0]) & int(x[1])), zip(netw_id.split('.'), mask.split('.'))))"
      ]
    },
    {
      "cell_type": "code",
      "execution_count": null,
      "metadata": {
        "colab": {
          "base_uri": "https://localhost:8080/"
        },
        "id": "OQ09rpxuQ30i",
        "outputId": "e23abad5-0d67-48cb-e0a6-2c79ea00471f"
      },
      "outputs": [
        {
          "name": "stdout",
          "output_type": "stream",
          "text": [
            "(2, 3, 4) 28.955\n",
            "(8, 4, 5) 24.147\n",
            "(2, 1, 1.7320508075688772) 30.000\n",
            "(3, 10, 4) 0.000\n",
            "(4, 5, 5) 47.156\n",
            "(5, 4, 4) 51.318\n",
            "(1, 1, 1) 60.000\n"
          ]
        }
      ],
      "source": [
        "import math\n",
        "def angle(a,b,c):\n",
        "    # angle between a and b in (a,b,c) triangle\n",
        "    return math.acos((a**2 + b**2 - c**2)/(2*a*b))\n",
        "\n",
        "def is_triangle(c,b,a):\n",
        "    # a <= b <= c\n",
        "    return a + b > c\n",
        "\n",
        "def minimum_angle(a,b,c):\n",
        "    sides_sorted = sorted((a,b,c), reverse=True)\n",
        "    if not is_triangle(*sides_sorted):\n",
        "        return 0\n",
        "    return angle(*sides_sorted)\n",
        "\n",
        "tests = [\n",
        "    (2, 3, 4),\n",
        "    (8, 4, 5),\n",
        "    (2, 1, math.sqrt(3)),\n",
        "    (3, 10, 4),\n",
        "    (4, 5, 5),\n",
        "    (5, 4, 4),\n",
        "    (1, 1, 1)\n",
        "]\n",
        "for t in tests:\n",
        "    print(t, f'{minimum_angle(*t) * 180/math.pi:.3f}')"
      ]
    },
    {
      "cell_type": "markdown",
      "metadata": {
        "id": "Z7yyOcODQ30Z"
      },
      "source": [
        "# Loops and different data types"
      ]
    },
    {
      "cell_type": "code",
      "execution_count": null,
      "metadata": {
        "id": "rLSrYuELQ30a"
      },
      "outputs": [],
      "source": [
        "def fizzbuzz_boring(n: int) -> None:\n",
        "    for i in range(1, n):\n",
        "        if i % 3 == 0 and i % 5 == 0:\n",
        "            print('FizzBuzz')\n",
        "        elif i % 3 == 0:\n",
        "            print('Fizz')\n",
        "        elif i % 5 == 0:\n",
        "            print('Buzz')\n",
        "        else:\n",
        "            print(i)\n",
        "\n",
        "def fizzbuzz_flex(n: int) -> None:\n",
        "    print('\\n'.join('Fizz' * (i % 3 == 0) + 'Buzz' * (i % 5 == 0) if not (i % 3 and i % 5) else str(i) for i in range(1, n)))"
      ]
    },
    {
      "cell_type": "code",
      "execution_count": 23,
      "metadata": {},
      "outputs": [
        {
          "name": "stdout",
          "output_type": "stream",
          "text": [
            "camelCase camel_case\n",
            "PascalCase pascal_case\n",
            "OneTwoThree one_two_three\n",
            "CodeVersionA code_version_a\n",
            "AClass a_class\n",
            "Power power\n",
            "C c\n"
          ]
        }
      ],
      "source": [
        "from string import ascii_uppercase\n",
        "\n",
        "UPPER = set(ascii_uppercase)\n",
        "\n",
        "def to_snake_case(name: str) -> str:\n",
        "    words = []\n",
        "    current = ''\n",
        "\n",
        "    for ch in name:\n",
        "        if ch in UPPER:\n",
        "            if current: words.append(current)\n",
        "            current = ch\n",
        "        else:\n",
        "            current += ch\n",
        "    words.append(current)\n",
        "    return '_'.join(words).lower()\n",
        "\n",
        "tests = ['camelCase', 'PascalCase', 'OneTwoThree', 'CodeVersionA', 'AClass', 'Power', 'C']\n",
        "for t in tests:\n",
        "    print(t, to_snake_case(t))"
      ]
    },
    {
      "cell_type": "code",
      "execution_count": null,
      "metadata": {
        "id": "ITSBP_OWQ30a"
      },
      "outputs": [],
      "source": [
        "def smart_range(s: str) -> list:\n",
        "    res = []\n",
        "    for rng in s.split(','):\n",
        "        if '-' in rng:\n",
        "            dash = rng.find('-')\n",
        "            res.extend(range(int(rng[:dash]), int(rng[dash+1:])+1))\n",
        "        else:\n",
        "            res.append(int(rng))\n",
        "    return res"
      ]
    },
    {
      "cell_type": "code",
      "execution_count": null,
      "metadata": {
        "id": "hswuufobQ30a"
      },
      "outputs": [],
      "source": [
        "def houses(colors: list[int]) -> int:\n",
        "    return sum(map(lambda x: x[0]==x[1], zip(colors[:-2], colors[2:])))"
      ]
    },
    {
      "cell_type": "code",
      "execution_count": null,
      "metadata": {
        "id": "w9DhNCVOQ30a"
      },
      "outputs": [],
      "source": [
        "def gcd_function(a: int, b: int) -> int:\n",
        "    # the greatest common divisor function based on the Euclidean algorithm\n",
        "    while b != 0:\n",
        "        a, b = b, a % b\n",
        "    return a"
      ]
    },
    {
      "cell_type": "code",
      "execution_count": null,
      "metadata": {
        "id": "-NG7Kb4WQ30b"
      },
      "outputs": [],
      "source": [
        "def numbers_in_str(s: str) -> int:\n",
        "    return sum(map(int, s.split()))"
      ]
    },
    {
      "cell_type": "code",
      "execution_count": null,
      "metadata": {
        "id": "7RBN-0r8Q30b"
      },
      "outputs": [],
      "source": [
        "def linspace_v1(a: float, b: float, N: int) -> list[float]:\n",
        "    return [a + i*(b-a)/(N-1) for i in range(N)]\n",
        "\n",
        "def linspace_v2(a, b, N):\n",
        "    res = [float(a)]\n",
        "    d = (b - a)/(N-1)\n",
        "    for _ in range(N-1):\n",
        "        res.append(res[-1] + d)\n",
        "    return res\n",
        "# ---\n",
        "def lins_v1(a, b, N):\n",
        "    d = (b - a)/(N-1)\n",
        "    c = 0\n",
        "    result = []\n",
        "    for i in range(1,N+1):\n",
        "        c = a + d\n",
        "        a+=d\n",
        "        result.append(c-d)\n",
        "    return result\n",
        "def lins_v2(a, b, N):\n",
        "    d = (b - a)/(N-1)\n",
        "    result = [a]\n",
        "    for i in range(N-1):\n",
        "        result.append(result[-1]+d)\n",
        "    return result\n"
      ]
    },
    {
      "cell_type": "code",
      "execution_count": null,
      "metadata": {
        "id": "8xlqLUcJQ30b"
      },
      "outputs": [],
      "source": [
        "def add_fractions(frac1, frac2):\n",
        "    from math import gcd\n",
        "    top = frac1[0]*frac2[1] + frac1[1]*frac2[0]\n",
        "    bot = frac1[1]*frac2[1]\n",
        "    div = gcd(top, bot)\n",
        "    return top//div, bot//div\n",
        "def nth_harmonic(n) -> tuple[int, int]:\n",
        "    res = (0,1)\n",
        "    for i in range(1, n+1):\n",
        "        res = add_fractions(res, (1, i))\n",
        "    return res\n"
      ]
    },
    {
      "cell_type": "code",
      "execution_count": null,
      "metadata": {
        "id": "Yebemg9EQ30b"
      },
      "outputs": [],
      "source": [
        "def collatz(n: int) -> int:\n",
        "    res = 0\n",
        "    while n != 1:\n",
        "        n = n//2 if n % 2 == 0 else 3 * n + 1\n",
        "        res += 1\n",
        "    return res\n",
        "\n",
        "def mycache(func):\n",
        "    data = {}\n",
        "    def wrapper(n):\n",
        "        if n in data:\n",
        "            return data[n]\n",
        "        result = func(n)\n",
        "        data[n] = result\n",
        "        return result\n",
        "    return wrapper\n",
        "\n",
        "@mycache # or @functools.cache\n",
        "def collatz_rec(n):\n",
        "    if n == 1:\n",
        "        return 0\n",
        "    return 1 + collatz_rec(n//2 if n % 2 == 0 else 3 * n + 1)\n",
        "\n",
        "# sum of all collatz(n) for n in range(2, N+1)\n",
        "\n",
        "def collatz_sum_v1(N=100_000):\n",
        "    s = 0\n",
        "    for el in range(2, N+1):\n",
        "        s += collatz(el)\n",
        "    return s\n",
        "\n",
        "def collatz_sum_v2(N=100_000):\n",
        "    def collatz_non_rec(n):\n",
        "        orig = int(n)\n",
        "        res = 0\n",
        "        while n!=1:\n",
        "            if n in data:\n",
        "                res += data[n]\n",
        "                data[orig] = res\n",
        "                return res\n",
        "            else:\n",
        "                n = n//2 if n % 2 == 0 else 3 * n + 1\n",
        "                res += 1\n",
        "        data[orig] = res\n",
        "        return res\n",
        "    data = {}\n",
        "    s = 0\n",
        "    for el in range(2, N+1):\n",
        "        s += collatz_non_rec(el)\n",
        "    return s, data\n",
        "\n",
        "def collatz_sum_v3(N=100_000):\n",
        "    s = 0\n",
        "    for el in range(2, N+1):\n",
        "        s += collatz_rec(el)\n",
        "    return s\n",
        "# ---\n",
        "def collatz_azat(a):\n",
        "    N = 0\n",
        "    while a!=1:\n",
        "        if a%2==0:\n",
        "            a = a/2\n",
        "        else:\n",
        "            a = 3 * a + 1\n",
        "        N+=1\n",
        "    return N\n"
      ]
    },
    {
      "cell_type": "code",
      "execution_count": null,
      "metadata": {
        "colab": {
          "base_uri": "https://localhost:8080/"
        },
        "id": "7Wc117EGQ30c",
        "outputId": "50ebccbb-daef-422e-b35d-c1aca68b471c"
      },
      "outputs": [
        {
          "name": "stdout",
          "output_type": "stream",
          "text": [
            "7 1428571428571428571428571428571428571428 142857142857142\n",
            "3 3333333333333333333333333333333333333333 333333333333333\n",
            "5 2000000000000000000000000000000000000000 200000000000000\n",
            "11 0909090909090909090909090909090909090909 090909090909090\n",
            "101 0099009900990099009900990099009900990099 009900990099009\n",
            "3576 0002796420581655480984340044742729306487 000279642058165\n",
            "9801 0001020304050607080910111213141516171819 000102030405060\n"
          ]
        }
      ],
      "source": [
        "def decimal_expansion(denom: int):\n",
        "    num = 10\n",
        "    res = ''\n",
        "    for _ in range(40):\n",
        "        res += str(num // denom)\n",
        "        num = 10 * (num % denom)\n",
        "    return res\n",
        "\n",
        "def drobi(a):\n",
        "    b = \"\"\n",
        "    f = 1\n",
        "    de = 1\n",
        "    for i in range(1, 16):\n",
        "        f = f % a\n",
        "        f = f*10\n",
        "        de = f // a\n",
        "        b+=str(de)\n",
        "    return b\n",
        "\n",
        "tests = [7, 3, 5, 11, 101, 3576, 99**2]\n",
        "for t in tests:\n",
        "    print(t, decimal_expansion(t), drobi(t))\n"
      ]
    },
    {
      "cell_type": "code",
      "execution_count": 9,
      "metadata": {},
      "outputs": [
        {
          "name": "stdout",
          "output_type": "stream",
          "text": [
            "[0, 1]\n",
            "[1, 2]\n",
            "[0, 1]\n"
          ]
        }
      ],
      "source": [
        "print(two_sum([2,7,11,15], 9))\n",
        "print(two_sum([3,2,4], 6))\n",
        "print(two_sum([3,3], 6))"
      ]
    },
    {
      "cell_type": "code",
      "execution_count": null,
      "metadata": {
        "id": "Kx_yRiqVQ30c"
      },
      "outputs": [],
      "source": [
        "def unique_symbols(s) -> str:\n",
        "    ALPH_SET = set('abcdefghijklmnopqrstuvwxyz')\n",
        "    non_alph = set()\n",
        "    alph = set()\n",
        "    for ch in s:\n",
        "        if ch not in ALPH_SET:\n",
        "            non_alph.add(ch)\n",
        "        else:\n",
        "            alph.add(ch)\n",
        "    return ''.join(non_alph) + ''.join(alph)\n",
        "\n",
        "unique_symbols(r'j%***qh44f%lsqwe5jf6hur1')"
      ]
    },
    {
      "cell_type": "code",
      "execution_count": null,
      "metadata": {
        "id": "ENRX586bQ30c"
      },
      "outputs": [],
      "source": [
        "def make_counter(vals: list[int | str]) -> dict[int | str, int]:\n",
        "    res = {v: 0 for v in set(vals)}\n",
        "    for el in vals:\n",
        "        res[el] += 1\n",
        "    return res"
      ]
    },
    {
      "cell_type": "code",
      "execution_count": null,
      "metadata": {
        "id": "KNSMmFCgQ30d"
      },
      "outputs": [],
      "source": [
        "def first3_times_last5_v1(a: list[int]) -> int:\n",
        "    return next(filter(lambda x: x % 3 == 0, a)) * next(filter(lambda x: x % 5 == 0, reversed(a)))\n",
        "\n",
        "def first3_times_last5_v2(a) -> int:\n",
        "    res = 1\n",
        "    for el in a:\n",
        "        if el % 3 == 0:\n",
        "            res *= el\n",
        "            break\n",
        "    for el in reversed(a):\n",
        "        if el % 5 == 0:\n",
        "            res *= el\n",
        "            break\n",
        "    return res"
      ]
    },
    {
      "cell_type": "code",
      "execution_count": null,
      "metadata": {
        "id": "JumWQ6OrQ30d"
      },
      "outputs": [],
      "source": [
        "def contains_repeating_ids(entries: list[dict[int, str]]) -> bool:\n",
        "    ids = [el['id'] for el in entries]\n",
        "    return len(ids) != len(set(ids))"
      ]
    },
    {
      "cell_type": "code",
      "execution_count": null,
      "metadata": {
        "id": "8GnxQ_M8Q30d"
      },
      "outputs": [],
      "source": [
        "def first_repetition(nums) -> int:\n",
        "    elements = set()\n",
        "    for i, el in enumerate(nums):\n",
        "        if el in elements:\n",
        "            return i\n",
        "        elements.add(el)\n",
        "    return -1\n",
        "\n",
        "def first_repetition_harder(nums: list):\n",
        "    last_seen_index = dict()\n",
        "    for i, el in enumerate(nums):\n",
        "        if (index := last_seen_index.get(el, None)) is None:\n",
        "            last_seen_index[el] = i\n",
        "        else:\n",
        "            return index\n",
        "    return -1"
      ]
    },
    {
      "cell_type": "code",
      "execution_count": null,
      "metadata": {
        "id": "FUte8qsEQ30d"
      },
      "outputs": [],
      "source": [
        "def is_power(a: int) -> bool:\n",
        "    from math import log, sqrt\n",
        "    # O(sqrt(n)*log(n)) complexity?\n",
        "    for base in range(2, sqrt(a)+1):\n",
        "        for power in range(2, int(log(a, base))+1):\n",
        "            if base**power == a:\n",
        "                return True\n",
        "    return False"
      ]
    },
    {
      "cell_type": "code",
      "execution_count": null,
      "metadata": {
        "id": "SFAH0HE-Q30e"
      },
      "outputs": [],
      "source": [
        "def number_of_tips_v1(guests: list[int]) -> int:\n",
        "    def gcd_function(a: int, b: int) -> int:\n",
        "        while b != 0:\n",
        "            a, b = b, a % b\n",
        "        return a    \n",
        "    def lcm(a: int, b: int) -> int:\n",
        "        return a*b//gcd_function(a, b)\n",
        "    result = lcm(guests[0], guests[1])\n",
        "    for num_guests in guests[2:]:\n",
        "        result = lcm(num_guests, result)\n",
        "    return result\n",
        "\n",
        "def number_of_tips_v2(guests: list[int]) -> int:\n",
        "    from math import lcm\n",
        "    return lcm(*guests)"
      ]
    },
    {
      "cell_type": "code",
      "execution_count": null,
      "metadata": {
        "id": "94dBSSZSQ30e"
      },
      "outputs": [],
      "source": [
        "def cumsum_v1(a: list) -> list:\n",
        "    res = [a[0]]\n",
        "    for el in a[1:]:\n",
        "        res.append(res[-1] + el)\n",
        "    return res\n",
        "\n",
        "def cumsum_v2(a: list) -> list:\n",
        "    return [sum(a[:i]) for i in range(1, len(a) + 1)]\n",
        "\n",
        "def cumsum_v3(a: list) -> list:\n",
        "    from itertools import accumulate\n",
        "    return list(accumulate(a))\n",
        "# ---\n",
        "def summ(a):\n",
        "    temp = 0 \n",
        "    b = []\n",
        "    for i in a:\n",
        "        sum1 = i + temp\n",
        "        temp = sum1\n",
        "        b.append(sum1)\n",
        "    return b\n"
      ]
    },
    {
      "cell_type": "code",
      "execution_count": null,
      "metadata": {
        "id": "-9xsVgJaQ30e"
      },
      "outputs": [],
      "source": [
        "def matrix_maximum(M: list[list[int]]) -> tuple[int, int]:\n",
        "    import numpy as np\n",
        "    MM = np.array(M)\n",
        "    return max(np.sum(MM, axis=0)), max(np.sum(MM, axis=1))\n",
        "M = [\n",
        "    [1,4,6],\n",
        "    [2,1,7],\n",
        "    [-4,1,-4]\n",
        "]\n",
        "matrix_maximum(M)"
      ]
    },
    {
      "cell_type": "code",
      "execution_count": null,
      "metadata": {
        "id": "obiAfriyQ30e"
      },
      "outputs": [],
      "source": [
        "def random_license_plate() -> str:\n",
        "    from random import choice, randrange\n",
        "    letters = 'ETOPAHKCBMX'\n",
        "    return f'{choice(letters)} {randrange(1, 1000):03d} {choice(letters)}{choice(letters)}'"
      ]
    },
    {
      "cell_type": "code",
      "execution_count": null,
      "metadata": {
        "id": "pKpGSdTWQ30e"
      },
      "outputs": [],
      "source": [
        "def balls_and_baskets(vals):\n",
        "    for v1, v2 in zip(vals[:-1], vals[1:]):\n",
        "        if v2 < v1:\n",
        "            return -1\n",
        "    return vals[-1] - vals[0]\n",
        "print(balls_and_baskets([0,1,1,2,3,5]))\n",
        "print(balls_and_baskets([1,1,2,4,3,3]))"
      ]
    },
    {
      "cell_type": "code",
      "execution_count": null,
      "metadata": {
        "colab": {
          "base_uri": "https://localhost:8080/"
        },
        "id": "hx8ftOTKQ30e",
        "outputId": "bbba37b6-06a7-486a-ce62-bf544d863be4"
      },
      "outputs": [
        {
          "name": "stdout",
          "output_type": "stream",
          "text": [
            "bubble sort\n",
            "10: 14 µs ± 3.39 µs per loop (mean ± std. dev. of 7 runs, 100000 loops each)\n",
            "70: 457 µs ± 3.83 µs per loop (mean ± std. dev. of 7 runs, 1000 loops each)\n",
            "400: 17.1 ms ± 3.76 ms per loop (mean ± std. dev. of 7 runs, 100 loops each)\n",
            "1500: 243 ms ± 7.04 ms per loop (mean ± std. dev. of 7 runs, 1 loop each)\n",
            "5000: 3.03 s ± 488 ms per loop (mean ± std. dev. of 7 runs, 1 loop each)\n",
            "20000: 50.7 s ± 33.9 ms per loop (mean ± std. dev. of 7 runs, 1 loop each)\n",
            "merge sort\n",
            "10: 24.5 µs ± 562 ns per loop (mean ± std. dev. of 7 runs, 10000 loops each)\n",
            "70: 231 µs ± 6.1 µs per loop (mean ± std. dev. of 7 runs, 1000 loops each)\n",
            "400: 1.77 ms ± 367 µs per loop (mean ± std. dev. of 7 runs, 1000 loops each)\n",
            "1500: 6.81 ms ± 18.2 µs per loop (mean ± std. dev. of 7 runs, 100 loops each)\n",
            "5000: 25.1 ms ± 472 µs per loop (mean ± std. dev. of 7 runs, 10 loops each)\n",
            "20000: 132 ms ± 30.2 ms per loop (mean ± std. dev. of 7 runs, 10 loops each)\n"
          ]
        }
      ],
      "source": [
        "# sorting comparison\n",
        "def merge(arr1, arr2):\n",
        "    res = []\n",
        "    i, j = 0, 0\n",
        "    len1, len2 = len(arr1), len(arr2)\n",
        "    while i < len1 and j < len2:\n",
        "        if arr1[i] < arr2[j]:\n",
        "            res.append(arr1[i])\n",
        "            i+=1\n",
        "        else:\n",
        "            res.append(arr2[j])\n",
        "            j+=1\n",
        "    if i == len1:\n",
        "        res += arr2[j:]\n",
        "    if j == len2:\n",
        "        res += arr1[i:]\n",
        "    return res\n",
        "\n",
        "def merge_sort(arr):\n",
        "    if len(arr) == 1:\n",
        "        return arr\n",
        "    mid = len(arr)//2\n",
        "    return merge(merge_sort(arr[:mid]), merge_sort(arr[mid:]))\n",
        "\n",
        "def bubble_sort(arr):\n",
        "    a = arr.copy()\n",
        "    for i in range(1, len(a)):\n",
        "        for j in range(len(a) - i):\n",
        "            if a[j] > a[j+1]:\n",
        "                a[j], a[j+1] = a[j+1], a[j]\n",
        "    return a\n",
        "\n",
        "import random\n",
        "def get_random_list(length: int):\n",
        "    return [round(random.random(), 5) for _ in range(length)]\n",
        "\n",
        "ns = 10, 70, 400, 1500, 5000, 20000\n",
        "\n",
        "# time testing bubble\n",
        "print('bubble sort')\n",
        "for n in ns:\n",
        "    print(n, end=': ')\n",
        "    a = get_random_list(n)\n",
        "    %timeit bubble_sort(a)\n",
        "\n",
        "# time testing merge\n",
        "print('merge sort')\n",
        "for n in ns:\n",
        "    print(n, end=': ')\n",
        "    a = get_random_list(n)\n",
        "    %timeit merge_sort(a)\n",
        "\n",
        "# time testing built-in\n",
        "print('built-in sort')\n",
        "for n in ns:\n",
        "    print(n, end=': ')\n",
        "    a = get_random_list(n)\n",
        "    %timeit sorted(a)"
      ]
    },
    {
      "cell_type": "code",
      "execution_count": null,
      "metadata": {
        "id": "0BIkMpfSQ30f"
      },
      "outputs": [],
      "source": [
        "def find_root(function, a, b):\n",
        "    c = (a+b)/2\n",
        "    while abs(function(c)) > 1e-3:\n",
        "        if function(a)*function(c) < 0:\n",
        "            b = c\n",
        "        else:\n",
        "            a = c\n",
        "        c = (a+b)/2\n",
        "    return round(c,3)"
      ]
    },
    {
      "cell_type": "code",
      "execution_count": 6,
      "metadata": {
        "colab": {
          "base_uri": "https://localhost:8080/"
        },
        "id": "L-SYG42gQ30f",
        "outputId": "5e42368f-2044-4f15-9226-71d02d0ef76d"
      },
      "outputs": [
        {
          "name": "stdout",
          "output_type": "stream",
          "text": [
            "1101111 [(2, 'f'), (8, 'c')]\n",
            "1110001 [(3, 'd'), (7, 'g')]\n",
            "0110001 [(1, 'g'), (4, 'f')]\n",
            "0000011 []\n",
            "1111110 [(8, 'g')]\n"
          ]
        }
      ],
      "source": [
        "def displayed_digit(bits):\n",
        "    digits = {\n",
        "        0: '1111110',\n",
        "        1: '0110000',\n",
        "        2: '1101101',\n",
        "        3: '1111001',\n",
        "        4: '0110011',\n",
        "        5: '1011011',\n",
        "        6: '1011111',\n",
        "        7: '1110000',\n",
        "        8: '1111111',\n",
        "        9: '1111011'\n",
        "    }\n",
        "    powers_of_2 = {2**i: 'abcdefg'[(6-i)] for i in range(6)}\n",
        "    digits_10 = {key: int(val, 2) for key, val in digits.items()}\n",
        "    bits_10 = int(bits, 2)\n",
        "    res = []\n",
        "    for key, val in digits_10.items():\n",
        "        if (pow_of_two:=bits_10 ^ val) in powers_of_2:\n",
        "            res.append((key, powers_of_2[pow_of_two]))\n",
        "    return res\n",
        "tests = ['1101111', '1110001', '0110001', '0000011', '1111110']\n",
        "for t in tests:\n",
        "    print(t, displayed_digit(t))\n",
        "\n"
      ]
    },
    {
      "cell_type": "code",
      "execution_count": 1,
      "metadata": {},
      "outputs": [
        {
          "name": "stdout",
          "output_type": "stream",
          "text": [
            "1101111 [(2, 'f'), (8, 'c')]\n",
            "1110001 [(3, 'd'), (7, 'g')]\n",
            "0110001 [(1, 'g'), (4, 'f')]\n",
            "0000011 []\n",
            "1111110 [(8, 'g')]\n"
          ]
        }
      ],
      "source": [
        "'''\n",
        "Global variables:\n",
        "'''\n",
        "DIGITS = {\n",
        "    0: '1111110',\n",
        "    1: '0110000',\n",
        "    2: '1101101',\n",
        "    3: '1111001',\n",
        "    4: '0110011',\n",
        "    5: '1011011',\n",
        "    6: '1011111',\n",
        "    7: '1110000',\n",
        "    8: '1111111',\n",
        "    9: '1111011'\n",
        "}\n",
        "LETTERS = 'abcdefg'\n",
        "\n",
        "\n",
        "def different_place_indices(bits1: str, bits2: str) -> list[int]:\n",
        "    '''\n",
        "    Return the list of indices at which two strings (with equal lengths) are not equal.\n",
        "    '''\n",
        "    return [i for (i, (el1, el2)) in enumerate(zip(bits1, bits2)) if el1 != el2]\n",
        "\n",
        "\n",
        "def potentially_displayed_digits(bits: str) -> list[tuple[int, str]]:\n",
        "    '''\n",
        "    Return a list of pairs: a number which can be displayed, a segment working incorrectly.\n",
        "    '''\n",
        "    return [(digit, LETTERS[eq_indices[0]]) for digit, digit_bits in DIGITS.items() \\\n",
        "            if len((eq_indices := different_place_indices(digit_bits, bits))) == 1]\n",
        "\n",
        "TESTS = ['1101111', '1110001', '0110001', '0000011', '1111110']\n",
        "for t in TESTS:\n",
        "    print(t, potentially_displayed_digits(t))"
      ]
    },
    {
      "cell_type": "code",
      "execution_count": null,
      "metadata": {
        "id": "5nrCC88GQ30f"
      },
      "outputs": [],
      "source": [
        "def hamming_weight1(num):\n",
        "        res = 0\n",
        "        while num:\n",
        "            res += num % 2\n",
        "            num >>= 1\n",
        "        return res\n",
        "    \n",
        "def hamming_weight2(num):\n",
        "    '''wtf hahahhah'''\n",
        "    res = 0\n",
        "    while num:\n",
        "        num &= num - 1\n",
        "        res += 1\n",
        "    return res\n",
        "\n",
        "def displayed_digit_2(bits):\n",
        "    # 0, 1 or 2 incorrectly working segments\n",
        "    # how many digits can it be displaying?\n",
        "    res = []\n",
        "    digits = {\n",
        "        0: '1111110',\n",
        "        1: '0110000',\n",
        "        2: '1101101',\n",
        "        3: '1111001',\n",
        "        4: '0110011',\n",
        "        5: '1011011',\n",
        "        6: '1011111',\n",
        "        7: '1110000',\n",
        "        8: '1111111',\n",
        "        9: '1111011'\n",
        "    }\n",
        "    bits_10 = int(bits, 2)\n",
        "    digits_10 = {key: int(val, 2) for key, val in digits.items()}\n",
        "    for key, val in digits_10.items():\n",
        "        if hamming_weight1(bits_10 ^ val) in {0, 1, 2}:\n",
        "            res.append(key)\n",
        "    return res\n"
      ]
    },
    {
      "cell_type": "code",
      "execution_count": null,
      "metadata": {
        "id": "11HdJTXHQ30f"
      },
      "outputs": [],
      "source": [
        "from sympy.ntheory import isprime\n",
        "\n",
        "def prime_gen():\n",
        "    i = 2\n",
        "    while True:\n",
        "        if isprime(i):\n",
        "            yield i\n",
        "        i += 1\n",
        "\n",
        "def factorize_v1(n: int) -> dict[int, int]:\n",
        "    res = dict()\n",
        "    p_gen = prime_gen()\n",
        "    while n > 1:\n",
        "        if isprime(n):\n",
        "            res[n] = 1\n",
        "            break\n",
        "        base = next(p_gen)\n",
        "        power = 0\n",
        "        while not n % base:\n",
        "            n //= base\n",
        "            power += 1\n",
        "        if power:\n",
        "            res[base] = power\n",
        "    return res\n",
        "\n",
        "tests = [2, 10, 12, 120, 2840]\n",
        "for t in tests:\n",
        "    print(factorize_v1(t))\n"
      ]
    },
    {
      "cell_type": "code",
      "execution_count": null,
      "metadata": {
        "id": "ejRwA_lWQ30f"
      },
      "outputs": [],
      "source": [
        "def binomial(n):\n",
        "    from math import factorial\n",
        "    def c(n, m):\n",
        "        return factorial(n)//(factorial(n-m)*factorial(m))\n",
        "    def pow(i):\n",
        "        return f'^{i}' if i not in {0, 1} else ''\n",
        "    def coef(i):\n",
        "        return str(c(n, i)) if i != n else ''\n",
        "    return '+'.join(f'{coef(i)}x{pow(i)}' if i != 0 else '1' for i in range(n+1))\n",
        "print(binomial(5))"
      ]
    },
    {
      "cell_type": "code",
      "execution_count": null,
      "metadata": {},
      "outputs": [
        {
          "name": "stdout",
          "output_type": "stream",
          "text": [
            "([8, 1, 4, 5, 2], [7, 9, 6, 1]) [8, 9, 4, 1, 3]\n",
            "([1], [3]) [4]\n",
            "([6], [7]) [1, 3]\n",
            "([2], [1, 0, 0]) [1, 0, 2]\n"
          ]
        }
      ],
      "source": [
        "from itertools import zip_longest\n",
        "def add_numbers(a: list[int], b: list[int]) -> list[int]:\n",
        "    '''\n",
        "    Adds two numbers both given as a list of digits.\n",
        "    Returns a sum as a list of digits.\n",
        "    '''\n",
        "    res = []\n",
        "    carry = 0\n",
        "    for na, nb in zip_longest(reversed(a), reversed(b), fillvalue=0):\n",
        "        carry, rem = divmod(na + nb + carry, 10)\n",
        "        res.append(rem)\n",
        "    if len(a) == len(b) and carry:\n",
        "        res.append(carry)\n",
        "    return res[::-1]\n",
        "\n",
        "tests = [\n",
        "    ([8,1,4,5,2], [7,9,6,1]),\n",
        "    ([1], [3]),\n",
        "    ([6], [7]),\n",
        "    ([2], [1, 0, 0]),\n",
        "    # ([])\n",
        "]\n",
        "\n",
        "for t in tests:\n",
        "    print(t, add_numbers(*t))"
      ]
    },
    {
      "cell_type": "code",
      "execution_count": 5,
      "metadata": {},
      "outputs": [
        {
          "name": "stdout",
          "output_type": "stream",
          "text": [
            "([1, 2, 3], [4, 5, 6]) 56088 [5, 6, 0, 8, 8]\n",
            "([2, 0, 5], [7, 3]) 14965 [1, 4, 9, 6, 5]\n",
            "([2], [3]) 6 [6]\n",
            "([1, 0], [1, 2, 0, 1]) 12010 [1, 2, 0, 1, 0]\n"
          ]
        }
      ],
      "source": [
        "def mult_numbers_int(a: list[int], b: list[int]) -> int:\n",
        "    '''\n",
        "    Multiplies two numbers both given as a list of digits.\n",
        "    Returns a product as an integer.\n",
        "    '''\n",
        "    res = 0\n",
        "    for i, na in enumerate(reversed(a)):\n",
        "        for j, nb in enumerate(reversed(b)):\n",
        "            res += na * nb * 10**(i+j)\n",
        "    return res\n",
        "\n",
        "def mult_numbers_list(a: list[int], b: list[int]) -> list[int]:\n",
        "    '''\n",
        "    Multiplies two numbers both given as a list of digits.\n",
        "    Returns a product as a list of digits.\n",
        "    '''\n",
        "    res = [0] * (len(a) + len(b))\n",
        "    for i, na in enumerate(reversed(a)):\n",
        "        for j, nb in enumerate(reversed(b)):\n",
        "            carry, rem = divmod(na * nb, 10)\n",
        "            res[i+j] += rem\n",
        "            res[i+j+1] += carry\n",
        "    for i in range(len(res)-1):\n",
        "        carry, rem = divmod(res[i], 10)\n",
        "        res[i] = rem\n",
        "        res[i+1] += carry\n",
        "    \n",
        "    while res[-1] == 0:\n",
        "        res.pop()\n",
        "    return res[::-1]\n",
        "\n",
        "tests = [\n",
        "    ([1,2,3], [4,5,6]),\n",
        "    ([2,0,5], [7,3]),\n",
        "    ([2], [3]),\n",
        "    ([1,0], [1,2,0,1]),\n",
        "]\n",
        "for t in tests:\n",
        "    print(t, mult_numbers_int(*t), mult_numbers_list(*t))"
      ]
    },
    {
      "cell_type": "code",
      "execution_count": null,
      "metadata": {
        "colab": {
          "base_uri": "https://localhost:8080/"
        },
        "id": "j7WEvZvRetpE",
        "outputId": "461856d3-1cde-461c-9dc2-1a42cdc0d3e5"
      },
      "outputs": [
        {
          "name": "stdout",
          "output_type": "stream",
          "text": [
            "<a>0<b>1<c>2 [('0', ''), ('1', ''), ('2', '')]\n",
            "0 <a 1> 2 [('0', ''), ('1', 'a'), ('2', '')]\n",
            "<a 12 <b 34> <c 56> 78> [('1', 'a'), ('2', 'a'), ('3', 'ab'), ('4', 'ab'), ('5', 'ac'), ('6', 'ac'), ('7', 'a'), ('8', 'a')]\n",
            "01 <r 23 <b 45 <c 6>> 78> 9 [('0', ''), ('1', ''), ('2', 'r'), ('3', 'r'), ('4', 'rb'), ('5', 'rb'), ('6', 'rbc'), ('7', 'r'), ('8', 'r'), ('9', '')]\n",
            "<a<b<c<d<e<f 0>>1>>2>>3 [('0', 'abcdef'), ('1', 'abcd'), ('2', 'ab'), ('3', '')]\n"
          ]
        }
      ],
      "source": [
        "def make_groups(s: str):\n",
        "    spec_stack = []\n",
        "    next_specifier = False\n",
        "    res = []\n",
        "    for ch in s:\n",
        "        if ch.isspace():\n",
        "            continue\n",
        "        if next_specifier:\n",
        "            spec_stack.append(ch)\n",
        "            next_specifier = False\n",
        "            continue\n",
        "        if ch == '<':\n",
        "            next_specifier = True\n",
        "            continue\n",
        "        if ch == '>':\n",
        "            spec_stack.pop()\n",
        "            continue\n",
        "        res.append((ch, ''.join(spec_stack)))\n",
        "    return res\n",
        "\n",
        "tests = [\n",
        "    '<a>0<b>1<c>2',\n",
        "    '0 <a 1> 2',\n",
        "    '<a 12 <b 34> <c 56> 78>',\n",
        "    '01 <r 23 <b 45 <c 6>> 78> 9',\n",
        "    '<a<b<c<d<e<f 0>>1>>2>>3'\n",
        "]\n",
        "\n",
        "for t in tests:\n",
        "    print(t, make_groups(t))"
      ]
    },
    {
      "cell_type": "code",
      "execution_count": null,
      "metadata": {
        "colab": {
          "base_uri": "https://localhost:8080/"
        },
        "id": "fONZIz3uQ30f",
        "outputId": "27f8fbde-32fc-46d6-ae61-626513fe5787"
      },
      "outputs": [
        {
          "name": "stdout",
          "output_type": "stream",
          "text": [
            "(517656, 190435)\n",
            "(3, 2)\n"
          ]
        }
      ],
      "source": [
        "def continued_fraction(fraction):\n",
        "    def whole_plus_frac(whole, num, denom):\n",
        "        return (num + whole * denom), denom\n",
        "    denom, whole = fraction[-1:-3:-1]\n",
        "    num, denom = whole_plus_frac(whole, 1, denom)\n",
        "    for w in fraction[-3::-1]:\n",
        "        num, denom = whole_plus_frac(w, denom, num)\n",
        "    return num, denom\n",
        "print(continued_fraction([2,1,2,1,1,4,1,1,6,1,1,8,1,1,10]))\n",
        "print(continued_fraction([1, 2]))"
      ]
    },
    {
      "cell_type": "code",
      "execution_count": null,
      "metadata": {
        "id": "-2frYXuVQ30g"
      },
      "outputs": [],
      "source": [
        "def create_continued_fraction(frac):\n",
        "    res = []\n",
        "    num, denom = frac\n",
        "    while num != 1:\n",
        "        res.append(num // denom)\n",
        "        num, denom = denom, (num % denom)\n",
        "    return res"
      ]
    },
    {
      "cell_type": "code",
      "execution_count": 201,
      "metadata": {},
      "outputs": [
        {
          "name": "stdout",
          "output_type": "stream",
          "text": [
            "0 -> {8, 6}\n",
            "8 -> {0, 1, 3}\n",
            "6 -> {0, 3}\n",
            "1 -> {8, 2}\n",
            "2 -> {1, 3, 9, 7}\n",
            "3 -> {8, 2, 5, 6}\n",
            "7 -> {2, 4}\n",
            "9 -> {2, 12}\n",
            "5 -> {3, 4}\n",
            "4 -> {5, 7}\n",
            "12 -> {9, 10, 11}\n",
            "10 -> {12}\n",
            "11 -> {12, 13, 14}\n",
            "13 -> {11}\n",
            "14 -> {11}\n",
            "19 -> {18}\n",
            "18 -> {19, 15}\n",
            "15 -> {16, 17, 18}\n",
            "17 -> {16, 15}\n",
            "16 -> {17, 15}\n",
            "{2}\n",
            "[4, 7, 2, 9, 12, 11]\n",
            "[]\n",
            "{2690, 613, 2219, 1294, 1619, 151}\n",
            "[1090, 2304, 1921, 2590, 3000]\n"
          ]
        }
      ],
      "source": [
        "import os\n",
        "from collections import defaultdict\n",
        "\n",
        "\n",
        "class Net(defaultdict):\n",
        "    def __init__(self, *args):\n",
        "        super().__init__(*args)\n",
        "\n",
        "    def __repr__(self):\n",
        "        return '\\n'.join(f'{n} -> {friends if friends else \"{}\"}' for n, friends in self.items())\n",
        "    \n",
        "    def common_friends(self, n1: int, n2: int) -> set[int]:\n",
        "        # A set of common friends\n",
        "        return self[n1] & self[n2]\n",
        "    \n",
        "    def best_delivery_path(self, n1: int, n2: int) -> list[int]:\n",
        "        # n1 sent a parcel to n2; the parcel can only move between friends; what is the shortest path?\n",
        "        current = n1\n",
        "        queue = []\n",
        "        back_track = {n1: None}\n",
        "        visited = set()\n",
        "\n",
        "        while current != n2:\n",
        "            if current not in visited:\n",
        "                friends = list(self[current])\n",
        "                queue.extend(friends)\n",
        "                visited.add(current)\n",
        "                for f in friends:\n",
        "                    if f not in back_track:\n",
        "                        back_track[f] = current\n",
        "            if not queue: return []\n",
        "            current = queue.pop(0)\n",
        "\n",
        "\n",
        "        path = []\n",
        "        this_ = n2\n",
        "        while this_ is not None:\n",
        "            path.append(this_)\n",
        "            this_ = back_track[this_]\n",
        "        return path[::-1]\n",
        "\n",
        "\n",
        "\n",
        "def load_net(filename) -> Net:\n",
        "    res = Net(set)\n",
        "    with open(os.path.join('files', filename)) as f:\n",
        "        for line in f.readlines():\n",
        "            n1, n2 = map(int, line.strip().split())\n",
        "            res[n1].add(n2); res[n2].add(n1)\n",
        "    return res\n",
        "\n",
        "print('test file:')\n",
        "filename = 'friends_network_large.txt'\n",
        "net = load_net(filename)\n",
        "print(net)\n",
        "print(net.common_friends(7, 9))\n",
        "print(net.best_delivery_path(4, 11))\n",
        "print(net.best_delivery_path(19, 1))\n",
        "\n",
        "print('task file')\n",
        "net_task = load_net('huge_net.txt')\n",
        "print(net_task.common_friends(1942, 374))\n",
        "print(net_task.best_delivery_path(1090, 3000))"
      ]
    },
    {
      "cell_type": "markdown",
      "metadata": {
        "id": "p8113yNkQ30g"
      },
      "source": [
        "# Code smells"
      ]
    },
    {
      "cell_type": "code",
      "execution_count": null,
      "metadata": {
        "id": "EYpvAD2fQ30g"
      },
      "outputs": [],
      "source": [
        "def triangular_number(n):\n",
        "    return sum(range(1, n+1))\n",
        "    # return n*(n+1)//2"
      ]
    },
    {
      "cell_type": "code",
      "execution_count": null,
      "metadata": {
        "id": "IPfmX4oXQ30g"
      },
      "outputs": [],
      "source": [
        "def reversed_list(a):\n",
        "    return a[::-1] # reversed(a)"
      ]
    },
    {
      "cell_type": "code",
      "execution_count": null,
      "metadata": {
        "id": "P9B_QAEAQ30g"
      },
      "outputs": [],
      "source": [
        "def maximum(a, b, c):\n",
        "    return max((a,b,c))"
      ]
    },
    {
      "cell_type": "code",
      "execution_count": null,
      "metadata": {
        "id": "zXPV3VuTQ30g"
      },
      "outputs": [],
      "source": [
        "def sorted_by_len(words):\n",
        "    return sorted(words, key=lambda x: len(x))"
      ]
    },
    {
      "cell_type": "code",
      "execution_count": null,
      "metadata": {
        "id": "_nQlxSK6Q30g"
      },
      "outputs": [],
      "source": [
        "def max_difference(a, b):\n",
        "    res = 0\n",
        "    for a_, b_ in zip(a, b):\n",
        "        res = max(res, abs(a_ - b_))\n",
        "    return res"
      ]
    },
    {
      "cell_type": "code",
      "execution_count": null,
      "metadata": {
        "id": "POlcnKrXQ30h"
      },
      "outputs": [],
      "source": [
        "from sympy.ntheory import isprime\n",
        "\n",
        "def closest_prime(n):\n",
        "    for i in range(n):\n",
        "        if isprime(n-i):\n",
        "            return n-i\n",
        "        if isprime(n+i):\n",
        "            return n+i"
      ]
    },
    {
      "cell_type": "code",
      "execution_count": null,
      "metadata": {
        "id": "HjopckH8Q30h"
      },
      "outputs": [],
      "source": [
        "def second_f(s: str) -> int:\n",
        "    n = s.count('f')\n",
        "    if n == 0:\n",
        "        return -2\n",
        "    if n == 1:\n",
        "        return -1\n",
        "    first = s.find('f')\n",
        "    return s[first+1:].find('f') + first + 1"
      ]
    },
    {
      "cell_type": "code",
      "execution_count": null,
      "metadata": {
        "id": "xnqnfjIpQ30h"
      },
      "outputs": [],
      "source": [
        "def num_of_inc_pairs(a: list) -> int:\n",
        "    n = 0\n",
        "    for e1, e2 in zip(a[:-1], a[1:]):\n",
        "        n += e1 < e2\n",
        "    return n\n",
        "    # return sum(map(lambda x: x[0] < x[1], zip(a[:-1], a[1:])))"
      ]
    },
    {
      "cell_type": "markdown",
      "metadata": {
        "id": "-G11zkNZQ30h"
      },
      "source": [
        "# Euler Project"
      ]
    },
    {
      "cell_type": "code",
      "execution_count": null,
      "metadata": {
        "colab": {
          "base_uri": "https://localhost:8080/"
        },
        "id": "Rm5Zl2kVQ30h",
        "outputId": "79057167-1f78-4491-aadd-c9c949142b5b"
      },
      "outputs": [
        {
          "name": "stdout",
          "output_type": "stream",
          "text": [
            "27000001\n"
          ]
        }
      ],
      "source": [
        "def digitsum(n: int) -> int:\n",
        "    return sum(map(int, str(n)))\n",
        "\n",
        "def all_digit_sum(n: int) -> int:\n",
        "    # bruteforce (ok for n = 10^6)\n",
        "    s = 0\n",
        "    for i in range(1, n+1):\n",
        "        s += digitsum(i)\n",
        "    return s\n",
        "\n",
        "print(all_digit_sum(1_000_000))"
      ]
    },
    {
      "cell_type": "markdown",
      "metadata": {
        "id": "aTrOL3-bQ30h"
      },
      "source": [
        "As for n = 10^9 we need to come up with a smarter solution as all_digits_sum(10**9) would run quite long (very, actually).\n",
        "\n",
        "Let us find $S =$ all_digit_sum(10^9 - 1) first.\n",
        "\n",
        "It is clear from symmetry that among all of the $N := 9 \\cdot 10^9$ digits there are exactly $N_0 := 9 \\cdot 10^8$ of zeros, $N_1 := 9 \\cdot 10^8$ of ones, etc... \n",
        "\n",
        "That is, \n",
        "$$\n",
        "N_0 = N_1 = ... = N_9 = 9\\cdot 10^8.\n",
        "$$\n",
        "\n",
        "To get the sum we simply add $N_1$ of ones, $N_2$ of twos, ..., $N_8$ of 8s and $N_9$ of 9s:\n",
        "$$\n",
        "S = N_1 \\cdot 1 + N_2 \\cdot 2 + ... + N_9 \\cdot 9 = (1 + 2 + ... + 9) \\cdot 9 \\cdot 10^8 = 45 \\cdot 9 \\cdot 10^8 = 40\\,500\\,000\\,000.\n",
        "$$\n",
        "\n",
        "Finally, \n",
        "\n",
        "        all_digit_sum(10^9) = all_digit_sum(10^9 - 1) + 1 = 40 500 000 001.\n"
      ]
    },
    {
      "cell_type": "code",
      "execution_count": null,
      "metadata": {
        "colab": {
          "base_uri": "https://localhost:8080/"
        },
        "id": "qPoR5geoQ30i",
        "outputId": "2051068e-e9fe-4a45-c585-1fbd8569e972"
      },
      "outputs": [
        {
          "data": {
            "text/plain": [
              "1074886389"
            ]
          },
          "execution_count": 4,
          "metadata": {},
          "output_type": "execute_result"
        }
      ],
      "source": [
        "def prime_palindromes():\n",
        "    from sympy.ntheory import isprime\n",
        "    def is_palindrome(n):\n",
        "        return n == int(''.join(reversed(str(n))))\n",
        "    s = 0\n",
        "    i = 1\n",
        "    cnt = 0\n",
        "    while cnt < 500:\n",
        "        i += 1\n",
        "        if is_palindrome(i) and isprime(i):\n",
        "            s += i\n",
        "            cnt += 1\n",
        "    return s\n",
        "\n",
        "prime_palindromes()"
      ]
    },
    {
      "cell_type": "code",
      "execution_count": null,
      "metadata": {
        "id": "dJkPBCUiQ30i"
      },
      "outputs": [],
      "source": [
        "from sympy.ntheory import isprime\n",
        "\n",
        "def prime_gaps_v1():\n",
        "    N = 10_000_000\n",
        "    prev_prime = 2\n",
        "    max_gap = 0\n",
        "    for i in range(3, N):\n",
        "        if isprime(i):\n",
        "            if (i - prev_prime) > max_gap:\n",
        "                max_gap = i - prev_prime\n",
        "                info = (prev_prime, i)\n",
        "            prev_prime = i\n",
        "    return max_gap\n",
        "\n",
        "def prime_gen():\n",
        "    i = 2\n",
        "    while True:\n",
        "        if isprime(i):\n",
        "            yield i\n",
        "        i += 1\n",
        "\n",
        "def prime_gaps_v2():\n",
        "    N = 10_000_000\n",
        "    p_gen = prime_gen()\n",
        "    max_gap = 0\n",
        "    prev_prime = next(p_gen)\n",
        "    this_prime = prev_prime\n",
        "    while this_prime < N:\n",
        "        this_prime = next(p_gen)\n",
        "        max_gap = max(max_gap, this_prime - prev_prime)\n",
        "        prev_prime = this_prime\n",
        "    return max_gap\n"
      ]
    },
    {
      "cell_type": "code",
      "execution_count": 10,
      "metadata": {
        "colab": {
          "base_uri": "https://localhost:8080/"
        },
        "id": "e5N7obDQTcg_",
        "outputId": "d5efb437-262e-4afe-98fd-f070e6be5df6"
      },
      "outputs": [
        {
          "name": "stdout",
          "output_type": "stream",
          "text": [
            "398\n"
          ]
        }
      ],
      "source": [
        "def is_prime(n: int) -> bool:\n",
        "    if n == 2 or n == 3: return True\n",
        "    if n % 2 == 0 or n < 2: return False\n",
        "    for i in range(3, int(n**0.5) + 1, 2):\n",
        "        if n % i == 0:\n",
        "            return False    \n",
        "    return True\n",
        "\n",
        "def num_of_primes(a: int) -> int:\n",
        "    return len([n for n in range(100) if is_prime(a*n**2-1)])\n",
        "\n",
        "def find_first_best_a():\n",
        "    a = 1\n",
        "    while True:\n",
        "        if num_of_primes(a) > 50:\n",
        "            return a\n",
        "        a += 1\n",
        "\n",
        "print(find_first_best_a())"
      ]
    },
    {
      "cell_type": "code",
      "execution_count": null,
      "metadata": {
        "colab": {
          "base_uri": "https://localhost:8080/"
        },
        "id": "1yH-aUtSSd1a",
        "outputId": "51c80f86-2478-40cd-abd6-3d031d81c81a"
      },
      "outputs": [
        {
          "data": {
            "text/plain": [
              "561329"
            ]
          },
          "execution_count": 58,
          "metadata": {},
          "output_type": "execute_result"
        }
      ],
      "source": [
        "from sympy.ntheory import isprime\n",
        "\n",
        "def prime_chain_len(n: int) -> bool:\n",
        "    a = 2*n + 1\n",
        "    len_ = 0\n",
        "    elements = []\n",
        "    while isprime(a):\n",
        "        elements.append(a)\n",
        "        len_ += 1\n",
        "        a = 2*a + 1\n",
        "    return elements\n",
        "\n",
        "def smallest_a0_for_len(len_):\n",
        "    n = 1\n",
        "    while True:\n",
        "        els = prime_chain_len(n)\n",
        "        if len(els) == len_:\n",
        "            break\n",
        "        n += 1\n",
        "    return n\n",
        "\n",
        "smallest_a0_for_len(7)"
      ]
    },
    {
      "cell_type": "code",
      "execution_count": null,
      "metadata": {
        "colab": {
          "base_uri": "https://localhost:8080/"
        },
        "id": "xIrgCmbYQ30i",
        "outputId": "cf3eedd4-e16a-4933-a420-b92ead94efea"
      },
      "outputs": [
        {
          "name": "stdout",
          "output_type": "stream",
          "text": [
            "117\n",
            "318320\n"
          ]
        }
      ],
      "source": [
        "from math import gcd\n",
        "\n",
        "def get_triple(m, n):\n",
        "    a = m**2 - n**2\n",
        "    b = 2*m*n\n",
        "    return (min(a,b), max(a,b), m**2 + n**2)\n",
        "\n",
        "def pythagorean_triples(hyp_max: int):\n",
        "    triples = []\n",
        "    for m in range(1, int((hyp_max)**.5)+1):\n",
        "        for n in range(1, m):\n",
        "            if gcd(m, n) == 1 and (m % 2 == 0 or n % 2 == 0):\n",
        "                a,b,c = get_triple(m,n)\n",
        "                if c < hyp_max:\n",
        "                    triples.append((a,b,c))\n",
        "    # triples.sort(key=lambda x: x[2])\n",
        "    # print(triples)\n",
        "    return len(triples)\n",
        "\n",
        "def pythagorean_triples_gen():\n",
        "    m = 1\n",
        "    while True:\n",
        "        for n in range(1, m):\n",
        "            if gcd(m, n) == 1 and (m % 2 == 0 or n % 2 == 0):\n",
        "                yield get_triple(m,n)\n",
        "        m += 1\n",
        "\n",
        "print(pythagorean_triples(745))\n",
        "print(pythagorean_triples(2000000))\n"
      ]
    },
    {
      "cell_type": "code",
      "execution_count": 5,
      "metadata": {
        "colab": {
          "base_uri": "https://localhost:8080/"
        },
        "id": "AXa3WTAXz_Wg",
        "outputId": "f8369796-8729-4841-f682-0b1e3845f0bf"
      },
      "outputs": [
        {
          "name": "stdout",
          "output_type": "stream",
          "text": [
            "27.78 2417\n",
            "1000 3141549\n",
            "876543 2413772436817\n",
            "1000000 3141592649625\n"
          ]
        }
      ],
      "source": [
        "import math\n",
        "from sympy.ntheory import factorint\n",
        "\n",
        "def r_2_v1(n):\n",
        "    # number of ways to write n as a sum of two squares\n",
        "    if n == 0: return 1\n",
        "    if n == 1: return 4\n",
        "    sqrtn = math.sqrt(n)\n",
        "    res = 0\n",
        "    for x in range(0, math.ceil(sqrtn) + 1):\n",
        "        for y in range(1, math.ceil(sqrtn) + 1):\n",
        "            if x**2 + y**2 == n:\n",
        "                res += 1\n",
        "    return 4*res\n",
        "\n",
        "def lattice_points_v1(radius: float):\n",
        "    res = 0\n",
        "    for x in range(0, math.ceil(radius) + 1):\n",
        "        for y in range(1, math.ceil(radius) + 1):\n",
        "            if x**2 + y**2 <= radius**2:\n",
        "                res += 1\n",
        "    return 4 * res + 1\n",
        "\n",
        "\n",
        "def r_2_v2(n):\n",
        "    if n == 0: return 1\n",
        "    fzn = factorint(n) # factorization\n",
        "    res = 1\n",
        "    for prime, power in fzn.items():\n",
        "        if prime == 2:\n",
        "            continue\n",
        "        if prime % 4 == 1:\n",
        "            res *= power + 1\n",
        "        else:\n",
        "            if power % 2 != 0:\n",
        "                return 0\n",
        "    return 4 * res\n",
        "\n",
        "def lattice_points_v2(radius: int):\n",
        "    return sum(r_2_v2(i) for i in range(radius**2 + 1))\n",
        "\n",
        "def lattice_points_v3(radius: int):\n",
        "    # walking along the height and counting points between circumference and x = 0\n",
        "    def points_on_given_height(y):\n",
        "        x = math.sqrt(radius**2 - y**2)\n",
        "        x_l = math.floor(x)\n",
        "        x_c = round(x)\n",
        "        return x_c if y**2 + x_c**2 <= radius**2 else x_l\n",
        "    res = 0\n",
        "    for y in range(math.floor(radius) + 1):\n",
        "        res += points_on_given_height(y)\n",
        "    return 4 * res + 1\n",
        "\n",
        "tests = [27.78, 1000, 876543, 1000000]\n",
        "for t in tests:\n",
        "    print(t, lattice_points_v3(t))"
      ]
    },
    {
      "cell_type": "markdown",
      "metadata": {},
      "source": [
        "# Leetcode"
      ]
    },
    {
      "cell_type": "code",
      "execution_count": null,
      "metadata": {},
      "outputs": [],
      "source": [
        "def two_sum(nums: list[int], target: int) -> list[int]:\n",
        "    ids_map = {el: i for i, el in enumerate(nums)}\n",
        "    for i, el in enumerate(nums):\n",
        "        j = ids_map.get(target-el)\n",
        "        if j is not None and i != j:\n",
        "            return [i, j]"
      ]
    },
    {
      "cell_type": "code",
      "execution_count": null,
      "metadata": {},
      "outputs": [],
      "source": [
        "from collections import Counter\n",
        "\n",
        "def numIdenticalPairs(nums: list[int]) -> int:\n",
        "    cnt = Counter(nums)\n",
        "    res = 0\n",
        "    for _, amount in cnt.items():\n",
        "        if amount > 1:\n",
        "            res += amount * (amount - 1) // 2\n",
        "    return res"
      ]
    },
    {
      "cell_type": "code",
      "execution_count": null,
      "metadata": {},
      "outputs": [],
      "source": [
        "from collections import Counter\n",
        "from string import ascii_lowercase\n",
        "\n",
        "def checkIfPangram(sentence: str) -> bool:\n",
        "    \"\"\"\n",
        "    :type sentence: str\n",
        "    :rtype: bool\n",
        "    \"\"\"\n",
        "    if len(sentence) < 26: return False\n",
        "    cnt = Counter(sentence)\n",
        "    return all(map(cnt.get, ascii_lowercase))"
      ]
    },
    {
      "cell_type": "code",
      "execution_count": 9,
      "metadata": {},
      "outputs": [],
      "source": [
        "row1 = set('qwertyuiop')\n",
        "row2 = set('asdfghjkl')\n",
        "row3 = set('zxcvbnm')\n",
        "\n",
        "def keyboard_row(words: list[str]) -> list[str]:\n",
        "    res = []\n",
        "    for w in words:\n",
        "        if not ((set(w.lower()) - row1) and (set(w.lower()) - row2) and (set(w.lower()) - row3)):\n",
        "            res.append(w)\n",
        "    return res"
      ]
    },
    {
      "cell_type": "code",
      "execution_count": 10,
      "metadata": {},
      "outputs": [],
      "source": [
        "from collections import Counter\n",
        "\n",
        "def sumOfUnique(nums):\n",
        "    cnt = Counter(nums)\n",
        "    return sum(el for el, amount in cnt.items() if amount == 1)"
      ]
    },
    {
      "cell_type": "code",
      "execution_count": null,
      "metadata": {},
      "outputs": [],
      "source": [
        "def checkIfExist(arr: list[int]):\n",
        "    \"\"\"\n",
        "    :type arr: List[int]\n",
        "    :rtype: bool\n",
        "    \"\"\"\n",
        "    arr_set = set(arr)\n",
        "    num_zeros = arr.count(0)\n",
        "    if num_zeros > 1: return True\n",
        "    for el in arr:\n",
        "        if el and 2 * el in arr_set:\n",
        "            return True\n",
        "    return False"
      ]
    },
    {
      "cell_type": "code",
      "execution_count": null,
      "metadata": {},
      "outputs": [],
      "source": []
    },
    {
      "cell_type": "markdown",
      "metadata": {
        "id": "lFBm9k5wxy40"
      },
      "source": [
        "# Files"
      ]
    },
    {
      "cell_type": "code",
      "execution_count": null,
      "metadata": {
        "id": "PKtsFhu9KuXd"
      },
      "outputs": [],
      "source": []
    },
    {
      "cell_type": "code",
      "execution_count": null,
      "metadata": {
        "id": "bSmDuTELQ30i"
      },
      "outputs": [],
      "source": [
        "def students():\n",
        "    with open('files/students.txt', 'r') as f:\n",
        "        entries = map(str.split, map(str.strip, f.readlines()))\n",
        "    res = []\n",
        "    for e in entries:\n",
        "        avg = sum(map(int, e[1:]))/3\n",
        "        if avg > 85:\n",
        "            res.append([e[0], avg])\n",
        "    res.sort(key=lambda x: x[1], reverse=True)\n",
        "    with open('files/students_accepted.txt', 'w') as f:\n",
        "        for name, avg_score in res:\n",
        "            f.write(f'{name}\\t{avg_score:.3f}\\n')"
      ]
    },
    {
      "cell_type": "code",
      "execution_count": null,
      "metadata": {
        "id": "4fn4lOQkQ30i"
      },
      "outputs": [],
      "source": [
        "def find_kt_vowels() -> int:\n",
        "    import re\n",
        "    pattern = re.compile(r'[kt][aeiou]')\n",
        "    with open('files/symbols.txt', 'r') as fr:\n",
        "        s = fr.read()\n",
        "    return len(pattern.findall(s))"
      ]
    },
    {
      "cell_type": "code",
      "execution_count": 3,
      "metadata": {
        "id": "UIcYCtvUQ30j"
      },
      "outputs": [],
      "source": [
        "def robot() -> tuple[int, int]:\n",
        "    with open('files/commands.txt') as f:\n",
        "        x0, y0 = map(int, f.readline().split())\n",
        "        cmds = f.readline().split()\n",
        "    for cmd in cmds:\n",
        "        if cmd[0] == 'l':\n",
        "            x0 -= int(cmd[1:])\n",
        "        elif cmd[0] == 'r':\n",
        "            x0 += int(cmd[1:])\n",
        "        elif cmd[0] == 'd':\n",
        "            y0 -= int(cmd[1:])\n",
        "        elif cmd[0] == 'u':\n",
        "            y0 += int(cmd[1:])\n",
        "    return x0, y0"
      ]
    },
    {
      "cell_type": "code",
      "execution_count": 4,
      "metadata": {},
      "outputs": [
        {
          "data": {
            "text/plain": [
              "(97022, -47114)"
            ]
          },
          "execution_count": 4,
          "metadata": {},
          "output_type": "execute_result"
        }
      ],
      "source": [
        "robot()"
      ]
    },
    {
      "cell_type": "code",
      "execution_count": null,
      "metadata": {
        "id": "_IjbtpORx1G_"
      },
      "outputs": [],
      "source": [
        "def is_prime(n):\n",
        "    if n==2 or n==3: return True\n",
        "    if n%2==0 or n<2: return False\n",
        "    for i in range(3, int(n**0.5)+1, 2):\n",
        "        if n%i==0:\n",
        "            return False    \n",
        "    return True\n",
        "\n",
        "def primes():\n",
        "  n = 2\n",
        "  while True:\n",
        "    if is_prime(n):\n",
        "      yield n\n",
        "    n += 1\n",
        "\n",
        "def factorize(n):\n",
        "  pr = primes()\n",
        "  res = dict()\n",
        "  while n > 1:\n",
        "    p = next(pr)\n",
        "    power = 0\n",
        "    while n % p == 0:\n",
        "      n //= p\n",
        "      power += 1\n",
        "    if power:\n",
        "      res[p] = power\n",
        "  return res"
      ]
    },
    {
      "cell_type": "code",
      "execution_count": 12,
      "metadata": {
        "id": "JgcwrUW6Q30j"
      },
      "outputs": [
        {
          "data": {
            "image/png": "[encoded data removed]",
            "text/plain": [
              "<Figure size 640x480 with 1 Axes>"
            ]
          },
          "metadata": {},
          "output_type": "display_data"
        }
      ],
      "source": [
        "from collections import defaultdict\n",
        "import os\n",
        "\n",
        "\n",
        "def load_tosses() -> list[int]:\n",
        "    FOLDER_NAME = 'files'; FILENAME = 'tosses.txt'\n",
        "    # --- YOUR CODE HERE ---\n",
        "    with open(os.path.join(FOLDER_NAME, FILENAME)) as f:\n",
        "        return list(map(int, f.read().split()))\n",
        "    # --- END OF YOUR CODE ---\n",
        "\n",
        "\n",
        "def count_streaks(tosses: list[int]) -> dict[int, int]:\n",
        "    '''\n",
        "    Counts the number of streaks (same consecutive numbers) and return a dictionary length: number_of_streaks\n",
        "    '''\n",
        "    res = defaultdict(int)\n",
        "    current_streak = 1\n",
        "    prev_el = tosses[0]\n",
        "    for el in tosses[1:]:\n",
        "        if el != prev_el:\n",
        "            res[current_streak] += 1\n",
        "            current_streak = 1\n",
        "        else:\n",
        "            current_streak += 1\n",
        "        prev_el = el\n",
        "    res[current_streak] += 1\n",
        "    return dict(res)\n",
        "\n",
        "def _plot(res: dict[int, int]):\n",
        "    from matplotlib import pyplot as plt\n",
        "    import numpy as np\n",
        "    n, S_n = zip(*sorted(res.items(), key=lambda x: x[0]))\n",
        "    n_arr = np.array(n)\n",
        "    S_n_arr = np.array(S_n)\n",
        "    S_n_arr_log = np.log(S_n_arr)\n",
        "    k, b = np.polyfit(n_arr, S_n_arr_log, deg=1)\n",
        "    S_n_arr_fit = np.exp(b + k*n_arr)\n",
        "    plt.plot(n_arr, S_n_arr, '.:')\n",
        "    plt.plot(n_arr, S_n_arr_fit)\n",
        "    plt.yscale('log')\n",
        "    plt.xticks(n_arr)\n",
        "    plt.grid()\n",
        "    plt.show()\n",
        "\n",
        "tosses = load_tosses()\n",
        "res = count_streaks(tosses)\n",
        "_plot(res)"
      ]
    },
    {
      "cell_type": "code",
      "execution_count": null,
      "metadata": {
        "id": "tNCjptVKQ30j"
      },
      "outputs": [],
      "source": [
        "class PiSearcher:\n",
        "    def __init__(self):\n",
        "        with open('files/pi.txt', 'r') as f:\n",
        "            self.pi = f.read()\n",
        "\n",
        "    def search(self, substring) -> int:\n",
        "        return self.pi.find(substring)\n",
        "\n",
        "searcher = PiSearcher()\n",
        "searcher.search('646')\n",
        "searcher.search('123')\n",
        "searcher.search('34')\n",
        "searcher.search('9753')"
      ]
    },
    {
      "cell_type": "code",
      "execution_count": null,
      "metadata": {
        "colab": {
          "base_uri": "https://localhost:8080/"
        },
        "id": "ZywAiEdtQ30k",
        "outputId": "fe5f7b0f-6b7b-4391-b463-c330b41a2040"
      },
      "outputs": [
        {
          "data": {
            "text/plain": [
              "{'l': 618,\n",
              " 'o': 449,\n",
              " 'r': 569,\n",
              " 'e': 1194,\n",
              " 'm': 550,\n",
              " 'i': 1109,\n",
              " 'p': 250,\n",
              " 's': 932,\n",
              " 'u': 990,\n",
              " 'd': 313,\n",
              " 't': 890,\n",
              " 'a': 889,\n",
              " 'c': 465,\n",
              " 'n': 650,\n",
              " 'g': 148,\n",
              " 'q': 145,\n",
              " 'f': 118,\n",
              " 'v': 180,\n",
              " 'b': 121,\n",
              " 'x': 26,\n",
              " 'h': 63,\n",
              " 'j': 11}"
            ]
          },
          "execution_count": 2,
          "metadata": {},
          "output_type": "execute_result"
        }
      ],
      "source": [
        "def lorem_ipsum():\n",
        "    from collections import Counter\n",
        "    alph_set = set('abcdefghijklmnopqrstuvwxyz')\n",
        "    with open('files/lorem.txt', 'r') as f:\n",
        "        s = f.read()\n",
        "    c = Counter(s.lower())\n",
        "    c_new = dict()\n",
        "    for key, val in c.items():\n",
        "        if key in alph_set:\n",
        "            c_new[key] = val\n",
        "    return c_new\n",
        "lorem_ipsum()"
      ]
    },
    {
      "cell_type": "code",
      "execution_count": null,
      "metadata": {
        "id": "8OWcm0yBQ30k"
      },
      "outputs": [],
      "source": [
        "def triangle_sides() -> tuple[int, int]:\n",
        "    with open('files/triangle_sides.txt') as f:\n",
        "        a = [int(el.strip()) for el in f.readlines()]\n",
        "    quantity = 0\n",
        "    for sides in zip(a[:-2], a[1:-1], a[2:]):\n",
        "        a, b, c = sorted(sides)\n",
        "        if a**2 + b**2 > c**2:\n",
        "            quantity += 1\n",
        "    return quantity\n"
      ]
    },
    {
      "cell_type": "code",
      "execution_count": null,
      "metadata": {
        "id": "61UI34joQ30k"
      },
      "outputs": [],
      "source": [
        "def maximum_duo_bruteforce():\n",
        "    import numpy as np\n",
        "    s1, s2 = np.loadtxt('files/signals.txt').astype(int).T\n",
        "    max_ = -1\n",
        "    for el1 in s1:\n",
        "        for el2 in s2:\n",
        "            if el1 * el2 % 14 == 0:\n",
        "                max_ = max(max_, el1 * el2)\n",
        "    return max_\n",
        "\n",
        "def maximum_duo():\n",
        "    import numpy as np\n",
        "    s1, s2 = np.loadtxt('files/signals.txt').astype(int).T\n",
        "    max_7 = [-1, -1]; max_2 = [-1, -1]; max_14 = [-1, -1]; max_ = [-1, -1]\n",
        "    for el in zip(s1, s2):\n",
        "        for i in range(2):\n",
        "            if el[i] % 7 == 0 and el[i] > max_7[i]:\n",
        "                max_7[i] = el[i]\n",
        "            if el[i] % 2 == 0 and el[i] > max_2[i]:\n",
        "                max_2[i] = el[i]\n",
        "            if el[i] % 14 == 0 and el[i] > max_14[i]:\n",
        "                max_14[i] = el[i]\n",
        "            max_[i] = max(el[i], max_[i])\n",
        "    return max(max_7[0]*max_2[1], max_7[1]*max_2[0], max_14[0]*max_[1], max_14[1]*max_[0])\n",
        "\n",
        "maximum_duo()"
      ]
    },
    {
      "cell_type": "code",
      "execution_count": 20,
      "metadata": {},
      "outputs": [],
      "source": [
        "# SKELETON SOLUTION: minecraft stats (json json json 1)\n",
        "import json, os\n",
        "\n",
        "def read_json() -> dict:\n",
        "    '''\n",
        "    Reads the .json file and returns a dict object\n",
        "    '''\n",
        "    FOLDER_NAME = 'files'; FILENAME = 'minecraft_stats.json'\n",
        "    with open(os.path.join(FOLDER_NAME, FILENAME)) as f:\n",
        "        data = json.load(f)\n",
        "    return data['stats']\n",
        "\n",
        "def remove_minecraft_colon(data: dict) -> dict:\n",
        "    res = {}\n",
        "    for k, v in data.items():\n",
        "        new_k = k.replace('minecraft:', '')\n",
        "        if isinstance(v, dict):\n",
        "            res[new_k] = remove_minecraft_colon(v)\n",
        "        else:\n",
        "            res[new_k] = v\n",
        "    return res\n",
        "\n",
        "def min_max_stats(this_stats_data: dict) -> tuple[tuple[str, int], tuple[str, int]]:\n",
        "    items = this_stats_data.items()\n",
        "    return min(items, key=lambda x: x[1]), max(items, key=lambda x: x[1])\n",
        "\n",
        "def display_stats(data: dict):\n",
        "    for k, stats in data.items():\n",
        "        if k == 'custom':\n",
        "            continue\n",
        "        min_, max_ = min_max_stats(stats)\n",
        "        if min_[0] == max_[0]:\n",
        "            continue\n",
        "        print(f'{min_[0]} {k}: {min_[1]}; {max_[0]} {k}: {max_[1]}')"
      ]
    },
    {
      "cell_type": "code",
      "execution_count": 21,
      "metadata": {},
      "outputs": [
        {
          "name": "stdout",
          "output_type": "stream",
          "text": [
            "iron_axe picked_up: 1; cobblestone picked_up: 557\n",
            "enchanting_table used: 1; cobblestone used: 362\n",
            "red_carpet mined: 1; netherrack mined: 314\n",
            "ender_pearl dropped: 1; glass_bottle dropped: 31\n",
            "air crafted: 0; wheat crafted: 920\n",
            "fox killed: 1; zombie killed: 50\n"
          ]
        }
      ],
      "source": [
        "data = read_json()\n",
        "data = remove_minecraft_colon(data)\n",
        "display_stats(data)"
      ]
    },
    {
      "cell_type": "code",
      "execution_count": 26,
      "metadata": {
        "id": "Vopl7mwiQ30l",
        "outputId": "2b14b1a1-3384-4b4a-fca6-43e68becd81b"
      },
      "outputs": [
        {
          "name": "stdout",
          "output_type": "stream",
          "text": [
            "best player: Aldric with 67.273% winrate\n",
            "most matches Arrington 149\n",
            "least matches Tauna 70\n",
            "monicas_perf: 63 wins and 55 losses\n",
            "defeaters: Shalayne, Kindel, Antonieta, Tong, Robina, Ladana, Daria, Annell, Lakina, Dinah, Viki, Laterrance, Karenann, Roselynn, Elis, Aide, Eboni, Jenean, Ladarian, Rome, Yedidya, Peter, Darik, Malcom, Adonica, Mallerie, Farris, Arek, Marquay, Zeina, Erving, Jerrett, Nour, Jasan, Hendy, Corey, Sherisse, Jonnell, Tyffany, Dylon, Shanicka, Latria, Rosalynn, Melandie, Melondy, Kemberly, Magin, Durell, Johnnell, Aysia, Jazzmen, Torris, Hellen, Ruth, Cephas\n"
          ]
        }
      ],
      "source": [
        "import os\n",
        "from collections import defaultdict\n",
        "\n",
        "Matches = list[tuple[str, str]]\n",
        "PlayerMap = dict[str, str]\n",
        "VicDefStatsDict = dict[str, list[int]]\n",
        "VicDefStatsList = list[tuple[str, list[int]]]\n",
        "\n",
        "def load_map() -> PlayerMap:\n",
        "    FOLDER_NAME = 'files'; FILE_NAME = 'participants_map.txt'\n",
        "    with open(os.path.join(FOLDER_NAME, FILE_NAME)) as f:\n",
        "        return dict(map(str.split, f.readlines()))\n",
        "\n",
        "def load_matches() -> Matches:\n",
        "    FOLDER_NAME = 'files'; FILE_NAME = 'games.txt'\n",
        "    with open(os.path.join(FOLDER_NAME, FILE_NAME)) as f:\n",
        "        return list(map(str.split, f.readlines()))\n",
        "\n",
        "def count_victories_defeats(matches: Matches) -> VicDefStatsDict:\n",
        "    victories_defeats = defaultdict(lambda: [0, 0]) # [victories, defeats]\n",
        "    for player1, player2 in matches:\n",
        "        victories_defeats[player1][0] += 1\n",
        "        victories_defeats[player2][1] += 1\n",
        "    return victories_defeats\n",
        "\n",
        "def convert_to_vic_def_list(vic_def_dict: VicDefStatsDict) -> VicDefStatsList:\n",
        "    return list(vic_def_dict.items())\n",
        "\n",
        "def best_win_rate(vic_def: VicDefStatsList, player_map: PlayerMap) -> tuple[str, float]:\n",
        "    vic_def.sort(key=lambda x: x[1][0]/sum(x[1]), reverse=True)\n",
        "    player_hash, wins_defeats = vic_def[0]\n",
        "    return player_map[player_hash], wins_defeats[0]/sum(wins_defeats)\n",
        "\n",
        "def most_and_least_matches(vic_def: VicDefStatsList, player_map: PlayerMap):\n",
        "    vic_def.sort(key=lambda x: sum(x[1]))\n",
        "    player_hash_most, wins_defeats_most = vic_def[-1]\n",
        "    player_hash_least, wins_defeats_least = vic_def[0]\n",
        "    return (player_map[player_hash_most], sum(wins_defeats_most)), (player_map[player_hash_least], sum(wins_defeats_least))\n",
        "\n",
        "def get_monicas_hash(player_map: PlayerMap) -> str:\n",
        "    # Monica\n",
        "    for hash_, name in player_map.items():\n",
        "        if name == 'Monica':\n",
        "            return hash_\n",
        "\n",
        "def get_monicas_performance(monicas_hash: str, vic_def_dict: VicDefStatsDict) -> tuple[int, int]:\n",
        "    return tuple(vic_def_dict[monicas_hash])\n",
        "\n",
        "def get_monicas_defeaters(monicas_hash: str, matches: Matches, player_map: PlayerMap) -> list[str]:\n",
        "    return [player_map[player1] for player1, player2 in matches if player2 == monicas_hash]\n",
        "\n",
        "player_map = load_map()\n",
        "matches = load_matches()\n",
        "vic_def_dict = count_victories_defeats(matches)\n",
        "vic_def_list = convert_to_vic_def_list(vic_def_dict)\n",
        "best = best_win_rate(vic_def_list, player_map)\n",
        "most, least = most_and_least_matches(vic_def_list, player_map)\n",
        "print(f'best player: {best[0]} with {best[1]:.3%} winrate')\n",
        "print('most matches', *most)\n",
        "print('least matches', *least)\n",
        "monicas_hash = get_monicas_hash(player_map)\n",
        "monicas_perf = get_monicas_performance(monicas_hash, vic_def_dict)\n",
        "monicas_defeaters = get_monicas_defeaters(monicas_hash, matches, player_map)\n",
        "print('monicas_perf: %d wins and %d losses' % monicas_perf)\n",
        "print('defeaters:', ', '.join(monicas_defeaters))"
      ]
    },
    {
      "cell_type": "code",
      "execution_count": null,
      "metadata": {
        "id": "lNd2bwViugaz"
      },
      "outputs": [],
      "source": [
        "import shutil\n",
        "from datetime import datetime\n",
        "\n",
        "def messy_experiments():\n",
        "    OUTPUT_DIR = 'solution'\n",
        "    FROM_DIR = 'rawdata'\n",
        "\n",
        "    os.mkdir(OUTPUT_DIR)\n",
        "\n",
        "    all_filenames = os.listdir(FROM_DIR)\n",
        "    exp_filenames = [el for el in all_filenames if el.endswith('.exp')]\n",
        "    info_filenames = [el for el in all_filenames if el.endswith('.info')]\n",
        "    junk_filenames = [el for el in all_filenames if not (el.endswith('info') or el.endswith('.exp'))]\n",
        "\n",
        "    os.mkdir(os.path.join(OUTPUT_DIR, 'junk'))\n",
        "\n",
        "    for junk_file in junk_filenames:\n",
        "        shutil.copy(\n",
        "            os.path.join(FROM_DIR, junk_file),\n",
        "            os.path.join(OUTPUT_DIR, 'junk')\n",
        "        )\n",
        "\n",
        "    info_dict = dict()\n",
        "    num_name_not_spec = 0\n",
        "    for info_file in info_filenames:\n",
        "        tmp = dict()\n",
        "        with open(os.path.join(FROM_DIR, info_file)) as fr:\n",
        "            for line in fr.readlines():\n",
        "                key, val = line.strip().split(': ')\n",
        "                tmp[key] = val\n",
        "        this_name = tmp.get('name', None)\n",
        "        if this_name is None:\n",
        "            this_name = f'notspec_{num_name_not_spec}'\n",
        "            num_name_not_spec += 1\n",
        "        info_dict[tmp['id']] = {\n",
        "            'date_ts': int(tmp['date_ts']),\n",
        "            'success': tmp['success'] == 'true',\n",
        "            'name': this_name\n",
        "        }\n",
        "\n",
        "    exp_dict = dict()\n",
        "    for exp_file in exp_filenames:\n",
        "        with open(os.path.join(FROM_DIR, exp_file)) as fr:\n",
        "            lines = fr.readlines()\n",
        "            id_ = lines[0].strip().split(': ')[1]\n",
        "            exp_dict[id_] = lines[2:]\n",
        "    \n",
        "    SUCC = os.path.join(OUTPUT_DIR, 'successful')\n",
        "    UNSUCC = os.path.join(OUTPUT_DIR, 'unsuccessful')\n",
        "    os.mkdir(SUCC)\n",
        "    os.mkdir(UNSUCC)\n",
        "\n",
        "    for key in exp_dict.keys():\n",
        "        this_info = info_dict[key]\n",
        "        this_exp = exp_dict[key]\n",
        "        save_to = SUCC if this_info['success'] else UNSUCC\n",
        "        with open(os.path.join(save_to, this_info['name']+'.exp'), 'w') as fw:\n",
        "            print(f'id: {key}', file=fw)\n",
        "            print(f'date: {datetime.fromtimestamp(this_info[\"date_ts\"])}', file=fw)\n",
        "            print(f'success: {\"true\" if this_info[\"success\"] else \"false\"}', file=fw)\n",
        "            print(file=fw)\n",
        "            for line in this_exp:\n",
        "                print(line, end='', file=fw)\n",
        "\n",
        "    \n"
      ]
    },
    {
      "cell_type": "code",
      "execution_count": 59,
      "metadata": {},
      "outputs": [
        {
          "name": "stdout",
          "output_type": "stream",
          "text": [
            "first recording location: (55.756979, 37.683236)\n",
            "closest to (55.7557, 37.6419) is (2023-04-22 05:12:43.500000) 21.9C at lat=55.755936 lon=37.643064\n"
          ]
        }
      ],
      "source": [
        "import pickle\n",
        "import os\n",
        "import math\n",
        "\n",
        "\n",
        "from datetime import datetime\n",
        "from dataclasses import dataclass\n",
        "\n",
        "\n",
        "@dataclass\n",
        "class SensorData:\n",
        "    '''\n",
        "    time_stamp: Unix timestamp\n",
        "    temperature: local air temperature in Celsius\n",
        "    location: location as (latitude, longitude)\n",
        "    '''\n",
        "    time_stamp: float\n",
        "    temperature: float\n",
        "    location: tuple[float, float]\n",
        "    \n",
        "    def __lt__(self, other: 'SensorData') -> bool:\n",
        "        return self.time_stamp < other.time_stamp\n",
        "\n",
        "    def __str__(self) -> str:\n",
        "        return f'({datetime.fromtimestamp(self.time_stamp)}) {self.temperature:.1f}C at lat={self.location[0]} lon={self.location[1]}'\n",
        "\n",
        "SensorDataList = list[SensorData]\n",
        "\n",
        "def load_all_sensor_data():\n",
        "    FOLDER_NAME = 'files'; FILE_NAME = 'pickle_data.pickle'\n",
        "    with open(os.path.join(FOLDER_NAME, FILE_NAME), 'rb') as f:\n",
        "        return pickle.load(f)\n",
        "\n",
        "def sort_by_time(sensor_data_list: SensorDataList):\n",
        "    sensor_data_list.sort()\n",
        "\n",
        "def coordinates_of_first_recording(sensor_data_list: SensorDataList) -> tuple[float, float]:\n",
        "    return sensor_data_list[0].location\n",
        "    \n",
        "def get_filtered_temperatures(sensor_data_list: SensorDataList) -> SensorDataList:\n",
        "    return list(filter(lambda sd: 20.0 < sd.temperature < 25.0, sensor_data_list))\n",
        "\n",
        "def distance(loc1: tuple[float, float], loc2: tuple[float, float]) -> float:\n",
        "    return math.sqrt((loc1[0] - loc2[0])**2 + (loc1[1] - loc2[1])**2)\n",
        "\n",
        "def find_closest_sd(location: tuple[float, float], sensor_data_list: SensorDataList) -> SensorData:\n",
        "    return min(sensor_data_list, \n",
        "               key=lambda sd: distance(sd.location, location))\n",
        "\n",
        "def save_sensor_data(sensor_data_list: SensorDataList):\n",
        "    SAVE_TO = 'sorted_sd.wtf'\n",
        "    # --- YOUR CODE HERE ---\n",
        "    with open(SAVE_TO, 'wb') as f:\n",
        "        pickle.dump(sensor_data_list, f)\n",
        "    # --- END OF YOUR CODE ---\n",
        "\n",
        "\n",
        "# sd_list = load_all_sensor_data()\n",
        "# sort_by_time(sd_list)\n",
        "# first_rec_location = coordinates_of_first_recording(sd_list)\n",
        "# print('first recording location:', first_rec_location)\n",
        "# sd_list_filtered = get_filtered_temperatures(sd_list)\n",
        "# LOC = (55.7557, 37.6419)\n",
        "# closest_sd = find_closest_sd(location=LOC, sensor_data_list=sd_list_filtered)\n",
        "# print(f'closest to {LOC} is {closest_sd}')\n",
        "# save_sensor_data(sd_list_filtered)"
      ]
    },
    {
      "cell_type": "markdown",
      "metadata": {
        "id": "yAIcwgSAQ30l"
      },
      "source": [
        "# Рекурсия"
      ]
    },
    {
      "cell_type": "code",
      "execution_count": null,
      "metadata": {
        "id": "bYEDoFxrQ30l"
      },
      "outputs": [],
      "source": [
        "def factorial(n: int) -> int:\n",
        "    if n == 0 or n == 1:\n",
        "        return 1\n",
        "    return n * factorial(n-1)"
      ]
    },
    {
      "cell_type": "code",
      "execution_count": null,
      "metadata": {
        "id": "8p-DI01SQ30l"
      },
      "outputs": [],
      "source": [
        "def digit_sum(n: int) -> int:\n",
        "    if n < 10:\n",
        "        return n\n",
        "    return n % 10 + digit_sum(n // 10)"
      ]
    },
    {
      "cell_type": "code",
      "execution_count": 27,
      "metadata": {
        "id": "Br_i9aIIQ30m"
      },
      "outputs": [],
      "source": [
        "from functools import lru_cache\n",
        "\n",
        "@lru_cache(maxsize=None)\n",
        "def fib(n: int) -> int:\n",
        "    if n in [0, 1]:\n",
        "        return n\n",
        "    return fib(n-1) + fib(n-2)"
      ]
    },
    {
      "cell_type": "code",
      "execution_count": 29,
      "metadata": {},
      "outputs": [],
      "source": [
        "print(fib(100))"
      ]
    },
    {
      "cell_type": "code",
      "execution_count": null,
      "metadata": {
        "id": "oFUfBFO9Q30m"
      },
      "outputs": [],
      "source": [
        "def gcd(a: int, b: int) -> int:\n",
        "    if a == b: return a\n",
        "    if a > b: return gcd(a-b, b)\n",
        "    return gcd(a, b-a)"
      ]
    },
    {
      "cell_type": "code",
      "execution_count": null,
      "metadata": {
        "id": "HkYSAx6kQ30m"
      },
      "outputs": [],
      "source": [
        "def continued_fraction_recursion(fraction, num=None, denom=None):\n",
        "    if not fraction:\n",
        "        return denom, num\n",
        "    if num is None:\n",
        "        num = 1\n",
        "        denom = fraction.pop()\n",
        "    return continued_fraction_recursion(fraction[:-1], denom, denom*fraction[-1] + num)"
      ]
    },
    {
      "cell_type": "code",
      "execution_count": 6,
      "metadata": {},
      "outputs": [],
      "source": [
        "def digitalsum(a):\n",
        "    return sum(map(int, str(a)))\n",
        "\n",
        "def div_three(num):\n",
        "    return div_three(digitalsum(num)) if num > 9 else num in {0, 3, 6, 9}"
      ]
    },
    {
      "cell_type": "code",
      "execution_count": null,
      "metadata": {
        "colab": {
          "base_uri": "https://localhost:8080/"
        },
        "id": "edy7dxl9Ly5L",
        "outputId": "f93cd829-704a-4adf-8a6d-9cb859d8b007"
      },
      "outputs": [
        {
          "name": "stdout",
          "output_type": "stream",
          "text": [
            "[1, 5, 4, 6, 3, 6, 1, 4, 6, 2, 5, 7, 9, 8]\n",
            "['a', 'bc', 'de', 'fg', 'hke', 'c', 'agrt', 'qe']\n"
          ]
        }
      ],
      "source": [
        "def _flatten(A):\n",
        "    res = []\n",
        "    for el in A:\n",
        "        if isinstance(el, (list, tuple)):\n",
        "            yield from _flatten(el)\n",
        "        else:\n",
        "            yield el\n",
        "\n",
        "def flatten(A):\n",
        "    return list(_flatten(A))\n",
        "\n",
        "def flatten_2(A):\n",
        "    res = []\n",
        "    for el in A:\n",
        "        if isinstance(el, (list, tuple)):\n",
        "            res.extend(flatten(el))\n",
        "        else:\n",
        "            res.append(el)\n",
        "    return res\n",
        "\n",
        "M = [\n",
        "    [1,4,6],\n",
        "    [2,1,7],\n",
        "    [-4,1,-4]\n",
        "]\n",
        "A = [1, 5, [4, 6], [3, [6, 1, [4, 6], 2, [[5]]], [7, 9], 8]]\n",
        "B = ['a', 'bc', ['de', ['fg', 'hke'], 'c', [[['agrt']]], 'qe']]\n",
        "C = [[[[[1]]]]]\n",
        "D = []\n",
        "\n",
        "print(flatten(A))\n",
        "print(flatten(B))\n"
      ]
    },
    {
      "cell_type": "code",
      "execution_count": null,
      "metadata": {
        "colab": {
          "base_uri": "https://localhost:8080/"
        },
        "id": "c8AQKpb729HU",
        "outputId": "e8f6dbdd-7399-4054-9f4c-210ba0cea257"
      },
      "outputs": [
        {
          "name": "stdout",
          "output_type": "stream",
          "text": [
            "(2, 7) 6\n",
            "(1, 5) 1\n",
            "(1, 9) 0\n",
            "(1, 9, 9) 1\n",
            "(4, 10) 80\n",
            "(10, 28) 1972630\n",
            "(17, 58) 929474534574\n",
            "(48, 101) 27643934629475098630752097440\n",
            "(17, 58, 11) 41598456130407\n"
          ]
        }
      ],
      "source": [
        "from itertools import product\n",
        "def num_of_ways_bruteforce(num_of_dice, target, NUM_OF_SIDES=6):\n",
        "    res = 0\n",
        "    for sample in product(*(range(1, NUM_OF_SIDES+1) for _ in range(num_of_dice))):\n",
        "        res += sum(sample) == target\n",
        "    return res\n",
        "\n",
        "from functools import lru_cache\n",
        "@lru_cache(maxsize=None)\n",
        "def num_of_ways(num_of_dice, target, NUM_OF_SIDES=6):\n",
        "    '''\n",
        "    Number of ways to get (num_of_dice) (NUM_OF_SIDES)-sided dice to sum up to (target)\n",
        "    '''\n",
        "    if num_of_dice == 1:\n",
        "        if 1 <= target <= NUM_OF_SIDES:\n",
        "            return 1\n",
        "        return 0\n",
        "    res = 0\n",
        "    for i in range(1, NUM_OF_SIDES + 1):\n",
        "        res += num_of_ways(num_of_dice - 1, target - i, NUM_OF_SIDES)\n",
        "    return res\n",
        "\n",
        "tests = [\n",
        "    (2, 7),\n",
        "    (1, 5),\n",
        "    (1, 9),\n",
        "    (1, 9, 9),\n",
        "    (4, 10),\n",
        "    (10, 28),\n",
        "    (17, 58),\n",
        "    (48, 101),\n",
        "    (17, 58, 11)\n",
        "]\n",
        "for t in tests:\n",
        "    print(t, num_of_ways(*t)) #, num_of_ways_bruteforce(*t))"
      ]
    },
    {
      "cell_type": "code",
      "execution_count": null,
      "metadata": {},
      "outputs": [],
      "source": [
        "def partition(number: int, into: int) -> list[list[int]]:\n",
        "    if into == 1:\n",
        "        return [[number]]\n",
        "    res = []\n",
        "    for first in range(1, number - into + 2):\n",
        "        for smaller_part in partition(number-first, into-1):\n",
        "            res.append([first] + smaller_part)\n",
        "    return res"
      ]
    },
    {
      "cell_type": "markdown",
      "metadata": {
        "id": "KaXUQVnpQ30m"
      },
      "source": [
        "# OOP"
      ]
    },
    {
      "cell_type": "code",
      "execution_count": null,
      "metadata": {
        "id": "FmQ6fGnnQ30m"
      },
      "outputs": [],
      "source": [
        "class CoffeeMachine:\n",
        "    def __init__(self, beans):\n",
        "        self.beans = beans\n",
        "        self.num_of_runs = 0\n",
        "        print('coffee machine created')\n",
        "\n",
        "    def __str__(self):\n",
        "        return f'number of beans: {self.beans}, number of runs: {self.num_of_runs}'\n",
        "\n",
        "    def add_beans(self, beans_to_add):\n",
        "        assert beans_to_add > 0, 'Must be positive'\n",
        "        self.beans += beans_to_add\n",
        "        print(f'added {beans_to_add} beans')\n",
        "        \n",
        "    def grind(self):\n",
        "        assert self.beans > 0, 'Not enough beans'\n",
        "        self.beans -= 1\n",
        "        self.num_of_runs += 1\n",
        "        print('running...')\n"
      ]
    },
    {
      "cell_type": "code",
      "execution_count": null,
      "metadata": {
        "id": "h3E91Jt7Q30m"
      },
      "outputs": [],
      "source": [
        "class Card:\n",
        "    def __init__(self, number: str, valid_until: str, money: int = 0) -> None:\n",
        "        self.number = number\n",
        "        self.valid_until = valid_until\n",
        "        self.money = money\n",
        "    def __str__(self):\n",
        "        return f\"Card(number={self.number}, valid until {self.valid_until}, ${self.money})\"\n",
        "    def is_valid(self) -> None:\n",
        "        '''True if self.valid_until is after 02/23 (03/23 and on)'''\n",
        "        m, y = map(int, self.valid_until.split('/'))\n",
        "        if y > 23:\n",
        "            return True\n",
        "        elif y == 23:\n",
        "            return m >= 3\n",
        "        return False\n",
        "    def add_money(self, amount) -> None:\n",
        "        assert amount > 0, 'Must be positive'\n",
        "        self.money += amount\n",
        "    def get_money(self) -> int:\n",
        "        return self.money\n",
        "\n",
        "class CardHolder:\n",
        "    def __init__(self, cards: list[Card]) -> None:\n",
        "        self.cards = cards\n",
        "    def are_all_valid(self) -> bool:\n",
        "        assert self.cards, 'No cards'\n",
        "        return all(map(Card.is_valid, self.cards))\n",
        "    def total_money(self) -> int:\n",
        "        return sum(map(Card.get_money, self.cards))\n",
        "    def add_card(self, card: Card) -> None:\n",
        "        self.cards.append(card)"
      ]
    },
    {
      "cell_type": "code",
      "execution_count": null,
      "metadata": {
        "id": "H82Npjj3Q30n",
        "outputId": "63064476-8993-4cd0-ebc2-1f4c728b54d9"
      },
      "outputs": [
        {
          "name": "stdout",
          "output_type": "stream",
          "text": [
            "True\n",
            "6\n"
          ]
        }
      ],
      "source": [
        "ch = CardHolder(cards=[])\n",
        "ch.add_card(Card('36589', '03/23', 6))\n",
        "print(ch.are_all_valid())\n",
        "print(ch.total_money())"
      ]
    },
    {
      "cell_type": "code",
      "execution_count": null,
      "metadata": {
        "id": "WBrm_CpQQ30n"
      },
      "outputs": [],
      "source": [
        "from dataclasses import dataclass\n",
        "\n",
        "@dataclass\n",
        "class Task:\n",
        "    task_id: int\n",
        "    name: str\n",
        "    priority: int # 1, 2, 3 - log, meduim, high\n",
        "    completed: bool = False\n",
        "\n",
        "class TodoApp:\n",
        "    def __init__(self) -> None:\n",
        "        self.tasks: list[Task] = []\n",
        "    \n",
        "    def add_task(self, task_id: int, name: str, priority: int):\n",
        "        self.tasks.append(Task(task_id, name, priority))\n",
        "    \n",
        "    def complete_task(self, task_id: int):\n",
        "        for t in self.tasks:\n",
        "            if t.task_id == task_id:\n",
        "                assert not t.completed, 'Task is already completed'\n",
        "                t.completed = True\n",
        "                return\n",
        "        assert False, 'There is no task with this id' \n",
        "    \n",
        "    def __str__(self):\n",
        "        tmp = [f'{t.task_id}.{t.name}({\"!\"*t.priority})' for t in self.tasks if not t.completed]\n",
        "        return ' '.join(tmp) if tmp else 'no tasks'"
      ]
    },
    {
      "cell_type": "code",
      "execution_count": null,
      "metadata": {
        "id": "HMf_YCBaQ30n",
        "outputId": "d76d080a-3c2a-42bb-d230-c49bb75917ae"
      },
      "outputs": [
        {
          "name": "stdout",
          "output_type": "stream",
          "text": [
            "0.a(!) 2.cg(!!) 4.ba(!!!) 3.ef(!!)\n"
          ]
        }
      ],
      "source": [
        "app = TodoApp()\n",
        "app.add_task(0, 'a', 1)\n",
        "app.add_task(2, 'cg', 2)\n",
        "app.add_task(4, 'ba', 3)\n",
        "app.add_task(3, 'ef', 2)\n",
        "print(app)"
      ]
    },
    {
      "cell_type": "code",
      "execution_count": null,
      "metadata": {
        "id": "eUpV0yCrQ30n",
        "outputId": "407c7d3d-0f5e-4e8e-e2aa-c37d21e8073f"
      },
      "outputs": [
        {
          "name": "stdout",
          "output_type": "stream",
          "text": [
            "1.Cook(!!!) 2.Shower(!!) 3.Homework(!)\n",
            "2.Shower(!!) 3.Homework(!)\n",
            "no tasks\n"
          ]
        }
      ],
      "source": [
        "app = TodoApp()\n",
        "app.add_task(1, 'Cook', 3)\n",
        "app.add_task(2, 'Shower', 2)\n",
        "app.add_task(3, 'Homework', 1)\n",
        "print(app)\n",
        "app.complete_task(1)\n",
        "print(app)\n",
        "app.complete_task(2)\n",
        "app.complete_task(3)\n",
        "print(app)"
      ]
    },
    {
      "cell_type": "code",
      "execution_count": null,
      "metadata": {
        "id": "fKcqlB4pQ30n",
        "outputId": "3311dc0f-65fb-4254-c90e-d88a68184519"
      },
      "outputs": [
        {
          "name": "stdout",
          "output_type": "stream",
          "text": [
            "0.Eat(!!!)\n",
            "no tasks\n"
          ]
        },
        {
          "ename": "AssertionError",
          "evalue": "Task is already completed",
          "output_type": "error",
          "traceback": [
            "\u001b[1;31m---------------------------------------------------------------------------\u001b[0m",
            "\u001b[1;31mAssertionError\u001b[0m                            Traceback (most recent call last)",
            "Cell \u001b[1;32mIn [42], line 6\u001b[0m\n\u001b[0;32m      4\u001b[0m app\u001b[39m.\u001b[39mcomplete_task(\u001b[39m0\u001b[39m)\n\u001b[0;32m      5\u001b[0m \u001b[39mprint\u001b[39m(app)\n\u001b[1;32m----> 6\u001b[0m app\u001b[39m.\u001b[39;49mcomplete_task(\u001b[39m0\u001b[39;49m)\n",
            "Cell \u001b[1;32mIn [25], line 20\u001b[0m, in \u001b[0;36mTodoApp.complete_task\u001b[1;34m(self, task_id)\u001b[0m\n\u001b[0;32m     18\u001b[0m \u001b[39mfor\u001b[39;00m t \u001b[39min\u001b[39;00m \u001b[39mself\u001b[39m\u001b[39m.\u001b[39mtasks:\n\u001b[0;32m     19\u001b[0m     \u001b[39mif\u001b[39;00m t\u001b[39m.\u001b[39mtask_id \u001b[39m==\u001b[39m task_id:\n\u001b[1;32m---> 20\u001b[0m         \u001b[39massert\u001b[39;00m \u001b[39mnot\u001b[39;00m t\u001b[39m.\u001b[39mcompleted, \u001b[39m'\u001b[39m\u001b[39mTask is already completed\u001b[39m\u001b[39m'\u001b[39m\n\u001b[0;32m     21\u001b[0m         t\u001b[39m.\u001b[39mcompleted \u001b[39m=\u001b[39m \u001b[39mTrue\u001b[39;00m\n\u001b[0;32m     22\u001b[0m         \u001b[39mreturn\u001b[39;00m\n",
            "\u001b[1;31mAssertionError\u001b[0m: Task is already completed"
          ]
        }
      ],
      "source": [
        "app = TodoApp()\n",
        "app.add_task(0, 'Eat', 3)\n",
        "print(app)\n",
        "app.complete_task(0)\n",
        "print(app)\n",
        "app.complete_task(0)"
      ]
    },
    {
      "cell_type": "code",
      "execution_count": null,
      "metadata": {
        "id": "Lnduew-wQ30o"
      },
      "outputs": [],
      "source": [
        "class Student:\n",
        "    def __init__(self, name, age) -> None:\n",
        "        self.name = name\n",
        "        self.age = age\n",
        "        self.assignments = []\n",
        "        self.score = 0\n",
        "        print('created student')\n",
        "    \n",
        "    def __str__(self):\n",
        "        assignments_str = f', assignments={\",\".join(self.assignments)}' if self.assignments else ''\n",
        "        age_str = 'age' if self.age < 18 else 'AGE'\n",
        "        return f'name={self.name}, {age_str}={self.age}, score={self.score}{assignments_str}'\n",
        "    \n",
        "    def get_score(self):\n",
        "        return self.score\n",
        "\n",
        "    def add_assignment(self, assignment_name):\n",
        "        self.assignments.append(assignment_name)\n",
        "        print(f'added assignment {assignment_name}')\n",
        "    \n",
        "    def complete_first_assignment(self):\n",
        "        assert self.assignments, 'There are no assignments'\n",
        "        first_assignment = self.assignments.pop(0)\n",
        "        self.score += len(first_assignment)\n",
        "        print('completed the first assignment:', first_assignment)\n",
        "    \n",
        "    def complete_all_assignments(self):\n",
        "        for a in self.assignments:\n",
        "            self.score += len(a)\n",
        "            print(f'completed {a}')"
      ]
    },
    {
      "cell_type": "code",
      "execution_count": null,
      "metadata": {
        "id": "O7ZVatf7Q30o"
      },
      "outputs": [],
      "source": [
        "class MyCounter:\n",
        "    def __init__(self, obj):\n",
        "        self.obj = obj\n",
        "        res = {v: 0 for v in set(self.obj)}\n",
        "        for el in self.obj:\n",
        "            res[el] += 1\n",
        "        self._res = res\n",
        "        self._sorted = None\n",
        "        print('mycounter object created')\n",
        "    \n",
        "    def as_dict(self):\n",
        "        return self._res\n",
        "    \n",
        "    def at(self, el):\n",
        "        return self._res.get(el, 0)\n",
        "    \n",
        "    def most_common(self, N=None):\n",
        "        if self._sorted is None:\n",
        "            self._sorted = sorted(self._res.items(), key=lambda x: x[1], reverse=True)\n",
        "        if N is None:\n",
        "            return self._sorted\n",
        "        return self._sorted[:N]\n"
      ]
    },
    {
      "cell_type": "code",
      "execution_count": null,
      "metadata": {
        "id": "TLuMu7KUQ30o"
      },
      "outputs": [],
      "source": [
        "from string import ascii_lowercase, ascii_uppercase\n",
        "import random\n",
        "import math\n",
        "\n",
        "class PasswordGen:\n",
        "    @staticmethod\n",
        "    def letter_lower() -> str:\n",
        "        return random.choice(ascii_lowercase)\n",
        "\n",
        "    @staticmethod\n",
        "    def letter_upper() -> str:\n",
        "        return random.choice(ascii_uppercase)\n",
        "\n",
        "    @staticmethod\n",
        "    def digit() -> str:\n",
        "        return str(random.randrange(10))\n",
        "\n",
        "    def random_special(self) -> str:\n",
        "        return random.choice(self.special)\n",
        "\n",
        "    def __init__(self, template: str, special='!@#$%^&*()[]{}_') -> None:\n",
        "        self.template = template\n",
        "        self.special = special\n",
        "        self.generators = {\n",
        "            'w': self.letter_lower,\n",
        "            'W': self.letter_upper,\n",
        "            'd': self.digit,\n",
        "            's': self.random_special\n",
        "        }\n",
        "        self.lengths = {\n",
        "            'w': 26,\n",
        "            'W': 26,\n",
        "            'd': 10,\n",
        "            's': len(self.special)\n",
        "        }\n",
        "    \n",
        "    def __call__(self) -> str:\n",
        "        return self.one()\n",
        "\n",
        "    def one(self) -> str:\n",
        "        return ''.join([self.generators[el]() if el in self.generators.keys() else el for el in self.template])\n",
        "    \n",
        "    def many(self, n: int = 100) -> list[str]:\n",
        "        return [self.one() for _ in range(n)]\n",
        "    \n",
        "    def __abs__(self) -> int:\n",
        "        return math.prod((self.lengths.get(el, 1) for el in self.template))"
      ]
    },
    {
      "cell_type": "code",
      "execution_count": null,
      "metadata": {
        "id": "a-7XxbnmQ30o"
      },
      "outputs": [],
      "source": [
        "gen = PasswordGen('wdsdW', special='.,:')"
      ]
    },
    {
      "cell_type": "code",
      "execution_count": null,
      "metadata": {
        "id": "1OZy1nrOQ30o",
        "outputId": "d97aa458-45ba-4570-c3d7-96e9b31dc713"
      },
      "outputs": [
        {
          "data": {
            "text/plain": [
              "202800"
            ]
          },
          "execution_count": 74,
          "metadata": {},
          "output_type": "execute_result"
        }
      ],
      "source": [
        "abs(gen)"
      ]
    },
    {
      "cell_type": "code",
      "execution_count": null,
      "metadata": {
        "id": "L-YVQH4WbGIF"
      },
      "outputs": [],
      "source": [
        "from math import gcd\n",
        "\n",
        "class Fraction:\n",
        "    def __init__(self, num: int, denom: int):\n",
        "        if not denom:\n",
        "            raise ZeroDivisionError('Cannot have a 0 in the denominator')\n",
        "        common = gcd(num, denom)\n",
        "        self.num = num // common\n",
        "        self.denom = denom // common\n",
        "    def __repr__(self):\n",
        "        return f'Fraction({self.num}, {self.denom})'\n",
        "    def __str__(self):\n",
        "        return f'{self.num}/{self.denom}'\n",
        "    def __mul__(self, other):\n",
        "        return Fraction(self.num * other.num, self.denom * other.denom)\n",
        "    def __add__(self, other):\n",
        "        return Fraction(self.num * other.denom + self.denom * other.num, self.denom * other.denom)\n",
        "    def __sub__(self, other):\n",
        "        return Fraction(self.num * other.denom - self.denom * other.num, self.denom * other.denom)\n",
        "    def __truediv__(self, other):\n",
        "        return self * other.inv()\n",
        "    def __eq__(self, other):\n",
        "        return self.num == other.num and self.denom == other.denom\n",
        "    def __gt__(self, other):\n",
        "        return self.val() > other.val()\n",
        "    def val(self) -> float:\n",
        "        return self.num / self.denom\n",
        "    def inv(self):\n",
        "        return Fraction(self.denom, self.num)\n",
        "    "
      ]
    },
    {
      "cell_type": "code",
      "execution_count": null,
      "metadata": {
        "id": "6hqXc0t7Q30p"
      },
      "outputs": [],
      "source": [
        "import math\n",
        "\n",
        "class Vec2:\n",
        "    def __init__(self, x: float, y: float) -> None:\n",
        "        self.x = x\n",
        "        self.y = y\n",
        "    def __repr__(self) -> str:\n",
        "        return f'Vec2({self.x:.3f}, {self.y:.3f})'\n",
        "    def __str__(self) -> str:\n",
        "        return f'[{self.x:.3f} {self.y:.3f}]'\n",
        "    def __add__(self, other: \"Vec2\") -> \"Vec2\":\n",
        "        return Vec2(self.x + other.x, self.y + other.y)\n",
        "    def __sub__(self, other: \"Vec2\") -> \"Vec2\":\n",
        "        return Vec2(self.x - other.x, self.y - other.y)\n",
        "    def __mul__(self, other: float) -> \"Vec2\":\n",
        "        return Vec2(self.x * other, self.y * other)\n",
        "    def __truediv__(self, other: float) -> \"Vec2\":\n",
        "        return Vec2(self.x / other, self.y / other)\n",
        "    def __eq__(self, other) -> bool:\n",
        "        diff = self - other\n",
        "        return abs(diff.x) < 1e-5 and abs(diff.y) < 1e-5\n",
        "    def __abs__(self) -> float:\n",
        "        return math.sqrt(self.x**2 + self.y**2)\n",
        "    def __matmul__(self, other) -> float:\n",
        "        return self.x * other.x + self.y * other.y\n",
        "    def __iter__(self) -> tuple[float, float]:\n",
        "        yield self.x\n",
        "        yield self.y\n",
        "    def __xor__(self, other) -> float:\n",
        "        return math.acos(self @ other / (abs(self) * abs(other)))\n",
        "    \n",
        "    "
      ]
    },
    {
      "cell_type": "markdown",
      "metadata": {
        "id": "RWOlMrOYyTlP"
      },
      "source": [
        "# Other"
      ]
    },
    {
      "cell_type": "code",
      "execution_count": 133,
      "metadata": {},
      "outputs": [],
      "source": [
        "from random import random\n",
        "import math\n",
        "\n",
        "import numpy as np\n",
        "from matplotlib import pyplot as plt\n",
        "from sympy import isprime\n",
        "\n",
        "N = 100"
      ]
    },
    {
      "cell_type": "code",
      "execution_count": 31,
      "metadata": {},
      "outputs": [],
      "source": [
        "def get_matr(func):\n",
        "    img = np.zeros((N, N))\n",
        "    for i in range(N):\n",
        "        for j in range(N):\n",
        "            img[i, j] = func(i, j)\n",
        "    return img"
      ]
    },
    {
      "cell_type": "code",
      "execution_count": 150,
      "metadata": {},
      "outputs": [],
      "source": [
        "def func(i, j):\n",
        "    return i+j+20+40*random() if random() < .65 else 0\n",
        "\n",
        "img = get_matr(func)"
      ]
    },
    {
      "cell_type": "code",
      "execution_count": 151,
      "metadata": {},
      "outputs": [
        {
          "data": {
            "text/plain": [
              "(-0.5, 99.5, 99.5, -0.5)"
            ]
          },
          "execution_count": 151,
          "metadata": {},
          "output_type": "execute_result"
        },
        {
          "data": {
            "image/png": "[encoded data removed]",
            "text/plain": [
              "<Figure size 800x800 with 1 Axes>"
            ]
          },
          "metadata": {},
          "output_type": "display_data"
        }
      ],
      "source": [
        "fig = plt.figure(figsize=(8, 8))\n",
        "plt.imshow(img)\n",
        "plt.axis('off')"
      ]
    },
    {
      "cell_type": "code",
      "execution_count": 152,
      "metadata": {},
      "outputs": [],
      "source": [
        "name = 'i+j+rand_or_0'\n",
        "fig.savefig(f'imgs/{name}.pdf', bbox_inches='tight')"
      ]
    },
    {
      "cell_type": "code",
      "execution_count": null,
      "metadata": {},
      "outputs": [],
      "source": []
    }
  ],
  "metadata": {
    "colab": {
      "provenance": []
    },
    "kernelspec": {
      "display_name": "Python 3.10.7 ('thevenv')",
      "language": "python",
      "name": "python3"
    },
    "language_info": {
      "codemirror_mode": {
        "name": "ipython",
        "version": 3
      },
      "file_extension": ".py",
      "mimetype": "text/x-python",
      "name": "python",
      "nbconvert_exporter": "python",
      "pygments_lexer": "ipython3",
      "version": "3.11.2"
    },
    "vscode": {
      "interpreter": {
        "hash": "ed53bbc5bb63d82bef993d908d40627d686f6f2593964cd5fe30071c0fd3037d"
      }
    }
  },
  "nbformat": 4,
  "nbformat_minor": 0
}
