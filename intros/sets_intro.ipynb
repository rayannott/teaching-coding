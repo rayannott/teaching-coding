{
 "cells": [
  {
   "attachments": {},
   "cell_type": "markdown",
   "metadata": {},
   "source": [
    "# python `set`"
   ]
  },
  {
   "attachments": {},
   "cell_type": "markdown",
   "metadata": {},
   "source": [
    "## Experiment"
   ]
  },
  {
   "cell_type": "code",
   "execution_count": null,
   "metadata": {},
   "outputs": [],
   "source": [
    "import random\n",
    "\n",
    "BIG_LIST = [random.randrange(3000) for _ in range(15_000)]\n",
    "BAD_NUMBERS = [random.randrange(3000) for _ in range(1_000)]"
   ]
  },
  {
   "cell_type": "code",
   "execution_count": null,
   "metadata": {},
   "outputs": [],
   "source": [
    "def num_of_bad_numbers_v1():\n",
    "    cnt = 0\n",
    "    for el in BIG_LIST:\n",
    "        if el in BAD_NUMBERS:\n",
    "            cnt += 1\n",
    "    return cnt"
   ]
  },
  {
   "cell_type": "code",
   "execution_count": null,
   "metadata": {},
   "outputs": [],
   "source": [
    "def num_of_bad_numbers_v2():\n",
    "    BAD_NUMBERS_SET = set(BAD_NUMBERS) # this is a set made from that list\n",
    "    cnt = 0\n",
    "    for el in BIG_LIST:\n",
    "        if el in BAD_NUMBERS_SET:\n",
    "            cnt += 1\n",
    "    return cnt "
   ]
  },
  {
   "cell_type": "code",
   "execution_count": null,
   "metadata": {},
   "outputs": [],
   "source": [
    "%%timeit\n",
    "num_of_bad_numbers_v1()"
   ]
  },
  {
   "cell_type": "code",
   "execution_count": null,
   "metadata": {},
   "outputs": [],
   "source": [
    "%%timeit\n",
    "num_of_bad_numbers_v2()"
   ]
  },
  {
   "attachments": {},
   "cell_type": "markdown",
   "metadata": {},
   "source": [
    "Conclusion: `obj in set` is much more efficient than `obj in list`."
   ]
  },
  {
   "attachments": {},
   "cell_type": "markdown",
   "metadata": {},
   "source": [
    "## Motivation\n",
    "\n",
    "Want fast `in` operation (aka \"contains\")"
   ]
  },
  {
   "cell_type": "code",
   "execution_count": null,
   "metadata": {},
   "outputs": [],
   "source": [
    "def contains_v1(lst, obj) -> bool:\n",
    "    # this is how `obj in list` works under the hood\n",
    "    for el in lst:\n",
    "        if el == obj:\n",
    "            return True\n",
    "    return False\n",
    "\n",
    "def contains_v2(lst, obj) -> bool:\n",
    "    return obj in lst\n",
    "\n",
    "lst1 = [1, 5, 4, 7, 8]\n",
    "obj1 = 4; obj2 = 2\n",
    "print(contains_v1(lst1, obj1))\n",
    "print(contains_v1(lst1, obj2))\n",
    "print(contains_v2(lst1, obj1))\n",
    "print(contains_v2(lst1, obj2))\n",
    "\n",
    "# `obj in set` operation uses hashing;\n",
    "# it does not go through the whole data structure on every call"
   ]
  },
  {
   "attachments": {},
   "cell_type": "markdown",
   "metadata": {},
   "source": [
    "## `set` type"
   ]
  },
  {
   "attachments": {},
   "cell_type": "markdown",
   "metadata": {},
   "source": [
    "**Definition**: `set` is a mutable unordered collection of unique immutable elements.\n",
    "\n",
    "- _mutable_ - we can change them (e.g. adding/removing elements);\n",
    "- _unordered_ - elements do not have indices;\n",
    "- _unique elements_ - speaks for itself;\n",
    "- _immutable elements_ - cannot add objects of changable types (`list`s, `dict`s, other `set`s.)\n",
    "\n",
    "\n",
    "Let's look at those properties using some examples."
   ]
  },
  {
   "cell_type": "code",
   "execution_count": null,
   "metadata": {},
   "outputs": [],
   "source": [
    "st1 = {3, 5, 2, 6} # this is a set\n",
    "print(st1, type(st1))"
   ]
  },
  {
   "cell_type": "code",
   "execution_count": null,
   "metadata": {},
   "outputs": [],
   "source": [
    "empty_set = set() # this is a set with zero values\n",
    "\n",
    "#* Note: you cannot initialize an empty set with {}\n",
    "#* as it would create an empty dictionary\n",
    "print(type({}), type(set()))"
   ]
  },
  {
   "cell_type": "code",
   "execution_count": null,
   "metadata": {},
   "outputs": [],
   "source": [
    "# mutable:\n",
    "st1.add(7)\n",
    "print(st1)\n",
    "\n",
    "st1.remove(5)\n",
    "print(st1)"
   ]
  },
  {
   "cell_type": "code",
   "execution_count": null,
   "metadata": {},
   "outputs": [],
   "source": [
    "# unordered:\n",
    "print({1, 2, 3, 4} == {3, 2, 4, 1}) # the order does not matter\n",
    "\n",
    "print([1, 2, 3, 4] == [3, 2, 4, 1]) # this does not hold for lists"
   ]
  },
  {
   "cell_type": "code",
   "execution_count": null,
   "metadata": {},
   "outputs": [],
   "source": [
    "# elements: unique\n",
    "st2 = {3, 6}\n",
    "print(st2)\n",
    "st2.add(3)\n",
    "st2.add(6)\n",
    "print(st2) # no difference\n",
    "\n",
    "st3 = {3, 3, 3, 3, 6, 6, 6} # removes duplicates on initialization\n",
    "print(st3)\n",
    "print(st2 == st3) "
   ]
  },
  {
   "cell_type": "code",
   "execution_count": null,
   "metadata": {},
   "outputs": [],
   "source": [
    "# elements: immutable\n",
    "'''\n",
    "immutable: int, str, tuple, ...\n",
    "mutable: list, set, dict, ...\n",
    "'''\n",
    "st4 = {'a', 'c', 'e'} # this is ok\n",
    "print(st4)\n",
    "st5 = {(3, 4), (1, 4), (3, 5)} # this is also ok\n",
    "print(st5)\n",
    "\n",
    "st6 = {[3], [4, 1], [5, 6, 2]} # ERROR (immutable objects are not hashable)\n",
    "# try `hash([1, 2, 3])`"
   ]
  },
  {
   "attachments": {},
   "cell_type": "markdown",
   "metadata": {},
   "source": [
    "## `set` operations"
   ]
  },
  {
   "cell_type": "code",
   "execution_count": null,
   "metadata": {},
   "outputs": [],
   "source": [
    "set1 = {1, 4, 6, 3, 7}\n",
    "set2 = {2, 3, 4, 9, 12}\n",
    "print(set1, set2)"
   ]
  },
  {
   "attachments": {},
   "cell_type": "markdown",
   "metadata": {},
   "source": [
    "Common python operations\n",
    "\n",
    "**can** do:"
   ]
  },
  {
   "cell_type": "code",
   "execution_count": null,
   "metadata": {},
   "outputs": [],
   "source": [
    "# compare equality:\n",
    "print(set1 == set2)"
   ]
  },
  {
   "cell_type": "code",
   "execution_count": null,
   "metadata": {},
   "outputs": [],
   "source": [
    "# find length\n",
    "print(len(set1))"
   ]
  },
  {
   "cell_type": "code",
   "execution_count": null,
   "metadata": {},
   "outputs": [],
   "source": [
    "# iterate over\n",
    "for el in set1:\n",
    "    print(el, end=' ')"
   ]
  },
  {
   "cell_type": "code",
   "execution_count": null,
   "metadata": {},
   "outputs": [],
   "source": [
    "# find union: a new set which contains everything from both set1 and set2\n",
    "set1_or_set2 = set1 | set2 # or `set1.union(set2)`\n",
    "print(set1_or_set2)"
   ]
  },
  {
   "cell_type": "code",
   "execution_count": null,
   "metadata": {},
   "outputs": [],
   "source": [
    "# find intersection: a new set which contains elements which are present in both sets\n",
    "set1_and_set2 = set1 & set2 # or `set1.intersection(set2)`\n",
    "print(set1_and_set2)"
   ]
  },
  {
   "attachments": {},
   "cell_type": "markdown",
   "metadata": {},
   "source": [
    "**cannot** do:"
   ]
  },
  {
   "cell_type": "code",
   "execution_count": null,
   "metadata": {},
   "outputs": [],
   "source": [
    "# subscribe\n",
    "set1[1]"
   ]
  },
  {
   "cell_type": "code",
   "execution_count": null,
   "metadata": {},
   "outputs": [],
   "source": [
    "# add\n",
    "set1 + set2"
   ]
  },
  {
   "cell_type": "code",
   "execution_count": null,
   "metadata": {},
   "outputs": [],
   "source": [
    "# divide and multiply\n",
    "set1 * set2\n",
    "# set1 / set2"
   ]
  },
  {
   "attachments": {},
   "cell_type": "markdown",
   "metadata": {},
   "source": [
    "## TEST YOURSELF: `set`s"
   ]
  },
  {
   "attachments": {},
   "cell_type": "markdown",
   "metadata": {},
   "source": [
    "## Problem 1"
   ]
  },
  {
   "cell_type": "code",
   "execution_count": 52,
   "metadata": {},
   "outputs": [],
   "source": [
    "def sum_unique_v1(nums: list[int]) -> int:\n",
    "    '''*\n",
    "    Find the sum of unique elements of a given list.\n",
    "    DO NOT use set data type.\n",
    "    '''\n",
    "    unique = []\n",
    "    for el in nums:\n",
    "        if el not in unique:\n",
    "            unique.append(el)\n",
    "    return sum(unique)\n",
    "\n",
    "def sum_unique_v2(nums: list[int]) -> int:\n",
    "    '''\n",
    "    Find the sum of unique elements of a given list.\n",
    "    Use set data type.\n",
    "    '''\n",
    "    return sum(set(nums))"
   ]
  },
  {
   "cell_type": "code",
   "execution_count": 53,
   "metadata": {},
   "outputs": [],
   "source": [
    "# test\n",
    "TESTS = [[1, 2], [1, 2, 2], [3, 1, 2, 3], [1, 1, 1, 1, 1], [0, 0, 1, 1]]\n",
    "ANS = [3, 3, 6, 1, 1]\n",
    "MSG = '{}: wrong answer with input {}; must be {}, got {}'\n",
    "FUNCS = [sum_unique_v1, sum_unique_v2]\n",
    "for func_ in FUNCS:\n",
    "    for t_, ans_ in zip(TESTS, ANS):\n",
    "        assert (r:=func_(t_)) == ans_, MSG.format(func_.__name__, t_, ans_, r)"
   ]
  },
  {
   "attachments": {},
   "cell_type": "markdown",
   "metadata": {},
   "source": [
    "If the tests above passed successfully, run the following cells to assess the performance. "
   ]
  },
  {
   "cell_type": "code",
   "execution_count": 59,
   "metadata": {},
   "outputs": [
    {
     "name": "stdout",
     "output_type": "stream",
     "text": [
      "len(BIG_LIST)=15000, sum(BIG_LIST)=22421692\n",
      "True\n"
     ]
    }
   ],
   "source": [
    "# create a big list of random integers (actually, we had it already)\n",
    "import random\n",
    "\n",
    "BIG_LIST = [random.randrange(3000) for _ in range(15_000)]\n",
    "print(f'{len(BIG_LIST)=}, {sum(BIG_LIST)=}')\n",
    "\n",
    "print(sum_unique_v1(BIG_LIST) == sum_unique_v2(BIG_LIST))"
   ]
  },
  {
   "cell_type": "code",
   "execution_count": 56,
   "metadata": {},
   "outputs": [
    {
     "name": "stdout",
     "output_type": "stream",
     "text": [
      "75.8 ms ± 563 µs per loop (mean ± std. dev. of 7 runs, 10 loops each)\n"
     ]
    }
   ],
   "source": [
    "%%timeit\n",
    "sum_unique_v1(BIG_LIST)"
   ]
  },
  {
   "cell_type": "code",
   "execution_count": 57,
   "metadata": {},
   "outputs": [
    {
     "name": "stdout",
     "output_type": "stream",
     "text": [
      "177 µs ± 1.15 µs per loop (mean ± std. dev. of 7 runs, 10,000 loops each)\n"
     ]
    }
   ],
   "source": [
    "%%timeit\n",
    "sum_unique_v2(BIG_LIST)"
   ]
  },
  {
   "attachments": {},
   "cell_type": "markdown",
   "metadata": {},
   "source": [
    "How huge is the difference?"
   ]
  },
  {
   "attachments": {},
   "cell_type": "markdown",
   "metadata": {},
   "source": [
    "## Problem 2"
   ]
  },
  {
   "cell_type": "code",
   "execution_count": 82,
   "metadata": {},
   "outputs": [],
   "source": [
    "from string import ascii_uppercase\n",
    "au_set = set(ascii_uppercase)\n",
    "def num_uppercase(s: str) -> int:\n",
    "    '''\n",
    "    Return the number of uppercase English letters present in a given string (s).\n",
    "    Ex.: 'abJefQdF' -> 3\n",
    "    '''\n",
    "    cnt = 0\n",
    "    for ch in s:\n",
    "        if ch in au_set:\n",
    "            cnt += 1\n",
    "    return cnt"
   ]
  },
  {
   "cell_type": "code",
   "execution_count": 83,
   "metadata": {},
   "outputs": [],
   "source": [
    "# test\n",
    "import random; from string import ascii_letters\n",
    "def _gen_test(): return ''.join(random.choices(ascii_letters, k=random.randint(10, 100)))\n",
    "\n",
    "for _ in range(10):\n",
    "    t_ = _gen_test()\n",
    "    assert (r:=num_uppercase(t_)) == (ans:=sum(ch1 == ch2 for ch1, ch2 in zip(t_, t_.upper()))), \\\n",
    "        f'wrong value in test [{t_}]: must be {ans}, got {r}'"
   ]
  },
  {
   "attachments": {},
   "cell_type": "markdown",
   "metadata": {},
   "source": [
    "## Problem 3\n"
   ]
  },
  {
   "attachments": {},
   "cell_type": "markdown",
   "metadata": {},
   "source": [
    "The Robot has 4 moves: up(0), down(1), left(2), right(3). Starting at the origin (0, 0), it moves on a plane by executing commands.\n",
    "\n",
    "For example, by executing [0, 0, 2, 0] (that is, \"up, up, left, up\") it will move to the point (-1, 3)."
   ]
  },
  {
   "cell_type": "code",
   "execution_count": 1,
   "metadata": {},
   "outputs": [],
   "source": [
    "def unique_points(cmd_sequence: list[int]) -> int:\n",
    "    '''\n",
    "    Return the number of unique points* visited by the Robot after\n",
    "    it completes the command sequence (cmd_sequence).\n",
    "    Ex.: [0, 0, 3] -> 4     (points (0, 0), (0, 1), (0, 2), (1, 2))\n",
    "    Ex.: [0, 1, 0, 1] -> 2  (points (0, 0), (0, 1))\n",
    "    Ex.: [0, 0, 1, 1] -> 3  (points (0, 0), (0, 1), (0, 2))\n",
    "    \n",
    "    *including the origin\n",
    "    '''\n",
    "    x, y = 0, 0\n",
    "    points = {(x, y)}\n",
    "    for cmd in cmd_sequence:\n",
    "        if cmd == 0:\n",
    "            y += 1\n",
    "        elif cmd == 1:\n",
    "            y -= 1\n",
    "        elif cmd == 2:\n",
    "            x -= 1\n",
    "        elif cmd == 3:\n",
    "            x += 1\n",
    "        points.add((x, y))\n",
    "    return len(points)"
   ]
  },
  {
   "cell_type": "code",
   "execution_count": 19,
   "metadata": {},
   "outputs": [],
   "source": [
    "# test\n",
    "assert unique_points([0, 0, 3]) == 4\n",
    "assert unique_points([0, 1, 0, 1]) == 2\n",
    "assert unique_points([0, 0, 1, 1]) == 3\n",
    "import random\n",
    "random.seed(1)\n",
    "TESTS = [random.choices(range(4), k=random.randint(4, 15)) for _ in range(20)]\n",
    "ANSWERS = [6, 8, 5, 5, 7, 10, 8, 10, 3, 11, 4, 5, 8, 9, 8, 7, 8, 7, 10, 7]\n",
    "for t_, ans_ in zip(TESTS, ANSWERS):\n",
    "    assert (res_ := unique_points(t_)) == ans_, \\\n",
    "        f'wrong value in test [{t_}]: must be {ans_}, got {res_}'"
   ]
  },
  {
   "attachments": {},
   "cell_type": "markdown",
   "metadata": {},
   "source": [
    "## Problem 4"
   ]
  },
  {
   "attachments": {},
   "cell_type": "markdown",
   "metadata": {},
   "source": [
    "`set`s are essentially `dict`s, but with the **value** part discarded. Rewrite the following function, using `dict` instead of `set`."
   ]
  },
  {
   "cell_type": "code",
   "execution_count": 23,
   "metadata": {},
   "outputs": [
    {
     "name": "stdout",
     "output_type": "stream",
     "text": [
      "Help on method_descriptor:\n",
      "\n",
      "keys(...)\n",
      "    D.keys() -> a set-like object providing a view on D's keys\n",
      "\n",
      "dict_keys([1, 4, 2]) <class 'dict_keys'>\n",
      "True\n",
      "{2}\n"
     ]
    }
   ],
   "source": [
    "# the keys of any dict object are set-like\n",
    "help(dict.keys)\n",
    "\n",
    "# this means we can do set operations as efficiently as with normal sets\n",
    "d = {1: 3, 4: 5, 2: 4}\n",
    "print(d.keys(), type(d.keys()))\n",
    "print(1 in d.keys()) # same as `1 in d`\n",
    "print({2, 5} & d.keys()) # set intersection; note: works even though d.keys() is not a pure set"
   ]
  },
  {
   "cell_type": "code",
   "execution_count": 21,
   "metadata": {},
   "outputs": [],
   "source": [
    "def problem4_set(nums: list[int]) -> int:\n",
    "    #? what does this function do?\n",
    "    st = set()\n",
    "    for num in nums:\n",
    "        if num in st:\n",
    "            st.remove(num)\n",
    "        else:\n",
    "            st.add(num)\n",
    "    return sum(st)\n",
    "\n",
    "def problem4_dict(nums: list[int]) -> int:\n",
    "    d = {}\n",
    "    for num in nums:\n",
    "        if num not in d:\n",
    "            d[num] = 0\n",
    "        else:\n",
    "            del d[num]\n",
    "    return sum(d.keys())"
   ]
  },
  {
   "cell_type": "code",
   "execution_count": 22,
   "metadata": {},
   "outputs": [],
   "source": [
    "# test\n",
    "for test_ in [[1, 2, 1], [2, 3, 2, 4, 4, 4, 5, 1], [1, 1, 1, 1], [1, 1, 1]]:\n",
    "    assert problem4_set(test_) == problem4_dict(test_), \\\n",
    "        f'test {test_} failed' "
   ]
  },
  {
   "attachments": {},
   "cell_type": "markdown",
   "metadata": {},
   "source": [
    "## Problem 5"
   ]
  },
  {
   "attachments": {},
   "cell_type": "markdown",
   "metadata": {},
   "source": [
    "A sentence is called a **pangram** if it contains every English letter at least once.\n",
    "\n",
    "For example, `'A quick brown fox jumps over the lazy dog'` is a pangram, while `'hello, world'` is obviously not."
   ]
  },
  {
   "cell_type": "code",
   "execution_count": 19,
   "metadata": {},
   "outputs": [],
   "source": [
    "def is_pangram(s: str) -> bool:\n",
    "    '''\n",
    "    Check if a given string (s) is an English pangram. Ignore cases and all non-alpha symbols.\n",
    "    You may not use dictionaries, only sets.\n",
    "    '''\n",
    "    return sum(ch.isalpha() for ch in {*s.lower()}) == 26"
   ]
  },
  {
   "cell_type": "code",
   "execution_count": 140,
   "metadata": {},
   "outputs": [],
   "source": [
    "# test\n",
    "assert is_pangram('A quick brown fox jumps over the lazy dog')\n",
    "assert not is_pangram('hello, world')\n",
    "TESTS = [\n",
    "    ('jxrlrvqCeqwQsrXOrPaxNBydteCepgjefhz', False),\n",
    "    ('nkGymJDTwqsEivzaoRpbxCLfhu', True),\n",
    "    ('MQnxyiqcuqCQVlpaoxtJrzlfGrzrb', False),\n",
    "    ('bwyghjugiWByYgiigaqPacfoDb', False),\n",
    "    ('efneltwzgYqCXoJDUVhkIMRbaSp', True),\n",
    "    ('ecvtSgyWsfonuwocdcQrqLsivhmi', False),\n",
    "    ('xShijnkuJgBemcGvyqffrZwoTgpdla', True),\n",
    "    ('boYsTadzfGpvluQwxKRHijEwmnc', True),\n",
    "    ('VshmTwFAZJlyiBcUkOxerqgNdp', True),\n",
    "    ('gwCBAmQPFXvElvUDryTsjzikNoH', True),\n",
    "    ('FmSiFaSriYtiszxpMOnzdlcjx', False),\n",
    "    ('acjjXwvqlxuAqInujozoaDIDvYeljndvvpiYh', False),\n",
    "    ('DWayvRTuhskBNuilvOQjxEPoCfngMz', True),\n",
    "    ('rxFvkBIHdKecqsptJolzgwYnaMu', True),\n",
    "    ('fopfeutkGpbqqKerYbwxgFNomi', False)\n",
    "]\n",
    "for t_, ans_ in TESTS:\n",
    "    assert (res_:=is_pangram(t_)) == ans_, f'test {t_} failed: expected {ans_}, got {res_}'"
   ]
  },
  {
   "attachments": {},
   "cell_type": "markdown",
   "metadata": {},
   "source": [
    "## Problem 6"
   ]
  },
  {
   "attachments": {},
   "cell_type": "markdown",
   "metadata": {},
   "source": [
    "Solve the problem \"Valid Password\". You can find the corresponding skeleton `valid_password.py` in the skeleton's folder."
   ]
  }
 ],
 "metadata": {
  "kernelspec": {
   "display_name": "thevenv",
   "language": "python",
   "name": "python3"
  },
  "language_info": {
   "codemirror_mode": {
    "name": "ipython",
    "version": 3
   },
   "file_extension": ".py",
   "mimetype": "text/x-python",
   "name": "python",
   "nbconvert_exporter": "python",
   "pygments_lexer": "ipython3",
   "version": "3.11.2"
  },
  "orig_nbformat": 4
 },
 "nbformat": 4,
 "nbformat_minor": 2
}
