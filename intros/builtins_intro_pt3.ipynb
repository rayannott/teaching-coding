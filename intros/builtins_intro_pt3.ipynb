{
 "cells": [
  {
   "attachments": {},
   "cell_type": "markdown",
   "metadata": {},
   "source": [
    "In this part the following modules will be covered:\n",
    "\n",
    "- file handling: `os json pickle pathlib`"
   ]
  },
  {
   "attachments": {},
   "cell_type": "markdown",
   "metadata": {},
   "source": [
    "# Part 3. Standard library: file handling\n",
    "\n",
    "The task is the same: replace `...` (Ellipsis) symbols with suitable pieces of code and run the tests."
   ]
  },
  {
   "cell_type": "code",
   "execution_count": 2,
   "metadata": {},
   "outputs": [],
   "source": [
    "FILES_STR = 'pt3_files'"
   ]
  },
  {
   "attachments": {},
   "cell_type": "markdown",
   "metadata": {},
   "source": [
    "## `os`\n",
    "\n",
    "You can use this module to access files and directories on your PC."
   ]
  },
  {
   "cell_type": "code",
   "execution_count": 3,
   "metadata": {},
   "outputs": [],
   "source": [
    "import os"
   ]
  },
  {
   "attachments": {},
   "cell_type": "markdown",
   "metadata": {},
   "source": [
    "`os.path.join`\n",
    "\n",
    "This function enables you to join paths. This method is in all ways superior to concatenating path strings with `+` as it takes into account OS-specific symbols.\n",
    "\n",
    "Let's create a path to the `1.json` file located in `json_files/` subdirectory in `FILES` directory"
   ]
  },
  {
   "cell_type": "code",
   "execution_count": 4,
   "metadata": {},
   "outputs": [
    {
     "name": "stdout",
     "output_type": "stream",
     "text": [
      "pt3_files/json_files/foijy.json\n",
      "pt3_files\\json_files\\foijy.json\n"
     ]
    }
   ],
   "source": [
    "JSON_SUBDIR = 'json_files'; FILENAME = 'foijy.json'\n",
    "bad_way = FILES_STR + '/' + JSON_SUBDIR + '/' + FILENAME\n",
    "good_way = os.path.join(FILES_STR, JSON_SUBDIR, FILENAME)\n",
    "# note: there's even a better way to do this with pathlib\n",
    "\n",
    "print(bad_way, good_way, sep='\\n')"
   ]
  },
  {
   "attachments": {},
   "cell_type": "markdown",
   "metadata": {},
   "source": [
    "`os.listdir`\n",
    "\n",
    "Use this function to get a list of all files in a directory."
   ]
  },
  {
   "cell_type": "code",
   "execution_count": 5,
   "metadata": {},
   "outputs": [],
   "source": [
    "def all_json_files_os() -> list[str]:\n",
    "    '''\n",
    "    Return a list of all .json filenames from the `json_files/` directory.\n",
    "    '''\n",
    "    return [filename for filename in os.listdir(os.path.join(FILES_STR, JSON_SUBDIR)) if filename.endswith('.json')]"
   ]
  },
  {
   "cell_type": "code",
   "execution_count": 6,
   "metadata": {},
   "outputs": [],
   "source": [
    "# test\n",
    "res = all_json_files_os()\n",
    "assert len(res) == 5, 'Wrong number of json files'\n",
    "assert all(el.endswith('.json') for el in res), 'Contains non-json file formats'\n"
   ]
  },
  {
   "attachments": {},
   "cell_type": "markdown",
   "metadata": {},
   "source": [
    "## `pathlib`\n",
    "\n",
    "An even better (object-oriented) way to deal with paths. \n",
    "\n",
    "This modules allows for storing them now as strings, but as the `Path` objects."
   ]
  },
  {
   "cell_type": "code",
   "execution_count": 7,
   "metadata": {},
   "outputs": [],
   "source": [
    "from pathlib import Path"
   ]
  },
  {
   "attachments": {},
   "cell_type": "markdown",
   "metadata": {},
   "source": [
    "We use the intuitive division operator (`/`) to create child paths.\n",
    "\n",
    "Note: when getting child pathds (`A / B / C`) it is sufficient that only one of those is a `Path` object, the rest can be strings. E.g.:\n",
    "- `Path('A') / Path('B') / Path('C')` -- ok, but not necessary;\n",
    "- `Path('A') / 'B' / 'C'` -- ok;\n",
    "- `'A' / Path('B') / 'C'` -- ok;\n",
    "- `'A' / 'B' / 'C'` -- not ok, because all are strings."
   ]
  },
  {
   "cell_type": "code",
   "execution_count": 9,
   "metadata": {},
   "outputs": [
    {
     "name": "stdout",
     "output_type": "stream",
     "text": [
      "pt3_files\\json_files\\foijy.json\n"
     ]
    }
   ],
   "source": [
    "FILES_PL = Path(FILES_STR); JSON_SUBDIR_STR = 'json_files'; FILENAME = 'foijy.json'\n",
    "\n",
    "best_way = FILES_PL / JSON_SUBDIR / FILENAME\n",
    "print(best_way)"
   ]
  },
  {
   "attachments": {},
   "cell_type": "markdown",
   "metadata": {},
   "source": [
    "Also get useful information about the file/folder at destination:"
   ]
  },
  {
   "cell_type": "code",
   "execution_count": 10,
   "metadata": {},
   "outputs": [
    {
     "name": "stdout",
     "output_type": "stream",
     "text": [
      "is directory (points to a folder): False\n",
      "is file: True\n",
      "check if the file exists: True\n",
      "file's extension: .json\n",
      "file's size: 894 bytes\n"
     ]
    }
   ],
   "source": [
    "print('is directory (points to a folder):', best_way.is_dir())\n",
    "print('is file:', best_way.is_file())\n",
    "print('check if the file exists:', best_way.exists())\n",
    "print('file\\'s extension:', best_way.suffix)\n",
    "print('file\\'s size:', best_way.stat().st_size, 'bytes')"
   ]
  },
  {
   "attachments": {},
   "cell_type": "markdown",
   "metadata": {},
   "source": [
    "We can even open the file with the `.open` method:"
   ]
  },
  {
   "cell_type": "code",
   "execution_count": null,
   "metadata": {},
   "outputs": [],
   "source": [
    "with best_way.open() as f:\n",
    "    print(f.read())\n",
    "\n",
    "# this is literally the same as\n",
    "#   with open(best_way) as f:\n",
    "#       print(f.read())"
   ]
  },
  {
   "attachments": {},
   "cell_type": "markdown",
   "metadata": {},
   "source": [
    "You can use these `Path` objects in same way as the string paths. However, they come with added functionality. "
   ]
  },
  {
   "cell_type": "code",
   "execution_count": 13,
   "metadata": {},
   "outputs": [
    {
     "name": "stdout",
     "output_type": "stream",
     "text": [
      "c:\\Users\\Airat\\contents\\teaching-coding\\intros\\pt3_files\\json_files\\foijy.json\n"
     ]
    }
   ],
   "source": [
    "# return the absolute path\n",
    "abs_path = best_way.absolute() # or .resolve()\n",
    "print(abs_path)"
   ]
  },
  {
   "cell_type": "code",
   "execution_count": 18,
   "metadata": {},
   "outputs": [
    {
     "name": "stdout",
     "output_type": "stream",
     "text": [
      "('pt3_files', 'json_files', 'foijy.json')\n",
      "('c:\\\\', 'Users', 'Airat', 'contents', 'teaching-coding', 'intros', 'pt3_files', 'json_files', 'foijy.json')\n"
     ]
    }
   ],
   "source": [
    "# return the path parts\n",
    "print(best_way.parts)\n",
    "\n",
    "# return all path parts\n",
    "print(abs_path.parts) "
   ]
  },
  {
   "cell_type": "code",
   "execution_count": 15,
   "metadata": {},
   "outputs": [
    {
     "name": "stdout",
     "output_type": "stream",
     "text": [
      "all files: [WindowsPath('pt3_files/json_files/abfdfg.json'), WindowsPath('pt3_files/json_files/adghgr.json'), WindowsPath('pt3_files/json_files/d9iwer.json'), WindowsPath('pt3_files/json_files/foijy.json'), WindowsPath('pt3_files/json_files/siouyue.json'), WindowsPath('pt3_files/json_files/trash.txt'), WindowsPath('pt3_files/json_files/trash2.dat')]\n",
      "json only: [WindowsPath('pt3_files/json_files/abfdfg.json'), WindowsPath('pt3_files/json_files/adghgr.json'), WindowsPath('pt3_files/json_files/d9iwer.json'), WindowsPath('pt3_files/json_files/foijy.json'), WindowsPath('pt3_files/json_files/siouyue.json')]\n"
     ]
    }
   ],
   "source": [
    "# return the contents of a directory matching a given pattern\n",
    "json_folder = FILES_PL / JSON_SUBDIR\n",
    "print('all files:', list(json_folder.glob(pattern='*.*'))) \n",
    "print('json only:', list(json_folder.glob(pattern='*.json'))) "
   ]
  },
  {
   "attachments": {},
   "cell_type": "markdown",
   "metadata": {},
   "source": [
    "Further reading: https://docs.python.org/3/library/pathlib.html"
   ]
  },
  {
   "cell_type": "code",
   "execution_count": 57,
   "metadata": {},
   "outputs": [],
   "source": [
    "def no_a_files() -> list[Path]:\n",
    "    \"\"\"\n",
    "    Return a list of paths of all files from the `pt3_files` directory that don't contain the letter 'a'\n",
    "    in their name (only the name, not the full path!)\n",
    "    \"\"\"\n",
    "    # hint: use FILES_PL\n",
    "    return [file for file in FILES_PL.rglob('*.*') if 'a' not in file.name]"
   ]
  },
  {
   "cell_type": "code",
   "execution_count": 58,
   "metadata": {},
   "outputs": [],
   "source": [
    "# test\n",
    "res = no_a_files()\n",
    "assert len(res) == 5\n",
    "assert all(isinstance(p, Path) for p in res)\n",
    "assert all('pt3_files' in p.parts for p in res)\n",
    "assert {p.stem for p in res} == {'d9iwer', 'foijy', 'rubbish', 'siouyue', 'ids'}"
   ]
  },
  {
   "cell_type": "markdown",
   "metadata": {},
   "source": [
    "Now, write the same all_json_files function, but use `pathlib` instead of os (like you should)."
   ]
  },
  {
   "cell_type": "code",
   "execution_count": 43,
   "metadata": {},
   "outputs": [],
   "source": [
    "def all_json_files() -> list[Path]:\n",
    "    '''\n",
    "    Return a list of all .json filenames from the `json_files/` directory.\n",
    "    '''\n",
    "    return list((FILES_PL / JSON_SUBDIR).glob('*.json'))"
   ]
  },
  {
   "cell_type": "code",
   "execution_count": 46,
   "metadata": {},
   "outputs": [],
   "source": [
    "# test\n",
    "res = all_json_files()\n",
    "assert len(res) == 5\n",
    "assert all(p.suffix == '.json' for p in res)\n",
    "assert all(p.is_file() for p in res)\n",
    "assert all('pt3_files' in p.parts for p in res)"
   ]
  },
  {
   "attachments": {},
   "cell_type": "markdown",
   "metadata": {},
   "source": [
    "## `json`\n",
    "\n",
    "JSON format is widely used to serialize dictionary-like objects.\n",
    "\n",
    "It can store any combination of pure:\n",
    "- strings\n",
    "- numbers\n",
    "- lists\n",
    "- dictionaries\n",
    "- boolean values\n",
    "- `None`\n",
    "objects (their json representations, rather)."
   ]
  },
  {
   "cell_type": "code",
   "execution_count": 34,
   "metadata": {},
   "outputs": [],
   "source": [
    "import json"
   ]
  },
  {
   "cell_type": "markdown",
   "metadata": {},
   "source": [
    "For example, this is a valid JSON:"
   ]
  },
  {
   "cell_type": "code",
   "execution_count": 35,
   "metadata": {},
   "outputs": [],
   "source": [
    "valid_json = {\n",
    "    \"key1\": \"value1\",\n",
    "    \"key2\": 2,\n",
    "    \"key3\": [1, 2, 3],\n",
    "    \"key4\": {\n",
    "        \"key5\": \"value5\"\n",
    "    },\n",
    "    \"key6\": True,\n",
    "    \"key7\": None\n",
    "}"
   ]
  },
  {
   "cell_type": "code",
   "execution_count": 36,
   "metadata": {},
   "outputs": [
    {
     "data": {
      "text/plain": [
       "'{\"key1\": \"value1\", \"key2\": 2, \"key3\": [1, 2, 3], \"key4\": {\"key5\": \"value5\"}, \"key6\": true, \"key7\": null}'"
      ]
     },
     "execution_count": 36,
     "metadata": {},
     "output_type": "execute_result"
    }
   ],
   "source": [
    "# `dumps` function converts a Python object into a json string if possible\n",
    "json.dumps(valid_json)"
   ]
  },
  {
   "cell_type": "markdown",
   "metadata": {},
   "source": [
    "And this is not:"
   ]
  },
  {
   "cell_type": "code",
   "execution_count": 39,
   "metadata": {},
   "outputs": [],
   "source": [
    "invalid_json = {\n",
    "    (1, 2): \"read the error message!\",\n",
    "    \"try putting each\": lambda x: 2*x,\n",
    "    \"of these lines\": json,\n",
    "    \"on the first line in this object\": slice(0, None, None)\n",
    "}"
   ]
  },
  {
   "cell_type": "code",
   "execution_count": null,
   "metadata": {},
   "outputs": [],
   "source": [
    "json.dumps(invalid_json) # TypeError: Object of type 'function' is not JSON serializable"
   ]
  },
  {
   "attachments": {},
   "cell_type": "markdown",
   "metadata": {},
   "source": [
    "Read that `abfdfg.json` json file and return it as a `dict` object."
   ]
  },
  {
   "cell_type": "code",
   "execution_count": 41,
   "metadata": {},
   "outputs": [],
   "source": [
    "def simple_read_json() -> dict:\n",
    "    '''\n",
    "    Returns a dictionary generated from the contents of ./pt2.2_files/json_files/abfdfg.json.\n",
    "    '''\n",
    "    path = Path(FILES_PL) / JSON_SUBDIR / 'abfdfg.json'\n",
    "    with path.open() as f:\n",
    "        return json.load(f)"
   ]
  },
  {
   "cell_type": "code",
   "execution_count": 48,
   "metadata": {},
   "outputs": [],
   "source": [
    "# test\n",
    "res = simple_read_json()\n",
    "assert res['school_name'] == 'HSE'\n",
    "assert res['reg_code'][:4] == 'dbf3'\n",
    "assert len(res['grades']) == 26"
   ]
  },
  {
   "attachments": {},
   "cell_type": "markdown",
   "metadata": {},
   "source": [
    "Do the tests pass?\n",
    "\n",
    "If yes, now use the `all_json_files` function to get all json filenames, open all of them one by one, create a summary in one `list` of `dict`s and save it to a file called `summary.json` to the `pt2.2_files/output/` directory.\n",
    "\n",
    "The summary dictionary should have the following format:\n",
    "\n",
    "```\n",
    "summary = [\n",
    "    {\n",
    "        'school_name': ...,\n",
    "        'reg_code_7': ...,\n",
    "        'average_grade': ...\n",
    "    },\n",
    "    ...\n",
    "]\n",
    "```\n",
    "\n",
    "That is, a list of dictionaries with the following keys: \n",
    "- `school_name`, \n",
    "- `reg_code_7` (first 7 charachters of the original `'reg_code'`)\n",
    "- `average_grade` (arithmetic mean of the original `'grades'` list rounded to 3 decimal digits)."
   ]
  },
  {
   "cell_type": "code",
   "execution_count": 49,
   "metadata": {},
   "outputs": [],
   "source": [
    "from statistics import mean # use this instead of sum(grades)/len(grades)\n",
    "\n",
    "def create_summary_object() -> list[dict]:\n",
    "    '''\n",
    "    Create a summary object as described above\n",
    "    in a form of a list of dictionaries.\n",
    "\n",
    "    Hint 1: use `all_json_files` to access the filenames.\n",
    "    '''\n",
    "    json_files = all_json_files()\n",
    "    summary = []\n",
    "    for jf in json_files:\n",
    "        with jf.open() as f:\n",
    "            raw_data = json.load(f)\n",
    "        summary.append(\n",
    "            {\n",
    "                'school_name': raw_data['school_name'],\n",
    "                'reg_code_7': raw_data['reg_code'][:7],\n",
    "                'average_grade': round(mean(raw_data['grades']), 3)\n",
    "            }\n",
    "        )\n",
    "    return summary"
   ]
  },
  {
   "cell_type": "code",
   "execution_count": 61,
   "metadata": {},
   "outputs": [],
   "source": [
    "# test\n",
    "res = create_summary_object()\n",
    "assert isinstance(res, list), 'result must be a list object'\n",
    "assert all(isinstance(el, dict) for el in res), 'each element must be a dict object'\n",
    "assert len(res) == 5\n",
    "assert {el['reg_code_7'] for el in res} == {'dbf3fd7', 'e5dcffe', 'c701f30', '51c670b', 'bfe3a1c'}, \\\n",
    "    'Something wrong with the reg_code_7 fields'"
   ]
  },
  {
   "attachments": {},
   "cell_type": "markdown",
   "metadata": {},
   "source": [
    "Now, save this object in the `summary.json` file."
   ]
  },
  {
   "cell_type": "code",
   "execution_count": 55,
   "metadata": {},
   "outputs": [],
   "source": [
    "SAVE_TO = Path(FILES_PL) / 'output' / 'summary.json'\n",
    "\n",
    "def save_summary():\n",
    "    '''\n",
    "    Save the result of `create_summary_object` to a file named `summary.json` in the `output` directory.\n",
    "    '''\n",
    "    summary = create_summary_object()\n",
    "    SAVE_TO.parent.mkdir(parents=True, exist_ok=True)\n",
    "    with open(SAVE_TO, 'w') as f:\n",
    "        json.dump(summary, f)\n",
    "\n",
    "save_summary()"
   ]
  },
  {
   "cell_type": "code",
   "execution_count": 56,
   "metadata": {},
   "outputs": [],
   "source": [
    "# test\n",
    "assert SAVE_TO.exists(), f'{SAVE_TO} file does not exist'\n",
    "with SAVE_TO.open() as f: assert res == json.load(f), 'Object saved and object created are not equal'"
   ]
  },
  {
   "cell_type": "markdown",
   "metadata": {},
   "source": [
    "## `.jsonl` files\n",
    "\n",
    "JSONL (JSON Lines) is a format where each line is a separate JSON object. This is useful when you want to store a large number of JSON objects in a single file and read them one by one **without loading the whole file into memory**.\n",
    "\n",
    "This file format is often used to store logs, for example."
   ]
  },
  {
   "cell_type": "markdown",
   "metadata": {},
   "source": [
    "The `pt3_files/grades.jsonl` file contains a list of dictionaries, each representing a student's points.\n",
    "\n",
    "For example:\n",
    "```jsonl\n",
    "{\"id\": 126783, \"grades\": 84.9}\n",
    "{\"id\": 437584, \"grades\": 54.1}\n",
    "{\"id\": 912947, \"grades\": 77.0}\n",
    "```\n",
    "\n",
    "Read the file <ins>**line by line**</ins> and return a tuple containing\n",
    "- the average grade of all students\n",
    "- the id of the student with the highest grade\n",
    "\n",
    "For the example above, the result would be `(72.0, 126783)`."
   ]
  },
  {
   "cell_type": "code",
   "execution_count": 72,
   "metadata": {},
   "outputs": [
    {
     "name": "stdout",
     "output_type": "stream",
     "text": [
      "6.41 MB\n"
     ]
    }
   ],
   "source": [
    "GRADES_JSONL = FILES_PL / 'grades.jsonl'\n",
    "\n",
    "# this file could have been much larger (to an extent where it wouldn't fit into memory), but it's just an example\n",
    "print(f'{GRADES_JSONL.stat().st_size * 2**-20:.2f} MB')"
   ]
  },
  {
   "cell_type": "code",
   "execution_count": 76,
   "metadata": {},
   "outputs": [],
   "source": [
    "def avg_and_best() -> tuple[float, int]:\n",
    "    \"\"\"\n",
    "    Read the `grades.jsonl` file and return a tuple with\n",
    "    the average grade and the id of the highest performing student.\n",
    "\n",
    "    Do not round the average grade, just return the float as is.\n",
    "\n",
    "    DO NOT LOAD THE WHOLE FILE INTO MEMORY!\n",
    "    \"\"\"\n",
    "    with GRADES_JSONL.open() as f:\n",
    "        best_id, best_grade = 0, 0.\n",
    "        total, count = 0., 0\n",
    "        for line in f:\n",
    "            data = json.loads(line)\n",
    "            total += data['grade']\n",
    "            count += 1\n",
    "            if data['grade'] > best_grade:\n",
    "                best_id, best_grade = data['id'], data['grade']\n",
    "        return total / count, best_id"
   ]
  },
  {
   "cell_type": "code",
   "execution_count": 77,
   "metadata": {},
   "outputs": [],
   "source": [
    "# test\n",
    "import math\n",
    "\n",
    "avg, best = avg_and_best()\n",
    "assert math.isclose(avg, 50.50800419530119)\n",
    "assert best == 125359"
   ]
  },
  {
   "attachments": {},
   "cell_type": "markdown",
   "metadata": {},
   "source": [
    "### BONUS: reading `json` from urls"
   ]
  },
  {
   "attachments": {},
   "cell_type": "markdown",
   "metadata": {},
   "source": [
    "One can also read json data directly from a url address:"
   ]
  },
  {
   "cell_type": "code",
   "execution_count": 78,
   "metadata": {},
   "outputs": [],
   "source": [
    "from urllib.request import urlopen\n",
    "\n",
    "URL = 'https://global-warming.org/api/ocean-warming-api'\n",
    "response = urlopen(URL)\n",
    "\n",
    "data = json.loads(response.read())"
   ]
  },
  {
   "cell_type": "code",
   "execution_count": 79,
   "metadata": {},
   "outputs": [
    {
     "name": "stdout",
     "output_type": "stream",
     "text": [
      "{'error': None, 'result': {'1880': '-0.03', '1881': '0.04', '1882': '0.03', '1883': '-0.04', '1884': '-0.12', '1885': '-0.17', '1886': '-0.16', '1887': '-0.20', '1888': '-0.01', '1889': '0.00', '1890': '-0.24', '1891': '-0.09', '1892': '-0.14', '1893': '-0.19', '1894': '-0.21', '1895': '-0.10', '1896': '0.03', '1897': '-0.01', '1898': '-0.17', '1899': '-0.10', '1900': '-0.02', '1901': '-0.12', '1902': '-0.19', '1903': '-0.34', '1904': '-0.43', '1905': '-0.22', '1906': '-0.19', '1907': '-0.27', '1908': '-0.40', '1909': '-0.44', '1910': '-0.41', '1911': '-0.40', '1912': '-0.25', '1913': '-0.30', '1914': '-0.15', '1915': '-0.08', '1916': '-0.26', '1917': '-0.32', '1918': '-0.18', '1919': '-0.20', '1920': '-0.21', '1921': '-0.18', '1922': '-0.24', '1923': '-0.24', '1924': '-0.24', '1925': '-0.21', '1926': '-0.11', '1927': '-0.17', '1928': '-0.21', '1929': '-0.27', '1930': '-0.14', '1931': '-0.10', '1932': '-0.18', '1933': '-0.23', '1934': '-0.17', '1935': '-0.17', '1936': '-0.13', '1937': '-0.04', '1938': '-0.11', '1939': '-0.04', '1940': '0.16', '1941': '0.28', '1942': '0.10', '1943': '0.07', '1944': '0.24', '1945': '0.22', '1946': '-0.05', '1947': '-0.06', '1948': '-0.11', '1949': '-0.07', '1950': '-0.09', '1951': '0.00', '1952': '0.07', '1953': '0.05', '1954': '-0.11', '1955': '-0.12', '1956': '-0.09', '1957': '0.10', '1958': '0.12', '1959': '0.06', '1960': '0.06', '1961': '0.08', '1962': '0.06', '1963': '0.08', '1964': '-0.08', '1965': '-0.04', '1966': '0.02', '1967': '0.00', '1968': '0.02', '1969': '0.19', '1970': '0.07', '1971': '-0.06', '1972': '0.12', '1973': '0.15', '1974': '-0.01', '1975': '-0.02', '1976': '0.02', '1977': '0.21', '1978': '0.14', '1979': '0.27', '1980': '0.29', '1981': '0.25', '1982': '0.24', '1983': '0.32', '1984': '0.21', '1985': '0.18', '1986': '0.23', '1987': '0.38', '1988': '0.33', '1989': '0.27', '1990': '0.37', '1991': '0.34', '1992': '0.25', '1993': '0.26', '1994': '0.30', '1995': '0.34', '1996': '0.31', '1997': '0.47', '1998': '0.52', '1999': '0.31', '2000': '0.33', '2001': '0.45', '2002': '0.48', '2003': '0.50', '2004': '0.49', '2005': '0.49', '2006': '0.49', '2007': '0.40', '2008': '0.39', '2009': '0.52', '2010': '0.53', '2011': '0.41', '2012': '0.48', '2013': '0.51', '2014': '0.60', '2015': '0.72', '2016': '0.76', '2017': '0.70', '2018': '0.66', '2019': '0.74', '2020': '0.73', '2021': '0.63', '2022': '0.67'}, 'description': {'title': 'Global Ocean January - December Temperature Anomalies', 'units': 'Degrees Celsius', 'base_period': '1901-2000', 'missing': '-999'}}\n",
      "{'title': 'Global Ocean January - December Temperature Anomalies', 'units': 'Degrees Celsius', 'base_period': '1901-2000', 'missing': '-999'}\n",
      "in total: 143 temperature measurements\n"
     ]
    }
   ],
   "source": [
    "print(data)\n",
    "print(data['description'])\n",
    "print(f'in total: {len(data[\"result\"])} temperature measurements')"
   ]
  },
  {
   "cell_type": "code",
   "execution_count": 80,
   "metadata": {},
   "outputs": [],
   "source": [
    "def create_years_anomalies() -> tuple[list[int], list[float]]:\n",
    "    '''\n",
    "    Extract useful measurements from the `data` dictionary stored under the `'result'` key\n",
    "    as another dictionary.\n",
    "    Return a tuple of (list of years as ints, list of temperatures as floats)\n",
    "    '''\n",
    "    years = []; anomalies = []\n",
    "    for y, a in data['result'].items():\n",
    "        years.append(int(y))\n",
    "        anomalies.append(float(a))\n",
    "    return years, anomalies"
   ]
  },
  {
   "cell_type": "code",
   "execution_count": 81,
   "metadata": {},
   "outputs": [],
   "source": [
    "yrs, anom = create_years_anomalies()"
   ]
  },
  {
   "cell_type": "code",
   "execution_count": 83,
   "metadata": {},
   "outputs": [],
   "source": [
    "# test\n",
    "import math\n",
    "assert isinstance(yrs[0], int), 'Elements of yrs must be integers'\n",
    "assert isinstance(anom[0], float), 'Elements of anom must be floats'"
   ]
  },
  {
   "attachments": {},
   "cell_type": "markdown",
   "metadata": {},
   "source": [
    "If previous tests passed, run the second next cell to plot a graph of \"temperature anomaly by year\".\n",
    "\n",
    "Make sure that you have the `matplotlib` module installed by running the next cell."
   ]
  },
  {
   "cell_type": "code",
   "execution_count": null,
   "metadata": {},
   "outputs": [],
   "source": [
    "%pip install matplotlib"
   ]
  },
  {
   "cell_type": "code",
   "execution_count": 84,
   "metadata": {},
   "outputs": [
    {
     "data": {
      "image/png": "[encoded data removed]",
      "text/plain": [
       "<Figure size 640x480 with 1 Axes>"
      ]
     },
     "metadata": {},
     "output_type": "display_data"
    }
   ],
   "source": [
    "from matplotlib import pyplot as plt\n",
    "from statistics import mean\n",
    "\n",
    "# generating sliding average data\n",
    "anom_sliding = []\n",
    "win_size = 5\n",
    "for i in range(win_size, len(anom) - win_size):\n",
    "    anom_sliding.append(mean(anom[i-win_size:i+win_size]))\n",
    "\n",
    "# plt.plot(yrs, [0] * len(yrs))\n",
    "plt.plot(yrs, anom, ':.', label='data points')\n",
    "plt.plot(yrs[win_size:-win_size], anom_sliding, label='sliding average')\n",
    "plt.title('Temperature anomaly by year')\n",
    "plt.xlabel('year')\n",
    "plt.ylabel('anomaly, degrees Celsius')\n",
    "plt.grid()\n",
    "plt.legend()\n",
    "plt.show()"
   ]
  },
  {
   "attachments": {},
   "cell_type": "markdown",
   "metadata": {},
   "source": [
    "## `csv`\n",
    "\n",
    "CSV = comma separated values. It's a serialization method to store table-like objects.\n",
    "\n",
    "First line contains names of the columns (normally, separated by commas). Next lines contain data corresponding to those columns. Take a look at the `pt2.2_files/csv_files/example.csv` file to get a better picture of how the data is stored."
   ]
  },
  {
   "cell_type": "code",
   "execution_count": 85,
   "metadata": {},
   "outputs": [],
   "source": [
    "import csv\n",
    "CSV_SUBDIR = Path(FILES_PL) / 'csv_files'"
   ]
  },
  {
   "attachments": {},
   "cell_type": "markdown",
   "metadata": {},
   "source": [
    "You can read a json file using the `csv.DictReader`. This will make each row a dictionary with column names as keys:"
   ]
  },
  {
   "cell_type": "code",
   "execution_count": 86,
   "metadata": {},
   "outputs": [
    {
     "name": "stdout",
     "output_type": "stream",
     "text": [
      "{'name': 'John', 'surname': 'Jordan', 'age': '34'}\n",
      "{'name': 'Kaely', 'surname': 'Nill', 'age': '32'}\n",
      "{'name': 'William', 'surname': 'Wonka', 'age': '38'}\n",
      "{'name': 'Joe', 'surname': '', 'age': '23'}\n",
      "{'name': 'Catherine', 'surname': 'Schultz', 'age': '29'}\n"
     ]
    }
   ],
   "source": [
    "with (CSV_SUBDIR / 'example.csv').open() as f:\n",
    "    csv_reader = csv.DictReader(f)\n",
    "    for row in csv_reader:\n",
    "        print(row)"
   ]
  },
  {
   "attachments": {},
   "cell_type": "markdown",
   "metadata": {},
   "source": [
    "_Note_ that an empty value in the 4th row has been replaced with an empty string."
   ]
  },
  {
   "attachments": {},
   "cell_type": "markdown",
   "metadata": {},
   "source": [
    "You probably won't need to use the `csv` module as is, because this format is supported by many site-packages (like `numpy`, `pandas`, etc.) where there exist separate functions designed to deal with `.csv` files.\n",
    "\n",
    "For example, there is how easy it is to read a matrix in `numpy`:"
   ]
  },
  {
   "cell_type": "code",
   "execution_count": null,
   "metadata": {},
   "outputs": [],
   "source": [
    "# numpy is a side-package; make sure that it is installed on your PC\n",
    "%pip install numpy"
   ]
  },
  {
   "cell_type": "code",
   "execution_count": 88,
   "metadata": {},
   "outputs": [
    {
     "name": "stdout",
     "output_type": "stream",
     "text": [
      "[[ 1  2  3]\n",
      " [ 2  5  4]\n",
      " [ 3 -5  1]]\n"
     ]
    }
   ],
   "source": [
    "import numpy as np\n",
    "MATRIX_FILEPATH = CSV_SUBDIR / 'matrix.csv'\n",
    "matr = np.loadtxt(MATRIX_FILEPATH, dtype=np.int8, delimiter=',')\n",
    "print(matr)"
   ]
  },
  {
   "cell_type": "markdown",
   "metadata": {},
   "source": [
    "### \"Titanic Survivors\" dataset\n",
    "\n",
    "Let's take a look at the titanic data - the information about the passengers of the Titanic. The file is located at `pt3_files/csv_files/titanic.csv`."
   ]
  },
  {
   "cell_type": "code",
   "execution_count": 89,
   "metadata": {},
   "outputs": [],
   "source": [
    "TITANIC_CSV = CSV_SUBDIR / 'titanic.csv'"
   ]
  },
  {
   "cell_type": "code",
   "execution_count": null,
   "metadata": {},
   "outputs": [],
   "source": []
  },
  {
   "cell_type": "markdown",
   "metadata": {},
   "source": [
    "## `pickle`\n",
    "\n",
    "See the `pickle_pickle_pickle.py` skeleton."
   ]
  },
  {
   "cell_type": "code",
   "execution_count": null,
   "metadata": {},
   "outputs": [],
   "source": [
    "# TODO: move it here"
   ]
  },
  {
   "cell_type": "code",
   "execution_count": null,
   "metadata": {},
   "outputs": [],
   "source": []
  }
 ],
 "metadata": {
  "kernelspec": {
   "display_name": "thevenv",
   "language": "python",
   "name": "python3"
  },
  "language_info": {
   "codemirror_mode": {
    "name": "ipython",
    "version": 3
   },
   "file_extension": ".py",
   "mimetype": "text/x-python",
   "name": "python",
   "nbconvert_exporter": "python",
   "pygments_lexer": "ipython3",
   "version": "3.12.0"
  },
  "orig_nbformat": 4
 },
 "nbformat": 4,
 "nbformat_minor": 2
}
