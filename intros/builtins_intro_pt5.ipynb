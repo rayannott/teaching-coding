{
 "cells": [
  {
   "cell_type": "markdown",
   "metadata": {},
   "source": [
    "In this part the following modules will be covered:\n",
    "\n",
    "- iterators from `itertools`:\n",
    "    - `combinations` and `combinations_with_replacement`\n",
    "    - `permutations`\n",
    "    - `product`\n",
    "    - `count`\n",
    "    - `repeat`\n",
    "    - `cycle`\n",
    "    - `batched`"
   ]
  },
  {
   "cell_type": "markdown",
   "metadata": {},
   "source": [
    "# Part 5. Standard library: `itertools`\n",
    "\n",
    "The task is the same: replace `...` (Ellipsis) symbols with suitable pieces of code and run the tests."
   ]
  },
  {
   "cell_type": "markdown",
   "metadata": {},
   "source": [
    "`itertools` is a module that contains many useful functions to work with iterators.\n",
    "\n",
    "Further reading: https://docs.python.org/3/library/itertools.html"
   ]
  },
  {
   "cell_type": "code",
   "execution_count": null,
   "metadata": {},
   "outputs": [],
   "source": []
  },
  {
   "cell_type": "code",
   "execution_count": null,
   "metadata": {},
   "outputs": [],
   "source": [
    "from itertools import combinations\n",
    "\n",
    "def pairwise_products(a: list[int]) -> int:\n",
    "    #? remember this problem from pt1?\n",
    "    #* now solve it using itertools.combinations\n",
    "    # note: this will be much less efficient than the linear solution.\n",
    "    '''*\n",
    "    For a list of integers find the sum of all pairwise products.\n",
    "    It is guaranteed that len(a) >= 2.\n",
    "    Ex.: [2,5,4] -> 2*5 + 2*4 + 5*4 = 38\n",
    "    '''\n",
    "    import math\n",
    "    return sum(map(math.prod, combinations(a, 2)))"
   ]
  },
  {
   "cell_type": "code",
   "execution_count": null,
   "metadata": {},
   "outputs": [],
   "source": [
    "# test pairwise_products\n",
    "assert pairwise_products([2,5,4]) == 38\n",
    "assert pairwise_products([1,2,3,4,5,6]) == 175\n",
    "assert pairwise_products([1,2,0]) == 2\n",
    "assert pairwise_products([5,3]) == 15"
   ]
  },
  {
   "cell_type": "code",
   "execution_count": null,
   "metadata": {},
   "outputs": [],
   "source": []
  },
  {
   "cell_type": "markdown",
   "metadata": {},
   "source": [
    "TODO add a huge file example (can't read it all at once)"
   ]
  }
 ],
 "metadata": {
  "language_info": {
   "name": "python"
  }
 },
 "nbformat": 4,
 "nbformat_minor": 2
}
