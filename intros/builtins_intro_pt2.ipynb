{
 "cells": [
  {
   "attachments": {},
   "cell_type": "markdown",
   "metadata": {},
   "source": [
    "This notebook provides a _very_ basic introduction to the following STD python modules:\n",
    "\n",
    "- general: `string`\n",
    "- time: `time datetime`\n",
    "- numerical: `math random`"
   ]
  },
  {
   "attachments": {},
   "cell_type": "markdown",
   "metadata": {},
   "source": [
    "Part 3 continues with\n",
    "\n",
    "- file handling: `os json pickle pathlib`\n",
    "- containter datatypes: `collections`\n",
    "- iterators: `itertools`\n",
    "- enumerators: `enum`\n",
    "- regular expressions: `re`"
   ]
  },
  {
   "attachments": {},
   "cell_type": "markdown",
   "metadata": {},
   "source": [
    "## Part 2. Standard library\n",
    "\n",
    "The task is the same: replace `...` (Ellipsis) symbols with suitable pieces of code. "
   ]
  },
  {
   "attachments": {},
   "cell_type": "markdown",
   "metadata": {},
   "source": [
    "### `string`"
   ]
  },
  {
   "cell_type": "code",
   "execution_count": null,
   "metadata": {},
   "outputs": [],
   "source": [
    "import string"
   ]
  },
  {
   "attachments": {},
   "cell_type": "markdown",
   "metadata": {},
   "source": [
    "Not much to say here, the `string` module, among other things, contains a few useful constants such as:"
   ]
  },
  {
   "cell_type": "code",
   "execution_count": null,
   "metadata": {},
   "outputs": [],
   "source": [
    "print('Lowercase letters:', repr(string.ascii_lowercase))\n",
    "print('Uppercase letters:', repr(string.ascii_uppercase))\n",
    "print('All letters:', repr(string.ascii_letters))\n",
    "print('Punctuation:', repr(string.punctuation))"
   ]
  },
  {
   "attachments": {},
   "cell_type": "markdown",
   "metadata": {},
   "source": [
    "These are all constants of type `str`.\n",
    "\n",
    "They can be used in different scenarios and are mainly there to free developers from typing them manually."
   ]
  },
  {
   "cell_type": "code",
   "execution_count": null,
   "metadata": {},
   "outputs": [],
   "source": [
    "def create_letter_number_map() -> dict[str, int]:\n",
    "    '''\n",
    "    This function returns a dictionary which maps a letter to its index.\n",
    "    Ex.: -> {'a': 0, 'b': 1, ..., 'z': 25}\n",
    "\n",
    "    Hint: use string\n",
    "    '''\n",
    "    ..."
   ]
  },
  {
   "cell_type": "code",
   "execution_count": null,
   "metadata": {},
   "outputs": [],
   "source": [
    "# test\n",
    "res = create_letter_number_map()\n",
    "assert len(res) == 26, 'failed: expected 26 letters'\n",
    "for i, ch in enumerate(string.ascii_lowercase): assert res[ch] == i, f'failed {ch}; expected {i}, got {res[ch]}'"
   ]
  },
  {
   "attachments": {},
   "cell_type": "markdown",
   "metadata": {},
   "source": [
    "Wasn't much to see here, therefore let's look at some things which the `str` type can do as a bonus.\n",
    "\n",
    "_Note_: `str` type is immutable; that is, methods cannot change the value. As opposed to the `list` type: for example, `list.sort` modifies the list object in-place."
   ]
  },
  {
   "attachments": {},
   "cell_type": "markdown",
   "metadata": {},
   "source": [
    "`str.join`\n",
    "\n",
    "One can join an iterable containing strings with a delimeter."
   ]
  },
  {
   "cell_type": "code",
   "execution_count": null,
   "metadata": {},
   "outputs": [],
   "source": [
    "a = ['a', 'b', 'c', 'd']\n",
    "res1 = ''.join(a)\n",
    "res2 = ','.join(a)\n",
    "res3 = '; '.join(a)\n",
    "res4 = 'HA'.join(a)\n",
    "print(res1, res2, res3, res4, sep='\\n')"
   ]
  },
  {
   "attachments": {},
   "cell_type": "markdown",
   "metadata": {},
   "source": [
    "Be careful since joining an iterable containing non-str values will result in an error (`TypeError`):"
   ]
  },
  {
   "cell_type": "code",
   "execution_count": null,
   "metadata": {},
   "outputs": [],
   "source": [
    "a = [1, 2, 3, 4]\n",
    "res5 = ''.join(a)"
   ]
  },
  {
   "cell_type": "code",
   "execution_count": null,
   "metadata": {},
   "outputs": [],
   "source": [
    "def joining_non_strs(a: list[int]) -> str:\n",
    "    '''\n",
    "    Fix a problem described above. That is,\n",
    "    Given a list of integers, concatenate them and return as a string.\n",
    "    Note: use the `str.join` method.\n",
    "    Ex.: [1,2,3] -> '123'; [0, 4] -> '04'\n",
    "    '''\n",
    "    ..."
   ]
  },
  {
   "cell_type": "code",
   "execution_count": null,
   "metadata": {},
   "outputs": [],
   "source": [
    "# test\n",
    "assert joining_non_strs([1,2,3]) == '123'\n",
    "assert joining_non_strs([0,4]) == '04'"
   ]
  },
  {
   "attachments": {},
   "cell_type": "markdown",
   "metadata": {},
   "source": [
    "`str.split`\n",
    "\n",
    "does the reverse of `str.join`: when called on a string, splits its contents into smaller strings on a specified character (`sep=' '`, by default)"
   ]
  },
  {
   "cell_type": "code",
   "execution_count": null,
   "metadata": {},
   "outputs": [],
   "source": [
    "str1 = '1 2 3 4'\n",
    "str2 = '1    2 3  4    \\t  \\n   5'\n",
    "str3 = '1 2,4 5,6 4'\n",
    "str4 = 'ahaahaahhaahahahhahaha'\n",
    "\n",
    "print(str1.split()) # when no separator is specified, splits on any spaces: tabs, newlines, spaces, etc.\n",
    "print(str2.split()) # ignores repeated separators\n",
    "print(str3.split()) \n",
    "print(str3.split(sep=','))\n",
    "print(str4.split('ha'))"
   ]
  },
  {
   "attachments": {},
   "cell_type": "markdown",
   "metadata": {},
   "source": [
    "`.join` and `.split` are true inverses of each other:"
   ]
  },
  {
   "cell_type": "code",
   "execution_count": null,
   "metadata": {},
   "outputs": [],
   "source": [
    "str5 = '1 2 3'\n",
    "res1 = ' '.join(str5.split())\n",
    "str6 = ['1', '2', '3']\n",
    "res2 = ' '.join(str6).split()\n",
    "print(str5 == res1 and str6 == res2)"
   ]
  },
  {
   "attachments": {},
   "cell_type": "markdown",
   "metadata": {},
   "source": [
    "A slightly harder exercise: write a matlab-like string-to-matrix parser.\n",
    "\n",
    "(https://www.mathworks.com/help/matlab/learn_matlab/matrices-and-arrays.html)"
   ]
  },
  {
   "cell_type": "code",
   "execution_count": null,
   "metadata": {},
   "outputs": [],
   "source": [
    "def create_matrix(s: str) -> list[list[int]]:\n",
    "    '''\n",
    "    Given a string of digits, semicolons and spaces, where\n",
    "    each space separates elements of one row in a matrix and each semicolon separates different rows,\n",
    "    return a resulting matrix.\n",
    "    It is guaranteed, that there is no inconsistency in the number of elements in every row and column\n",
    "    and that the parentheses are matched correctly.\n",
    "    Ex.: '1 2;3 4' -> [[1, 2], [3, 4]]\n",
    "    '''\n",
    "    ..."
   ]
  },
  {
   "cell_type": "code",
   "execution_count": null,
   "metadata": {},
   "outputs": [],
   "source": [
    "# test\n",
    "assert create_matrix('1 2;3 4') == [[1, 2], [3, 4]]\n",
    "assert create_matrix('1 3 5; 2 4 6; 7 8 10') == [[1, 3, 5], [2, 4, 6], [7, 8, 10]]\n",
    "assert create_matrix('1;2;3') == [[1], [2], [3]]\n",
    "assert create_matrix('1 2 3') == [[1, 2, 3]]"
   ]
  },
  {
   "attachments": {},
   "cell_type": "markdown",
   "metadata": {},
   "source": [
    "`str.upper str.lower str.title`\n",
    "\n",
    "One can also make a string uppercase/lowercase as well as make it into a title:"
   ]
  },
  {
   "cell_type": "code",
   "execution_count": null,
   "metadata": {},
   "outputs": [],
   "source": [
    "print('hElLo, hoW aRe thIngS?'.upper())\n",
    "print('hElLo, hoW aRe thIngS?'.lower())\n",
    "print('hElLo, hoW aRe thIngS?'.title())"
   ]
  },
  {
   "cell_type": "code",
   "execution_count": null,
   "metadata": {},
   "outputs": [],
   "source": [
    "def swap_case(s: str) -> str:\n",
    "    '''\n",
    "    Given a string of symbols,\n",
    "    return a new string where every uppercase letter is lowercase and vice versa.\n",
    "    Ex.: 'aBCde' -> 'AbcDE'\n",
    "    '''\n",
    "    ..."
   ]
  },
  {
   "cell_type": "code",
   "execution_count": null,
   "metadata": {},
   "outputs": [],
   "source": [
    "# test\n",
    "assert swap_case('aUhfEq') == 'AuHFeQ'\n",
    "assert swap_case('i') == 'I'\n",
    "assert swap_case('i_') == 'I_'\n",
    "assert swap_case('') == ''\n",
    "assert swap_case(string.ascii_lowercase) == string.ascii_uppercase"
   ]
  },
  {
   "attachments": {},
   "cell_type": "markdown",
   "metadata": {},
   "source": [
    "`str.endswith str.startswith`\n",
    "\n",
    "speak for themselves"
   ]
  },
  {
   "cell_type": "code",
   "execution_count": null,
   "metadata": {},
   "outputs": [],
   "source": [
    "print('hello'.endswith('llo'))\n",
    "print('hello'.endswith('he'))\n",
    "print('hello'.startswith('lo'))\n",
    "print('hello'.startswith('hel'))"
   ]
  },
  {
   "attachments": {},
   "cell_type": "markdown",
   "metadata": {},
   "source": [
    "`str.find str.count`\n",
    "\n",
    "`.find` returns the lowest index in the string where substring is found; `.count` returns the number of occurrences of substring"
   ]
  },
  {
   "cell_type": "code",
   "execution_count": null,
   "metadata": {},
   "outputs": [],
   "source": [
    "print('01123424325'.find('2'))\n",
    "print('011234243225'.count('2'))"
   ]
  },
  {
   "attachments": {},
   "cell_type": "markdown",
   "metadata": {},
   "source": [
    "`str.replace`\n",
    "\n",
    "`.replace` returns a new string with all occurances of one substring are replaced by a new substring. It <b>does not</b> change the string itself."
   ]
  },
  {
   "cell_type": "code",
   "execution_count": null,
   "metadata": {},
   "outputs": [],
   "source": [
    "s1 = 'Hello, Lola'\n",
    "print(s1.replace('l', 'I')) # the 'L' didn't get changed because 'L' != 'l'\n",
    "\n",
    "s2 = 'abcruhbceucbcqe'\n",
    "print(s2.replace('bc', '_'))"
   ]
  },
  {
   "attachments": {},
   "cell_type": "markdown",
   "metadata": {},
   "source": [
    "Homework: look at `str.strip` and `str.format` on your own and then run the next cell."
   ]
  },
  {
   "cell_type": "code",
   "execution_count": null,
   "metadata": {},
   "outputs": [],
   "source": [
    "s3 = ' \\t\\t  hi   \\n     '\n",
    "print(f'before:[{s3}]')\n",
    "print(f'after:[{s3.strip()}]')\n",
    "\n",
    "s4 = 'Hello, my name is {}. I am {} years old.'\n",
    "name1 = 'Jaden'; age1 = 28\n",
    "name2 = 'Lola'; age2 = 19\n",
    "print(s4.format(name1, age1))\n",
    "print(s4.format(name2, age2))"
   ]
  },
  {
   "attachments": {},
   "cell_type": "markdown",
   "metadata": {},
   "source": [
    "Now create a string `s5` equal to `s4.format(name1, age1)` using another (newer) way of string formatting."
   ]
  },
  {
   "cell_type": "code",
   "execution_count": null,
   "metadata": {},
   "outputs": [],
   "source": [
    "s5 = ..."
   ]
  },
  {
   "cell_type": "code",
   "execution_count": null,
   "metadata": {},
   "outputs": [],
   "source": [
    "# test\n",
    "assert s5 == s4.format(name1, age1)"
   ]
  },
  {
   "attachments": {},
   "cell_type": "markdown",
   "metadata": {},
   "source": [
    "### `time`"
   ]
  },
  {
   "cell_type": "code",
   "execution_count": null,
   "metadata": {},
   "outputs": [],
   "source": [
    "import time"
   ]
  },
  {
   "attachments": {},
   "cell_type": "markdown",
   "metadata": {},
   "source": [
    "This module (as well as the next one) has the functionality to work with time mostly using the standard data types (like `float`s and `str`ings).\n",
    "\n",
    "Let's look at some useful and widely-used functions."
   ]
  },
  {
   "attachments": {},
   "cell_type": "markdown",
   "metadata": {},
   "source": [
    "`time`\n",
    "\n",
    "returns a floating number of seconds since the epoch (that is, January 1, 1970, 00:00:00 (UTC)). This number is often called \"Unix time\".\n",
    "\n",
    "`ctime`\n",
    "\n",
    "converts Unix time to a human-readable string format."
   ]
  },
  {
   "cell_type": "code",
   "execution_count": null,
   "metadata": {},
   "outputs": [],
   "source": [
    "current_unix_time = time.time()\n",
    "print(f'as for now, {current_unix_time} seconds have passed since 01.01.1970 00:00:00')"
   ]
  },
  {
   "cell_type": "code",
   "execution_count": null,
   "metadata": {},
   "outputs": [],
   "source": [
    "current_time_string = time.ctime(current_unix_time)\n",
    "print(f'now is {current_time_string}')\n",
    "\n",
    "# let's subtract 200k seconds from now and see where it takes us:\n",
    "two_hundr_k_secs_back_time_string = time.ctime(current_unix_time - 200_000)\n",
    "print(f'200k seconds ago was {two_hundr_k_secs_back_time_string}')"
   ]
  },
  {
   "attachments": {},
   "cell_type": "markdown",
   "metadata": {},
   "source": [
    "`perf_counter`\n",
    "\n",
    "If you want to measure the time performance of a piece of code, you should use the `perf_counter` function.\n",
    "\n",
    "Let's create a huge list of integers and find its sum in two ways."
   ]
  },
  {
   "cell_type": "code",
   "execution_count": null,
   "metadata": {},
   "outputs": [],
   "source": [
    "def create_list(size: int) -> list[int]:\n",
    "    assert size > 0, 'Size must be a positive number'\n",
    "    return list(range(size))"
   ]
  },
  {
   "cell_type": "code",
   "execution_count": null,
   "metadata": {},
   "outputs": [],
   "source": [
    "def sum_of_list_1(lst: list[int]) -> int:\n",
    "    s = 0\n",
    "    for el in lst:\n",
    "        s += el\n",
    "    return s"
   ]
  },
  {
   "attachments": {},
   "cell_type": "markdown",
   "metadata": {},
   "source": [
    "Come up with a better way:"
   ]
  },
  {
   "cell_type": "code",
   "execution_count": null,
   "metadata": {},
   "outputs": [],
   "source": [
    "def sum_of_list_2(lst: list[int]) -> int:\n",
    "    \"\"\"\n",
    "    Return a sum of all elements in a list.\n",
    "    \"\"\"\n",
    "    ...\n",
    "\n",
    "def sum_of_list_3(lst: list[int]) -> int:\n",
    "    \"\"\"\n",
    "    Knowing how the list is created (see `create_list` function), write a constant time algorithm\n",
    "    to return a sum of its elements.\n",
    "    \"\"\"\n",
    "    ..."
   ]
  },
  {
   "cell_type": "code",
   "execution_count": null,
   "metadata": {},
   "outputs": [],
   "source": [
    "huge_list = create_list(10_000_000) # you can change this number later to see how the time needed changes"
   ]
  },
  {
   "attachments": {},
   "cell_type": "markdown",
   "metadata": {},
   "source": [
    "Now, measure the time needed to run each of these functions (`delta_t` variables):"
   ]
  },
  {
   "cell_type": "code",
   "execution_count": null,
   "metadata": {},
   "outputs": [],
   "source": [
    "...\n",
    "res1 = sum_of_list_1(huge_list)\n",
    "delta_t_1 = ...\n",
    "print(f'sum_of_list_1 took {delta_t_1} seconds; the result is {res1}')"
   ]
  },
  {
   "cell_type": "code",
   "execution_count": null,
   "metadata": {},
   "outputs": [],
   "source": [
    "...\n",
    "res2 = sum_of_list_2(huge_list)\n",
    "delta_t_2 = ...\n",
    "print(f'sum_of_list_2 took {delta_t_2} seconds; the result is {res2}')"
   ]
  },
  {
   "cell_type": "code",
   "execution_count": null,
   "metadata": {},
   "outputs": [],
   "source": [
    "...\n",
    "res3 = sum_of_list_3(huge_list)\n",
    "delta_t_3 = ...\n",
    "print(f'sum_of_list_3 took {delta_t_3} seconds; the result is {res3}')"
   ]
  },
  {
   "cell_type": "code",
   "execution_count": null,
   "metadata": {},
   "outputs": [],
   "source": [
    "# test\n",
    "assert res1 == res2 == res3, 'The sums are not equal'\n",
    "assert delta_t_1 > delta_t_2, 'The second function must be faster than the first one'\n",
    "assert delta_t_2 > delta_t_3, 'The third function must be faster than the second one'"
   ]
  },
  {
   "attachments": {},
   "cell_type": "markdown",
   "metadata": {},
   "source": [
    "That's how we can measure time of one run of a function using `%time` magic in jupyter notebooks:"
   ]
  },
  {
   "cell_type": "code",
   "execution_count": null,
   "metadata": {},
   "outputs": [],
   "source": [
    "%time sum_of_list_1(huge_list)"
   ]
  },
  {
   "attachments": {},
   "cell_type": "markdown",
   "metadata": {},
   "source": [
    "That's how we can measure time of multiple runs of a function using `%%timeit` magic in jupyter notebooks:"
   ]
  },
  {
   "cell_type": "code",
   "execution_count": null,
   "metadata": {},
   "outputs": [],
   "source": [
    "%%timeit\n",
    "sum_of_list_1(huge_list)"
   ]
  },
  {
   "attachments": {},
   "cell_type": "markdown",
   "metadata": {},
   "source": [
    "Further reading: [jupyter magic](https://ipython.readthedocs.io/en/stable/interactive/magics.html#magic-time)."
   ]
  },
  {
   "attachments": {},
   "cell_type": "markdown",
   "metadata": {},
   "source": [
    "### `datetime`\n",
    "\n",
    "This module is similar to `time`, but it works with custom datetime objects: `datetime.datetime` "
   ]
  },
  {
   "cell_type": "code",
   "execution_count": null,
   "metadata": {},
   "outputs": [],
   "source": [
    "import datetime"
   ]
  },
  {
   "attachments": {},
   "cell_type": "markdown",
   "metadata": {},
   "source": [
    "You can create a `datetime` object like this:\n",
    "\n",
    "Note that the format is (year, month, date, hour, minute, second, microsecond); the last four parameters are optional and default to zero."
   ]
  },
  {
   "cell_type": "code",
   "execution_count": null,
   "metadata": {},
   "outputs": [],
   "source": [
    "dt1 = datetime.datetime(2006, 1, 25, 3, 23, 34, 12430)\n",
    "dt2 = datetime.datetime(2006, 1, 25)\n",
    "print(f'these objects have a special {type(dt1)} type')\n",
    "\n",
    "print(dt1, dt2, sep='\\n')"
   ]
  },
  {
   "attachments": {},
   "cell_type": "markdown",
   "metadata": {},
   "source": [
    "If you want to get a datetime object of the current time, use the `.now` method:"
   ]
  },
  {
   "cell_type": "code",
   "execution_count": null,
   "metadata": {},
   "outputs": [],
   "source": [
    "dt_now = datetime.datetime.now()\n",
    "\n",
    "print('now is:', dt_now)"
   ]
  },
  {
   "attachments": {},
   "cell_type": "markdown",
   "metadata": {},
   "source": [
    "<b>Why</b> storing a point in time as an object is useful?\n",
    "\n",
    "<b>Because</b> you can do cool arithmetic operations with it:"
   ]
  },
  {
   "cell_type": "code",
   "execution_count": null,
   "metadata": {},
   "outputs": [],
   "source": [
    "delta = dt_now - dt1\n",
    "print(type(delta))\n",
    "\n",
    "print(f'between now and {dt1} there are {delta}')"
   ]
  },
  {
   "attachments": {},
   "cell_type": "markdown",
   "metadata": {},
   "source": [
    "Similarly to how it's done in the `time` module, you can convert things into Unix time and\n",
    "create `datetime` objects from a Unix time number:"
   ]
  },
  {
   "cell_type": "code",
   "execution_count": null,
   "metadata": {},
   "outputs": [],
   "source": [
    "print(dt_now.timestamp())\n",
    "\n",
    "dt_from_unix = datetime.datetime.fromtimestamp(1_800_000_000)\n",
    "print(dt_from_unix)"
   ]
  },
  {
   "attachments": {},
   "cell_type": "markdown",
   "metadata": {},
   "source": [
    "Remember how we subtracted two `datetime` objects and got a `timedelta` object? The same works in reverse: we can add/subtract `timedelta` to/from `datetime` to get new `datetime`:"
   ]
  },
  {
   "cell_type": "code",
   "execution_count": null,
   "metadata": {},
   "outputs": [],
   "source": [
    "six_weeks = datetime.timedelta(days=6*7)\n",
    "print(six_weeks)\n",
    "\n",
    "print('six weeks in the future:', dt_now + six_weeks)\n",
    "print('six weeks in the past:', dt_now - six_weeks)"
   ]
  },
  {
   "cell_type": "code",
   "execution_count": null,
   "metadata": {},
   "outputs": [],
   "source": [
    "def datetime1() -> int:\n",
    "    '''\n",
    "    Returns an integer amount of whole seconds between 12 Jan 2013 12:00:00.0000 and 25 Jan 2006 03:30:26.0000\n",
    "    '''\n",
    "    ..."
   ]
  },
  {
   "cell_type": "code",
   "execution_count": null,
   "metadata": {},
   "outputs": [],
   "source": [
    "# test\n",
    "res = datetime1()\n",
    "assert isinstance(res, int), 'Not an integer'\n",
    "assert sum(map(int, str(res))) == 37, 'Wrong answer'"
   ]
  },
  {
   "cell_type": "code",
   "execution_count": null,
   "metadata": {},
   "outputs": [],
   "source": [
    "def datetime2(dt: datetime.datetime) -> str:\n",
    "    '''\n",
    "    Return a string representation of a given datetime object in the following format:\n",
    "        dd.mm.yyyy hh:mm:ss\n",
    "    '''\n",
    "    ..."
   ]
  },
  {
   "cell_type": "code",
   "execution_count": null,
   "metadata": {},
   "outputs": [],
   "source": [
    "import re, random\n",
    "assert datetime2(dt_now) == '10.05.2023 09:49:46'\n",
    "assert datetime2(dt_from_unix) == '13.09.2020 14:26:40'\n",
    "for _ in range(15):\n",
    "    rnd_timestamp = random.randint(1_000_000, 1_800_000_000)\n",
    "    result = datetime2(datetime.datetime.fromtimestamp(rnd_timestamp))\n",
    "    assert re.match(r'\\d\\d.\\d\\d.\\d{4} \\d\\d:\\d\\d:\\d\\d', result), \\\n",
    "        f'{result} failed; expected format \"dd.mm.yyyy hh:mm:ss\", got {result}'\n",
    "    print('+', end='')"
   ]
  },
  {
   "attachments": {},
   "cell_type": "markdown",
   "metadata": {},
   "source": [
    "### `math`\n",
    "\n",
    "This module contains essential math functions like `sqrt`, `sin`, `cos` and many others.\n",
    "\n",
    "Overall, the contents of it are rather straightforward, so there will only be exercises :)"
   ]
  },
  {
   "cell_type": "code",
   "execution_count": null,
   "metadata": {},
   "outputs": [],
   "source": [
    "import math"
   ]
  },
  {
   "cell_type": "code",
   "execution_count": null,
   "metadata": {},
   "outputs": [],
   "source": [
    "def math1(r: float) -> float:\n",
    "    '''\n",
    "    Given a circle's radius, return its area.\n",
    "    r>0.\n",
    "    '''\n",
    "    ..."
   ]
  },
  {
   "cell_type": "code",
   "execution_count": null,
   "metadata": {},
   "outputs": [],
   "source": [
    "# test\n",
    "assert math.isclose(math1(1), math.pi)\n",
    "assert math.isclose(math1(math.pi), math.pi**3)\n",
    "assert math.isclose(math1(2.543), 20.3162053102745)\n",
    "assert math.isclose(math1(0), 0)"
   ]
  },
  {
   "cell_type": "code",
   "execution_count": null,
   "metadata": {},
   "outputs": [],
   "source": [
    "def math2(a: float, b: float, alpha: float) -> tuple[float, float]:\n",
    "    '''\n",
    "    Given two sides of a triangle and an angle (in radians) between those sides,\n",
    "    return a tuple (third side's length, triangle's area).\n",
    "    a > 0; b > 0; 0 < alpha < pi.\n",
    "    '''\n",
    "    ..."
   ]
  },
  {
   "cell_type": "code",
   "execution_count": null,
   "metadata": {},
   "outputs": [],
   "source": [
    "# test\n",
    "def _isclose_tup(tup1, tup2): return all(math.isclose(*pair) for pair in zip(tup1, tup2))\n",
    "\n",
    "assert _isclose_tup(math2(2.0, 2.0, math.pi/3), (2.0, math.sqrt(3)))\n",
    "assert _isclose_tup(math2(3.0, 4.0, math.pi/2), (5.0, 6.0))\n",
    "assert _isclose_tup(math2(3.54, 2.1, 2.3), (5.1814854901262075, 2.771786273660869))"
   ]
  },
  {
   "cell_type": "code",
   "execution_count": null,
   "metadata": {},
   "outputs": [],
   "source": [
    "def math3(init: float, p: float, goal: float) -> int:\n",
    "    '''*\n",
    "    Given an initial amount of money (init) and interest (p) in percent,\n",
    "    return a minimum whole number of years to reach (goal).\n",
    "    0 < init < goal, 0 < p <= 100\n",
    "    Ex.: init=2.3, p=5(%), goal=3.2 -> 7, because 2.3 * (1.05)^7 > 3.2\n",
    "    '''\n",
    "    ..."
   ]
  },
  {
   "cell_type": "code",
   "execution_count": null,
   "metadata": {},
   "outputs": [],
   "source": [
    "# test\n",
    "assert math3(2.3, 5.0, 3.2) == 7\n",
    "assert math3(1.0, 50.0, 2.0) == 2\n",
    "assert math3(1.0, 100.0, 33.0) == 6\n",
    "assert math3(452.78, 7.28, 605.8) == 5\n",
    "assert math3(10.0, 10.0, 11.0) == 1"
   ]
  },
  {
   "cell_type": "code",
   "execution_count": null,
   "metadata": {},
   "outputs": [],
   "source": [
    "def math4() -> float:\n",
    "    '''*\n",
    "    Approximate the number e using the `factorial()` function.\n",
    "    Reach an accuracy of at least 0.5%.\n",
    "    Hint: google for the definition of the number e.\n",
    "    '''\n",
    "    ..."
   ]
  },
  {
   "cell_type": "code",
   "execution_count": null,
   "metadata": {},
   "outputs": [],
   "source": [
    "# test\n",
    "assert abs(math4()-math.e)/math.e <= 0.005"
   ]
  },
  {
   "cell_type": "code",
   "execution_count": null,
   "metadata": {},
   "outputs": [],
   "source": [
    "from typing import Callable\n",
    "\n",
    "def math5(f: Callable[[float], float], x0: float) -> float:\n",
    "    '''*\n",
    "    Approximate the first derivative of the function f at the point x0\n",
    "    with the tolerance sufficient to pass the tests :)\n",
    "    Hint: google for the 'definition of the first derivative of a function' \n",
    "    Ex.: f(x) = x^2, x0 = 1 -> f'(1)=2 (because f'(x)=2x)\n",
    "    '''\n",
    "    ..."
   ]
  },
  {
   "cell_type": "code",
   "execution_count": null,
   "metadata": {},
   "outputs": [],
   "source": [
    "import math\n",
    "assert math.isclose(math5(lambda x: x**2, 1), 2, rel_tol=1e-5)\n",
    "assert math.isclose(math5(lambda x: x, 4), 1, rel_tol=1e-5)\n",
    "assert math.isclose(math5(lambda x: x*(1-x), 0.5), 0, abs_tol=1e-5)\n",
    "assert math.isclose(math5(math.sin, math.pi), -1, rel_tol=1e-5)"
   ]
  },
  {
   "attachments": {},
   "cell_type": "markdown",
   "metadata": {},
   "source": [
    "### `random`\n",
    "\n",
    "This module provides basic tools for generating pseudo-random numbers.\n",
    "\n",
    "You will need the following functions: `randint/randrange random choice`"
   ]
  },
  {
   "cell_type": "code",
   "execution_count": null,
   "metadata": {},
   "outputs": [],
   "source": [
    "import random"
   ]
  },
  {
   "cell_type": "code",
   "execution_count": null,
   "metadata": {},
   "outputs": [],
   "source": [
    "from typing import Literal\n",
    "\n",
    "\n",
    "def rnd1() -> Literal[1, 2, 3, 4, 5, 6]:\n",
    "    '''\n",
    "    Throw a die:\n",
    "    Return 1, 2, 3, 4, 5 or 6.\n",
    "    '''\n",
    "    ..."
   ]
  },
  {
   "cell_type": "code",
   "execution_count": null,
   "metadata": {},
   "outputs": [],
   "source": [
    "# test\n",
    "import math\n",
    "samples = [rnd1() for _ in range(1000)]\n",
    "assert math.isclose(sum(samples)/1000, 3.5, abs_tol=0.2)"
   ]
  },
  {
   "cell_type": "code",
   "execution_count": null,
   "metadata": {},
   "outputs": [],
   "source": [
    "def rnd2(a: float, b: float) -> float:\n",
    "    '''\n",
    "    Return a floating point random number between a and b. Do not use `uniform`.\n",
    "    a < b.\n",
    "    '''\n",
    "    ..."
   ]
  },
  {
   "cell_type": "code",
   "execution_count": null,
   "metadata": {},
   "outputs": [],
   "source": [
    "def rnd3_v1(lst: list[int]) -> int:\n",
    "    '''\n",
    "    Return a random element from the list (lst). Do not use `choice`.\n",
    "    '''\n",
    "    ...\n",
    "\n",
    "def rnd3_v2(lst: list[int]) -> int:\n",
    "    '''\n",
    "    Return a random element from the list (lst). Use `choice`.\n",
    "    '''\n",
    "    ..."
   ]
  },
  {
   "cell_type": "code",
   "execution_count": null,
   "metadata": {},
   "outputs": [],
   "source": [
    "def rnd4(n: int) -> list[int]:\n",
    "    '''\n",
    "    Return a list of length (n) of 0s and 1s as if they are a result of a coin tossing experiment.\n",
    "    Ex.: 4 -> [0, 0, 1, 0]; 5 -> [1, 0, 1, 1, 1]\n",
    "    '''\n",
    "    ..."
   ]
  },
  {
   "cell_type": "code",
   "execution_count": null,
   "metadata": {},
   "outputs": [],
   "source": [
    "import random\n",
    "\n",
    "def rnd5():\n",
    "    '''\n",
    "    Run the following statistics experiment:\n",
    "    Return an average minimum number of random numbers from (0, 1) you need to add for the sum to exceed 1.\n",
    "    Average over a simulation with N=1_000_000 trials.\n",
    "    Ex.: 0.7788594427352749 + 0.5991309590911353 > 1 (2 numbers)\n",
    "         0.2923446074885741 + 0.2638657638579688 + 0.3936306164134894 + 0.721303125833925 > 1 (4 numbers)\n",
    "    What number is showing up?\n",
    "    '''\n",
    "    N = 1_000_000\n",
    "    ..."
   ]
  },
  {
   "cell_type": "code",
   "execution_count": null,
   "metadata": {},
   "outputs": [],
   "source": []
  },
  {
   "attachments": {},
   "cell_type": "markdown",
   "metadata": {},
   "source": [
    "## Part 2.1: TEST YOURSELF"
   ]
  },
  {
   "attachments": {},
   "cell_type": "markdown",
   "metadata": {},
   "source": [
    "### Problem 1"
   ]
  },
  {
   "cell_type": "code",
   "execution_count": null,
   "metadata": {},
   "outputs": [],
   "source": [
    "import cmath\n",
    "\n",
    "def problem1(p: float, q: float) -> tuple[complex, complex]:\n",
    "    '''\n",
    "    Solve a general quadratic equation x^2 + p*x + q = 0.\n",
    "    Return a tuple of two complex roots.\n",
    "    Hint: use the `cmath` module instead of `math` to deal with complex numbers.\n",
    "    '''\n",
    "    ..."
   ]
  },
  {
   "cell_type": "code",
   "execution_count": null,
   "metadata": {},
   "outputs": [],
   "source": [
    "# test\n",
    "import cmath\n",
    "def _isclose_tup_complex(tup1, tup2): return all(cmath.isclose(*pair) for pair in zip(tup1, tup2))\n",
    "\n",
    "assert _isclose_tup_complex(problem1(-5., 6.), ((3+0j), (2+0j)))\n",
    "assert _isclose_tup_complex(problem1(0., -9.), ((3+0j), (-3+0j)))\n",
    "assert _isclose_tup_complex(problem1(0., 0.), (0j, 0j))\n",
    "assert _isclose_tup_complex(problem1(0., 1.), (1j, -1j))\n",
    "assert _isclose_tup_complex(problem1(5., 9.), ((-2.5+1.6583123951777j), (-2.5-1.6583123951777j)))\n",
    "assert _isclose_tup_complex(problem1(4., 5.), ((-2-1j), (-2+1j)))"
   ]
  },
  {
   "attachments": {},
   "cell_type": "markdown",
   "metadata": {},
   "source": [
    "### Problem 2"
   ]
  },
  {
   "cell_type": "code",
   "execution_count": null,
   "metadata": {},
   "outputs": [],
   "source": [
    "import random, math\n",
    "\n",
    "def problem2() -> float:\n",
    "    '''\n",
    "    Run the following experiment: \n",
    "    approximate a probability of \n",
    "    two randomly chosen integers from (1, 10^6) being co-prime; that is, their greatest common divisor = 1.\n",
    "    '''\n",
    "    N = 1_000_000\n",
    "    ..."
   ]
  },
  {
   "cell_type": "code",
   "execution_count": null,
   "metadata": {},
   "outputs": [],
   "source": [
    "# test\n",
    "# def riemann_zeta(n: int) -> float: return sum(1./k**n for k in range(1, 1000))\n",
    "# irz2 = 1./riemann_zeta(2)\n",
    "irz2 = 6. / math.pi**2\n",
    "res = problem2()\n",
    "rel_error = abs(res - irz2) / irz2\n",
    "print(f'exact value = {irz2:.5f},\\nyour approximation = {res:.5f},\\nrelative error = {rel_error:%}')\n",
    "assert rel_error > 0.05, 'Wrong answer.'\n",
    "assert rel_error < 0.005, 'Not accurate enough. Increase the number of trials'"
   ]
  },
  {
   "attachments": {},
   "cell_type": "markdown",
   "metadata": {},
   "source": [
    "### Problem 3"
   ]
  },
  {
   "cell_type": "code",
   "execution_count": null,
   "metadata": {},
   "outputs": [],
   "source": [
    "import datetime, random\n",
    "\n",
    "def list_of_fridays() -> list[datetime.datetime]:\n",
    "    '''\n",
    "    Returns a list of all Fridays 13th between 01.01.1970 and today\n",
    "    '''\n",
    "    ...\n",
    "\n",
    "FRIDAYS = list_of_fridays()\n",
    "\n",
    "def problem3_1() -> datetime.datetime:\n",
    "    '''\n",
    "    Returns a random Friday 13th from the list_of_fridays(). \n",
    "    Hint: use the global variable FRIDAYS here.\n",
    "    '''\n",
    "    ...\n",
    "\n",
    "def problem3_2() -> str:\n",
    "    '''\n",
    "    Returns the next closest Friday 13th as a string of the format 'dd.mm.yyyy'\n",
    "    '''\n",
    "    ...\n"
   ]
  },
  {
   "cell_type": "code",
   "execution_count": null,
   "metadata": {},
   "outputs": [],
   "source": [
    "# test\n",
    "if datetime.datetime.now().date() > datetime.date(2023, 10, 1):\n",
    "    print('WARNING: 1st and 2nd tests may not be relevant')\n",
    "frds = list_of_fridays()\n",
    "assert len(frds) == 92, 'Wrong number of fridays'\n",
    "assert all(el in frds and el.weekday() == 4 and el.day == 13 for el in [problem3_1() for _ in range(10)]), \\\n",
    "    'Some random dates are not Fridays or not 13th or not sampled from the list_of_fridays()'\n",
    "import hashlib\n",
    "assert hashlib.sha256(problem3_2().encode()).hexdigest()[:7] == '23c40d0', 'Wrong answer'"
   ]
  },
  {
   "attachments": {},
   "cell_type": "markdown",
   "metadata": {},
   "source": [
    "### Problem 4"
   ]
  },
  {
   "cell_type": "code",
   "execution_count": null,
   "metadata": {},
   "outputs": [],
   "source": [
    "def problem4() -> float:\n",
    "    '''**\n",
    "    Approximate the number pi using the `random()` function.\n",
    "    Reach an accuracy of at least 1%.\n",
    "    '''\n",
    "    N = 1_000_000\n",
    "    ..."
   ]
  },
  {
   "cell_type": "code",
   "execution_count": null,
   "metadata": {},
   "outputs": [],
   "source": [
    "# test\n",
    "res = problem4()\n",
    "assert abs(res - math.pi) / math.pi < 0.01"
   ]
  },
  {
   "cell_type": "markdown",
   "metadata": {},
   "source": [
    "### Problem 5"
   ]
  },
  {
   "cell_type": "code",
   "execution_count": null,
   "metadata": {},
   "outputs": [],
   "source": [
    "from typing import Callable\n",
    "import datetime"
   ]
  },
  {
   "cell_type": "code",
   "execution_count": null,
   "metadata": {},
   "outputs": [],
   "source": [
    "def problem5_1(date: str) -> str:\n",
    "    \"\"\"\n",
    "    Given a string of the format 'dd.mm.yyyy', return a string of the format 'dd.mm.yyyy', \n",
    "    where the date is the next day after the given date.\n",
    "    DO NOT USE datetime MODULE.\n",
    "\n",
    "    Ex.:\n",
    "    '01.01.2020' -> '02.01.2020'\n",
    "    '30.04.2021' -> '01.05.2021'\n",
    "    '31.12.2020' -> '01.01.2021'\n",
    "    '28.02.2020' -> '29.02.2020'\n",
    "    \"\"\"\n",
    "    ..."
   ]
  },
  {
   "cell_type": "code",
   "execution_count": null,
   "metadata": {},
   "outputs": [],
   "source": [
    "def problem5_2(date: str) -> str:\n",
    "    \"\"\"\n",
    "    Write the same function as above, but use the datetime module.\n",
    "    \"\"\"\n",
    "    ..."
   ]
  },
  {
   "cell_type": "code",
   "execution_count": null,
   "metadata": {},
   "outputs": [],
   "source": [
    "def test_next_date(function: Callable[[str], str]):\n",
    "    test_cases = [\n",
    "        (\"01.01.2022\", \"02.01.2022\"),\n",
    "        (\"31.01.2022\", \"01.02.2022\"),\n",
    "        (\"28.02.2022\", \"01.03.2022\"),\n",
    "        (\"30.04.2022\", \"01.05.2022\"),\n",
    "        (\"31.12.2022\", \"01.01.2023\"),\n",
    "        (\"28.02.2024\", \"29.02.2024\"),\n",
    "        (\"28.02.1900\", \"01.03.1900\"),\n",
    "        (\"28.02.1600\", \"29.02.1600\"),\n",
    "    ]\n",
    "    print(f'Testing {function.__name__}... ')\n",
    "    for date, expected in test_cases:\n",
    "        assert function(date) == expected, f\"{date} != {expected}\"\n",
    "        print(f\"{date} -> {expected} OK\")"
   ]
  },
  {
   "cell_type": "code",
   "execution_count": null,
   "metadata": {},
   "outputs": [],
   "source": [
    "test_next_date(problem5_1)"
   ]
  },
  {
   "cell_type": "code",
   "execution_count": null,
   "metadata": {},
   "outputs": [],
   "source": [
    "test_next_date(problem5_2)"
   ]
  }
 ],
 "metadata": {
  "kernelspec": {
   "display_name": "thevenv",
   "language": "python",
   "name": "python3"
  },
  "language_info": {
   "codemirror_mode": {
    "name": "ipython",
    "version": 3
   },
   "file_extension": ".py",
   "mimetype": "text/x-python",
   "name": "python",
   "nbconvert_exporter": "python",
   "pygments_lexer": "ipython3",
   "version": "3.12.0"
  },
  "orig_nbformat": 4
 },
 "nbformat": 4,
 "nbformat_minor": 2
}
